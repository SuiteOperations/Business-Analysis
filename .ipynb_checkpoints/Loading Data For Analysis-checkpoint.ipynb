{
 "cells": [
  {
   "cell_type": "code",
   "execution_count": 54,
   "metadata": {},
   "outputs": [],
   "source": [
    "import pandas as pd\n",
    "import numpy as np\n",
    "import matplotlib.pyplot as plt\n",
    "import seaborn as sns"
   ]
  },
  {
   "cell_type": "code",
   "execution_count": 55,
   "metadata": {},
   "outputs": [
    {
     "data": {
      "text/plain": [
       "<pandas.io.excel.ExcelFile at 0x129c27278>"
      ]
     },
     "execution_count": 55,
     "metadata": {},
     "output_type": "execute_result"
    }
   ],
   "source": [
    "xlsx = pd.ExcelFile('/Users/joshua/Data/sales_data.xlsx')\n",
    "xlsx"
   ]
  },
  {
   "cell_type": "code",
   "execution_count": 56,
   "metadata": {},
   "outputs": [
    {
     "data": {
      "text/plain": [
       "['so_tran']"
      ]
     },
     "execution_count": 56,
     "metadata": {},
     "output_type": "execute_result"
    }
   ],
   "source": [
    "sheets = xlsx.sheet_names\n",
    "sheets"
   ]
  },
  {
   "cell_type": "code",
   "execution_count": 57,
   "metadata": {
    "scrolled": true
   },
   "outputs": [
    {
     "data": {
      "text/html": [
       "<div>\n",
       "<style scoped>\n",
       "    .dataframe tbody tr th:only-of-type {\n",
       "        vertical-align: middle;\n",
       "    }\n",
       "\n",
       "    .dataframe tbody tr th {\n",
       "        vertical-align: top;\n",
       "    }\n",
       "\n",
       "    .dataframe thead th {\n",
       "        text-align: right;\n",
       "    }\n",
       "</style>\n",
       "<table border=\"1\" class=\"dataframe\">\n",
       "  <thead>\n",
       "    <tr style=\"text-align: right;\">\n",
       "      <th></th>\n",
       "      <th>sono</th>\n",
       "      <th>custno</th>\n",
       "      <th>cname</th>\n",
       "      <th>custpo</th>\n",
       "      <th>item</th>\n",
       "      <th>altitem</th>\n",
       "      <th>acustno</th>\n",
       "      <th>acustpo</th>\n",
       "      <th>acustname</th>\n",
       "      <th>cost</th>\n",
       "      <th>...</th>\n",
       "      <th>qtyshp</th>\n",
       "      <th>qtylft</th>\n",
       "      <th>qtybo</th>\n",
       "      <th>extprice</th>\n",
       "      <th>shipqty</th>\n",
       "      <th>seq</th>\n",
       "      <th>sostat</th>\n",
       "      <th>sotype</th>\n",
       "      <th>created</th>\n",
       "      <th>qtytoshp</th>\n",
       "    </tr>\n",
       "  </thead>\n",
       "  <tbody>\n",
       "    <tr>\n",
       "      <th>0</th>\n",
       "      <td>170023</td>\n",
       "      <td>800</td>\n",
       "      <td>ANDERSON INSTRUMENT CO.</td>\n",
       "      <td>PO121654</td>\n",
       "      <td>BB1P111A08</td>\n",
       "      <td>55408A0000</td>\n",
       "      <td>NaN</td>\n",
       "      <td>NaN</td>\n",
       "      <td>NaN</td>\n",
       "      <td>0.06260</td>\n",
       "      <td>...</td>\n",
       "      <td>1000</td>\n",
       "      <td>0</td>\n",
       "      <td>0</td>\n",
       "      <td>160.00</td>\n",
       "      <td>0</td>\n",
       "      <td>1</td>\n",
       "      <td>C</td>\n",
       "      <td>O</td>\n",
       "      <td>2016-01-04</td>\n",
       "      <td>0</td>\n",
       "    </tr>\n",
       "    <tr>\n",
       "      <th>1</th>\n",
       "      <td>170022</td>\n",
       "      <td>800</td>\n",
       "      <td>ANDERSON INSTRUMENT CO.</td>\n",
       "      <td>PO123450</td>\n",
       "      <td>5115-15-H-ST</td>\n",
       "      <td>36605H0005</td>\n",
       "      <td>NaN</td>\n",
       "      <td>NaN</td>\n",
       "      <td>NaN</td>\n",
       "      <td>0.03893</td>\n",
       "      <td>...</td>\n",
       "      <td>74</td>\n",
       "      <td>0</td>\n",
       "      <td>0</td>\n",
       "      <td>5.51</td>\n",
       "      <td>0</td>\n",
       "      <td>1</td>\n",
       "      <td>C</td>\n",
       "      <td>O</td>\n",
       "      <td>2016-01-04</td>\n",
       "      <td>0</td>\n",
       "    </tr>\n",
       "    <tr>\n",
       "      <th>2</th>\n",
       "      <td>170020</td>\n",
       "      <td>800</td>\n",
       "      <td>ANDERSON INSTRUMENT CO.</td>\n",
       "      <td>PO123419</td>\n",
       "      <td>4778</td>\n",
       "      <td>42080A0001</td>\n",
       "      <td>NaN</td>\n",
       "      <td>NaN</td>\n",
       "      <td>NaN</td>\n",
       "      <td>0.42600</td>\n",
       "      <td>...</td>\n",
       "      <td>200</td>\n",
       "      <td>0</td>\n",
       "      <td>0</td>\n",
       "      <td>99.36</td>\n",
       "      <td>0</td>\n",
       "      <td>1</td>\n",
       "      <td>C</td>\n",
       "      <td>O</td>\n",
       "      <td>2016-01-04</td>\n",
       "      <td>0</td>\n",
       "    </tr>\n",
       "    <tr>\n",
       "      <th>3</th>\n",
       "      <td>170019</td>\n",
       "      <td>800</td>\n",
       "      <td>ANDERSON INSTRUMENT CO.</td>\n",
       "      <td>PO119193</td>\n",
       "      <td>36240S0505</td>\n",
       "      <td>36240S0505</td>\n",
       "      <td>NaN</td>\n",
       "      <td>NaN</td>\n",
       "      <td>NaN</td>\n",
       "      <td>0.02701</td>\n",
       "      <td>...</td>\n",
       "      <td>500</td>\n",
       "      <td>0</td>\n",
       "      <td>0</td>\n",
       "      <td>78.20</td>\n",
       "      <td>0</td>\n",
       "      <td>1</td>\n",
       "      <td>C</td>\n",
       "      <td>O</td>\n",
       "      <td>2016-01-04</td>\n",
       "      <td>0</td>\n",
       "    </tr>\n",
       "    <tr>\n",
       "      <th>4</th>\n",
       "      <td>170018</td>\n",
       "      <td>800</td>\n",
       "      <td>ANDERSON INSTRUMENT CO.</td>\n",
       "      <td>PO119386</td>\n",
       "      <td>44472B0001</td>\n",
       "      <td>44472B0001</td>\n",
       "      <td>NaN</td>\n",
       "      <td>NaN</td>\n",
       "      <td>NaN</td>\n",
       "      <td>0.19094</td>\n",
       "      <td>...</td>\n",
       "      <td>50</td>\n",
       "      <td>0</td>\n",
       "      <td>0</td>\n",
       "      <td>107.50</td>\n",
       "      <td>0</td>\n",
       "      <td>1</td>\n",
       "      <td>C</td>\n",
       "      <td>O</td>\n",
       "      <td>2016-01-04</td>\n",
       "      <td>0</td>\n",
       "    </tr>\n",
       "  </tbody>\n",
       "</table>\n",
       "<p>5 rows × 22 columns</p>\n",
       "</div>"
      ],
      "text/plain": [
       "     sono  custno                    cname    custpo          item  \\\n",
       "0  170023     800  ANDERSON INSTRUMENT CO.  PO121654    BB1P111A08   \n",
       "1  170022     800  ANDERSON INSTRUMENT CO.  PO123450  5115-15-H-ST   \n",
       "2  170020     800  ANDERSON INSTRUMENT CO.  PO123419          4778   \n",
       "3  170019     800  ANDERSON INSTRUMENT CO.  PO119193    36240S0505   \n",
       "4  170018     800  ANDERSON INSTRUMENT CO.  PO119386    44472B0001   \n",
       "\n",
       "      altitem  acustno acustpo acustname     cost   ...     qtyshp  qtylft  \\\n",
       "0  55408A0000      NaN     NaN       NaN  0.06260   ...       1000       0   \n",
       "1  36605H0005      NaN     NaN       NaN  0.03893   ...         74       0   \n",
       "2  42080A0001      NaN     NaN       NaN  0.42600   ...        200       0   \n",
       "3  36240S0505      NaN     NaN       NaN  0.02701   ...        500       0   \n",
       "4  44472B0001      NaN     NaN       NaN  0.19094   ...         50       0   \n",
       "\n",
       "   qtybo  extprice  shipqty  seq  sostat  sotype    created qtytoshp  \n",
       "0      0    160.00        0    1       C       O 2016-01-04        0  \n",
       "1      0      5.51        0    1       C       O 2016-01-04        0  \n",
       "2      0     99.36        0    1       C       O 2016-01-04        0  \n",
       "3      0     78.20        0    1       C       O 2016-01-04        0  \n",
       "4      0    107.50        0    1       C       O 2016-01-04        0  \n",
       "\n",
       "[5 rows x 22 columns]"
      ]
     },
     "execution_count": 57,
     "metadata": {},
     "output_type": "execute_result"
    }
   ],
   "source": [
    "df = pd.read_excel(xlsx, sheets[0])\n",
    "df.head()"
   ]
  },
  {
   "cell_type": "code",
   "execution_count": 58,
   "metadata": {},
   "outputs": [
    {
     "data": {
      "text/plain": [
       "Index(['sono', 'custno', 'cname', 'custpo', 'item', 'altitem', 'acustno',\n",
       "       'acustpo', 'acustname', 'cost', 'price', 'qtyord', 'qtyshp', 'qtylft',\n",
       "       'qtybo', 'extprice', 'shipqty', 'seq', 'sostat', 'sotype', 'created',\n",
       "       'qtytoshp'],\n",
       "      dtype='object')"
      ]
     },
     "execution_count": 58,
     "metadata": {},
     "output_type": "execute_result"
    }
   ],
   "source": [
    "df.columns"
   ]
  },
  {
   "cell_type": "code",
   "execution_count": 59,
   "metadata": {},
   "outputs": [
    {
     "data": {
      "text/plain": [
       "(34489, 22)"
      ]
     },
     "execution_count": 59,
     "metadata": {},
     "output_type": "execute_result"
    }
   ],
   "source": [
    "df.shape"
   ]
  },
  {
   "cell_type": "code",
   "execution_count": 65,
   "metadata": {},
   "outputs": [
    {
     "data": {
      "text/html": [
       "<div>\n",
       "<style scoped>\n",
       "    .dataframe tbody tr th:only-of-type {\n",
       "        vertical-align: middle;\n",
       "    }\n",
       "\n",
       "    .dataframe tbody tr th {\n",
       "        vertical-align: top;\n",
       "    }\n",
       "\n",
       "    .dataframe thead th {\n",
       "        text-align: right;\n",
       "    }\n",
       "</style>\n",
       "<table border=\"1\" class=\"dataframe\">\n",
       "  <thead>\n",
       "    <tr style=\"text-align: right;\">\n",
       "      <th></th>\n",
       "      <th>custno</th>\n",
       "      <th>item</th>\n",
       "      <th>qtyshp</th>\n",
       "      <th>cost</th>\n",
       "    </tr>\n",
       "  </thead>\n",
       "  <tbody>\n",
       "    <tr>\n",
       "      <th>0</th>\n",
       "      <td>800</td>\n",
       "      <td>BB1P111A08</td>\n",
       "      <td>1000</td>\n",
       "      <td>0.06260</td>\n",
       "    </tr>\n",
       "    <tr>\n",
       "      <th>1</th>\n",
       "      <td>800</td>\n",
       "      <td>5115-15-H-ST</td>\n",
       "      <td>74</td>\n",
       "      <td>0.03893</td>\n",
       "    </tr>\n",
       "    <tr>\n",
       "      <th>2</th>\n",
       "      <td>800</td>\n",
       "      <td>4778</td>\n",
       "      <td>200</td>\n",
       "      <td>0.42600</td>\n",
       "    </tr>\n",
       "    <tr>\n",
       "      <th>3</th>\n",
       "      <td>800</td>\n",
       "      <td>36240S0505</td>\n",
       "      <td>500</td>\n",
       "      <td>0.02701</td>\n",
       "    </tr>\n",
       "    <tr>\n",
       "      <th>4</th>\n",
       "      <td>800</td>\n",
       "      <td>44472B0001</td>\n",
       "      <td>50</td>\n",
       "      <td>0.19094</td>\n",
       "    </tr>\n",
       "  </tbody>\n",
       "</table>\n",
       "</div>"
      ],
      "text/plain": [
       "   custno          item  qtyshp     cost\n",
       "0     800    BB1P111A08    1000  0.06260\n",
       "1     800  5115-15-H-ST      74  0.03893\n",
       "2     800          4778     200  0.42600\n",
       "3     800    36240S0505     500  0.02701\n",
       "4     800    44472B0001      50  0.19094"
      ]
     },
     "execution_count": 65,
     "metadata": {},
     "output_type": "execute_result"
    }
   ],
   "source": [
    "data = df[['custno','item','qtyshp','cost']].copy()\n",
    "data.head()"
   ]
  },
  {
   "cell_type": "code",
   "execution_count": 67,
   "metadata": {},
   "outputs": [
    {
     "data": {
      "text/html": [
       "<div>\n",
       "<style scoped>\n",
       "    .dataframe tbody tr th:only-of-type {\n",
       "        vertical-align: middle;\n",
       "    }\n",
       "\n",
       "    .dataframe tbody tr th {\n",
       "        vertical-align: top;\n",
       "    }\n",
       "\n",
       "    .dataframe thead th {\n",
       "        text-align: right;\n",
       "    }\n",
       "</style>\n",
       "<table border=\"1\" class=\"dataframe\">\n",
       "  <thead>\n",
       "    <tr style=\"text-align: right;\">\n",
       "      <th></th>\n",
       "      <th>custno</th>\n",
       "      <th>item</th>\n",
       "      <th>qtyshp</th>\n",
       "      <th>cost</th>\n",
       "      <th>extended_price</th>\n",
       "    </tr>\n",
       "  </thead>\n",
       "  <tbody>\n",
       "    <tr>\n",
       "      <th>0</th>\n",
       "      <td>800</td>\n",
       "      <td>BB1P111A08</td>\n",
       "      <td>1000</td>\n",
       "      <td>0.06260</td>\n",
       "      <td>62.60000</td>\n",
       "    </tr>\n",
       "    <tr>\n",
       "      <th>1</th>\n",
       "      <td>800</td>\n",
       "      <td>5115-15-H-ST</td>\n",
       "      <td>74</td>\n",
       "      <td>0.03893</td>\n",
       "      <td>2.88082</td>\n",
       "    </tr>\n",
       "    <tr>\n",
       "      <th>2</th>\n",
       "      <td>800</td>\n",
       "      <td>4778</td>\n",
       "      <td>200</td>\n",
       "      <td>0.42600</td>\n",
       "      <td>85.20000</td>\n",
       "    </tr>\n",
       "    <tr>\n",
       "      <th>3</th>\n",
       "      <td>800</td>\n",
       "      <td>36240S0505</td>\n",
       "      <td>500</td>\n",
       "      <td>0.02701</td>\n",
       "      <td>13.50500</td>\n",
       "    </tr>\n",
       "    <tr>\n",
       "      <th>4</th>\n",
       "      <td>800</td>\n",
       "      <td>44472B0001</td>\n",
       "      <td>50</td>\n",
       "      <td>0.19094</td>\n",
       "      <td>9.54700</td>\n",
       "    </tr>\n",
       "  </tbody>\n",
       "</table>\n",
       "</div>"
      ],
      "text/plain": [
       "   custno          item  qtyshp     cost  extended_price\n",
       "0     800    BB1P111A08    1000  0.06260        62.60000\n",
       "1     800  5115-15-H-ST      74  0.03893         2.88082\n",
       "2     800          4778     200  0.42600        85.20000\n",
       "3     800    36240S0505     500  0.02701        13.50500\n",
       "4     800    44472B0001      50  0.19094         9.54700"
      ]
     },
     "execution_count": 67,
     "metadata": {},
     "output_type": "execute_result"
    }
   ],
   "source": [
    "data['extended_price'] = (data.qtyshp * data.cost)\n",
    "data.head()"
   ]
  }
 ],
 "metadata": {
  "kernelspec": {
   "display_name": "Python 3",
   "language": "python",
   "name": "python3"
  },
  "language_info": {
   "codemirror_mode": {
    "name": "ipython",
    "version": 3
   },
   "file_extension": ".py",
   "mimetype": "text/x-python",
   "name": "python",
   "nbconvert_exporter": "python",
   "pygments_lexer": "ipython3",
   "version": "3.6.6"
  }
 },
 "nbformat": 4,
 "nbformat_minor": 2
}
