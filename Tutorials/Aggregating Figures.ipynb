{
 "cells": [
  {
   "cell_type": "markdown",
   "metadata": {},
   "source": [
    "First we import our libraries as normal"
   ]
  },
  {
   "cell_type": "code",
   "execution_count": 1,
   "metadata": {},
   "outputs": [],
   "source": [
    "import numpy as np\n",
    "import pandas as pd"
   ]
  },
  {
   "cell_type": "markdown",
   "metadata": {},
   "source": [
    "Next we need to find where we are, and get to where our data is"
   ]
  },
  {
   "cell_type": "code",
   "execution_count": 2,
   "metadata": {},
   "outputs": [
    {
     "data": {
      "text/plain": [
       "'/Users/joshua/Development/business-analysis/Tutorials'"
      ]
     },
     "execution_count": 2,
     "metadata": {},
     "output_type": "execute_result"
    }
   ],
   "source": [
    "pwd"
   ]
  },
  {
   "cell_type": "code",
   "execution_count": 3,
   "metadata": {},
   "outputs": [
    {
     "name": "stdout",
     "output_type": "stream",
     "text": [
      "BlackFriday.csv*\t\tsales_data_sample.csv\r\n",
      "brazilian-ecommerce/\t\tsales_data_sample.xlsx\r\n",
      "customer_data.xlsx\t\tsales_data_sample_no_customer.xlsx\r\n",
      "government_purchase_orders.csv\tsan_francisco_purchase_data.csv\r\n",
      "part_usage_trailing_12.xlsx\ttotal-business-inventories-and-sales-data/\r\n",
      "purchases_by_vendor.xlsx\r\n"
     ]
    }
   ],
   "source": [
    "ls ../Data"
   ]
  },
  {
   "cell_type": "markdown",
   "metadata": {},
   "source": [
    "As we showed in the \"Loading Data for Analysis\" tutorial, we now need to load the data we will be looking at / working with"
   ]
  },
  {
   "cell_type": "code",
   "execution_count": 5,
   "metadata": {},
   "outputs": [],
   "source": [
    "sales_sheet = pd.read_excel('../Data/sales_data_sample.xlsx')"
   ]
  },
  {
   "cell_type": "markdown",
   "metadata": {},
   "source": [
    "... and let's take a look to make sure we got what we were expecting..."
   ]
  },
  {
   "cell_type": "code",
   "execution_count": 6,
   "metadata": {},
   "outputs": [
    {
     "data": {
      "text/html": [
       "<div>\n",
       "<style scoped>\n",
       "    .dataframe tbody tr th:only-of-type {\n",
       "        vertical-align: middle;\n",
       "    }\n",
       "\n",
       "    .dataframe tbody tr th {\n",
       "        vertical-align: top;\n",
       "    }\n",
       "\n",
       "    .dataframe thead th {\n",
       "        text-align: right;\n",
       "    }\n",
       "</style>\n",
       "<table border=\"1\" class=\"dataframe\">\n",
       "  <thead>\n",
       "    <tr style=\"text-align: right;\">\n",
       "      <th></th>\n",
       "      <th>ORDERNUMBER</th>\n",
       "      <th>QUANTITYORDERED</th>\n",
       "      <th>PRICEEACH</th>\n",
       "      <th>ORDERLINENUMBER</th>\n",
       "      <th>SALES</th>\n",
       "      <th>ORDERDATE</th>\n",
       "      <th>STATUS</th>\n",
       "      <th>QTR_ID</th>\n",
       "      <th>MONTH_ID</th>\n",
       "      <th>YEAR_ID</th>\n",
       "      <th>...</th>\n",
       "      <th>ADDRESSLINE1</th>\n",
       "      <th>ADDRESSLINE2</th>\n",
       "      <th>CITY</th>\n",
       "      <th>STATE</th>\n",
       "      <th>POSTALCODE</th>\n",
       "      <th>COUNTRY</th>\n",
       "      <th>TERRITORY</th>\n",
       "      <th>CONTACTLASTNAME</th>\n",
       "      <th>CONTACTFIRSTNAME</th>\n",
       "      <th>DEALSIZE</th>\n",
       "    </tr>\n",
       "  </thead>\n",
       "  <tbody>\n",
       "    <tr>\n",
       "      <th>0</th>\n",
       "      <td>10107</td>\n",
       "      <td>30</td>\n",
       "      <td>95.70</td>\n",
       "      <td>2</td>\n",
       "      <td>2871.00</td>\n",
       "      <td>2003-02-24</td>\n",
       "      <td>Shipped</td>\n",
       "      <td>1</td>\n",
       "      <td>2</td>\n",
       "      <td>2003</td>\n",
       "      <td>...</td>\n",
       "      <td>897 Long Airport Avenue</td>\n",
       "      <td>NaN</td>\n",
       "      <td>NYC</td>\n",
       "      <td>NY</td>\n",
       "      <td>10022</td>\n",
       "      <td>USA</td>\n",
       "      <td>NaN</td>\n",
       "      <td>Yu</td>\n",
       "      <td>Kwai</td>\n",
       "      <td>Small</td>\n",
       "    </tr>\n",
       "    <tr>\n",
       "      <th>1</th>\n",
       "      <td>10121</td>\n",
       "      <td>34</td>\n",
       "      <td>81.35</td>\n",
       "      <td>5</td>\n",
       "      <td>2765.90</td>\n",
       "      <td>2003-05-07</td>\n",
       "      <td>Shipped</td>\n",
       "      <td>2</td>\n",
       "      <td>5</td>\n",
       "      <td>2003</td>\n",
       "      <td>...</td>\n",
       "      <td>59 rue de l'Abbaye</td>\n",
       "      <td>NaN</td>\n",
       "      <td>Reims</td>\n",
       "      <td>NaN</td>\n",
       "      <td>51100</td>\n",
       "      <td>France</td>\n",
       "      <td>EMEA</td>\n",
       "      <td>Henriot</td>\n",
       "      <td>Paul</td>\n",
       "      <td>Small</td>\n",
       "    </tr>\n",
       "    <tr>\n",
       "      <th>2</th>\n",
       "      <td>10134</td>\n",
       "      <td>41</td>\n",
       "      <td>94.74</td>\n",
       "      <td>2</td>\n",
       "      <td>3884.34</td>\n",
       "      <td>2003-07-01</td>\n",
       "      <td>Shipped</td>\n",
       "      <td>3</td>\n",
       "      <td>7</td>\n",
       "      <td>2003</td>\n",
       "      <td>...</td>\n",
       "      <td>27 rue du Colonel Pierre Avia</td>\n",
       "      <td>NaN</td>\n",
       "      <td>Paris</td>\n",
       "      <td>NaN</td>\n",
       "      <td>75508</td>\n",
       "      <td>France</td>\n",
       "      <td>EMEA</td>\n",
       "      <td>Da Cunha</td>\n",
       "      <td>Daniel</td>\n",
       "      <td>Medium</td>\n",
       "    </tr>\n",
       "    <tr>\n",
       "      <th>3</th>\n",
       "      <td>10145</td>\n",
       "      <td>45</td>\n",
       "      <td>83.26</td>\n",
       "      <td>6</td>\n",
       "      <td>3746.70</td>\n",
       "      <td>2003-08-25</td>\n",
       "      <td>Shipped</td>\n",
       "      <td>3</td>\n",
       "      <td>8</td>\n",
       "      <td>2003</td>\n",
       "      <td>...</td>\n",
       "      <td>78934 Hillside Dr.</td>\n",
       "      <td>NaN</td>\n",
       "      <td>Pasadena</td>\n",
       "      <td>CA</td>\n",
       "      <td>90003</td>\n",
       "      <td>USA</td>\n",
       "      <td>NaN</td>\n",
       "      <td>Young</td>\n",
       "      <td>Julie</td>\n",
       "      <td>Medium</td>\n",
       "    </tr>\n",
       "    <tr>\n",
       "      <th>4</th>\n",
       "      <td>10159</td>\n",
       "      <td>49</td>\n",
       "      <td>100.00</td>\n",
       "      <td>14</td>\n",
       "      <td>4900.00</td>\n",
       "      <td>2003-10-10</td>\n",
       "      <td>Shipped</td>\n",
       "      <td>4</td>\n",
       "      <td>10</td>\n",
       "      <td>2003</td>\n",
       "      <td>...</td>\n",
       "      <td>7734 Strong St.</td>\n",
       "      <td>NaN</td>\n",
       "      <td>San Francisco</td>\n",
       "      <td>CA</td>\n",
       "      <td>NaN</td>\n",
       "      <td>USA</td>\n",
       "      <td>NaN</td>\n",
       "      <td>Brown</td>\n",
       "      <td>Julie</td>\n",
       "      <td>Medium</td>\n",
       "    </tr>\n",
       "  </tbody>\n",
       "</table>\n",
       "<p>5 rows × 25 columns</p>\n",
       "</div>"
      ],
      "text/plain": [
       "   ORDERNUMBER  QUANTITYORDERED  PRICEEACH  ORDERLINENUMBER    SALES  \\\n",
       "0        10107               30      95.70                2  2871.00   \n",
       "1        10121               34      81.35                5  2765.90   \n",
       "2        10134               41      94.74                2  3884.34   \n",
       "3        10145               45      83.26                6  3746.70   \n",
       "4        10159               49     100.00               14  4900.00   \n",
       "\n",
       "   ORDERDATE   STATUS  QTR_ID  MONTH_ID  YEAR_ID   ...     \\\n",
       "0 2003-02-24  Shipped       1         2     2003   ...      \n",
       "1 2003-05-07  Shipped       2         5     2003   ...      \n",
       "2 2003-07-01  Shipped       3         7     2003   ...      \n",
       "3 2003-08-25  Shipped       3         8     2003   ...      \n",
       "4 2003-10-10  Shipped       4        10     2003   ...      \n",
       "\n",
       "                    ADDRESSLINE1  ADDRESSLINE2           CITY STATE  \\\n",
       "0        897 Long Airport Avenue           NaN            NYC    NY   \n",
       "1             59 rue de l'Abbaye           NaN          Reims   NaN   \n",
       "2  27 rue du Colonel Pierre Avia           NaN          Paris   NaN   \n",
       "3             78934 Hillside Dr.           NaN       Pasadena    CA   \n",
       "4                7734 Strong St.           NaN  San Francisco    CA   \n",
       "\n",
       "  POSTALCODE COUNTRY TERRITORY CONTACTLASTNAME CONTACTFIRSTNAME DEALSIZE  \n",
       "0      10022     USA       NaN              Yu             Kwai    Small  \n",
       "1      51100  France      EMEA         Henriot             Paul    Small  \n",
       "2      75508  France      EMEA        Da Cunha           Daniel   Medium  \n",
       "3      90003     USA       NaN           Young            Julie   Medium  \n",
       "4        NaN     USA       NaN           Brown            Julie   Medium  \n",
       "\n",
       "[5 rows x 25 columns]"
      ]
     },
     "execution_count": 6,
     "metadata": {},
     "output_type": "execute_result"
    }
   ],
   "source": [
    "sales_sheet.head()"
   ]
  },
  {
   "cell_type": "markdown",
   "metadata": {},
   "source": [
    "To simplify the different functions you can call on an array (specifically a numpy array), I am going to isolate just the sales column of the dataframe and create a numpy array from it."
   ]
  },
  {
   "cell_type": "code",
   "execution_count": 7,
   "metadata": {},
   "outputs": [],
   "source": [
    "sales = np.array(sales_sheet['SALES'])"
   ]
  },
  {
   "cell_type": "markdown",
   "metadata": {},
   "source": [
    "In order to **sum** the column..."
   ]
  },
  {
   "cell_type": "code",
   "execution_count": 30,
   "metadata": {},
   "outputs": [
    {
     "data": {
      "text/plain": [
       "8290886.789999999"
      ]
     },
     "execution_count": 30,
     "metadata": {},
     "output_type": "execute_result"
    }
   ],
   "source": [
    "np.sum(sales)"
   ]
  },
  {
   "cell_type": "markdown",
   "metadata": {},
   "source": [
    "In order to find the **max** of the column..."
   ]
  },
  {
   "cell_type": "code",
   "execution_count": 31,
   "metadata": {},
   "outputs": [
    {
     "data": {
      "text/plain": [
       "9048.16"
      ]
     },
     "execution_count": 31,
     "metadata": {},
     "output_type": "execute_result"
    }
   ],
   "source": [
    "np.max(sales)"
   ]
  },
  {
   "cell_type": "markdown",
   "metadata": {},
   "source": [
    "In order to find the **min** of the column..."
   ]
  },
  {
   "cell_type": "code",
   "execution_count": 8,
   "metadata": {},
   "outputs": [
    {
     "data": {
      "text/plain": [
       "482.13"
      ]
     },
     "execution_count": 8,
     "metadata": {},
     "output_type": "execute_result"
    }
   ],
   "source": [
    "np.min(sales)"
   ]
  },
  {
   "cell_type": "markdown",
   "metadata": {},
   "source": [
    "With some of the aggregation functions, you can call them directly on the array itself like this"
   ]
  },
  {
   "cell_type": "code",
   "execution_count": 9,
   "metadata": {},
   "outputs": [
    {
     "data": {
      "text/plain": [
       "8290886.789999999"
      ]
     },
     "execution_count": 9,
     "metadata": {},
     "output_type": "execute_result"
    }
   ],
   "source": [
    "sales.sum()"
   ]
  },
  {
   "cell_type": "code",
   "execution_count": 10,
   "metadata": {},
   "outputs": [
    {
     "data": {
      "text/plain": [
       "9048.16"
      ]
     },
     "execution_count": 10,
     "metadata": {},
     "output_type": "execute_result"
    }
   ],
   "source": [
    "sales.max()"
   ]
  },
  {
   "cell_type": "code",
   "execution_count": 53,
   "metadata": {},
   "outputs": [
    {
     "data": {
      "text/plain": [
       "482.13"
      ]
     },
     "execution_count": 53,
     "metadata": {},
     "output_type": "execute_result"
    }
   ],
   "source": [
    "sales.min()"
   ]
  },
  {
   "cell_type": "markdown",
   "metadata": {},
   "source": [
    "You can also get *where* the min and max are by preceding it with arg. This returns the index of where the min and max were found."
   ]
  },
  {
   "cell_type": "code",
   "execution_count": 54,
   "metadata": {},
   "outputs": [
    {
     "data": {
      "text/plain": [
       "2249"
      ]
     },
     "execution_count": 54,
     "metadata": {},
     "output_type": "execute_result"
    }
   ],
   "source": [
    "sales.argmin()"
   ]
  },
  {
   "cell_type": "markdown",
   "metadata": {},
   "source": [
    "... and just to test it, let's call the sales figure at that location..."
   ]
  },
  {
   "cell_type": "code",
   "execution_count": 55,
   "metadata": {},
   "outputs": [
    {
     "data": {
      "text/plain": [
       "482.13"
      ]
     },
     "execution_count": 55,
     "metadata": {},
     "output_type": "execute_result"
    }
   ],
   "source": [
    "sales[2249]"
   ]
  },
  {
   "cell_type": "markdown",
   "metadata": {},
   "source": [
    "Yup!\n",
    "\n",
    "Let's look at some more complex aggregation functions.\n",
    "\n",
    "Let's say you didn't have the **sales** column, but only each individual line item. Numpy combines arrays \"element-wsie\", so you can just multiply a **quantity** array by an a **price** array and get sales for each line item."
   ]
  },
  {
   "cell_type": "code",
   "execution_count": 11,
   "metadata": {},
   "outputs": [],
   "source": [
    "quantity = np.array(sales_sheet['QUANTITYORDERED'])\n",
    "prices = np.array(sales_sheet['PRICEEACH'])"
   ]
  },
  {
   "cell_type": "code",
   "execution_count": 12,
   "metadata": {},
   "outputs": [],
   "source": [
    "sales_2 = quantity * prices"
   ]
  },
  {
   "cell_type": "markdown",
   "metadata": {},
   "source": [
    "... and just to test, we can take the sum to see if it is the same as above."
   ]
  },
  {
   "cell_type": "code",
   "execution_count": 13,
   "metadata": {},
   "outputs": [
    {
     "data": {
      "text/plain": [
       "8290886.789999999"
      ]
     },
     "execution_count": 13,
     "metadata": {},
     "output_type": "execute_result"
    }
   ],
   "source": [
    "sales_2.sum()"
   ]
  },
  {
   "cell_type": "markdown",
   "metadata": {},
   "source": [
    "You can also grab the **mean**, **median**, and **standard deviation**."
   ]
  },
  {
   "cell_type": "code",
   "execution_count": 14,
   "metadata": {},
   "outputs": [
    {
     "data": {
      "text/plain": [
       "2936.9064080765143"
      ]
     },
     "execution_count": 14,
     "metadata": {},
     "output_type": "execute_result"
    }
   ],
   "source": [
    "sales.mean()"
   ]
  },
  {
   "cell_type": "code",
   "execution_count": 15,
   "metadata": {},
   "outputs": [
    {
     "data": {
      "text/plain": [
       "2800.0"
      ]
     },
     "execution_count": 15,
     "metadata": {},
     "output_type": "execute_result"
    }
   ],
   "source": [
    "np.median(sales)"
   ]
  },
  {
   "cell_type": "code",
   "execution_count": 52,
   "metadata": {},
   "outputs": [
    {
     "data": {
      "text/plain": [
       "1105.44843850813"
      ]
     },
     "execution_count": 52,
     "metadata": {},
     "output_type": "execute_result"
    }
   ],
   "source": [
    "np.std(sales)"
   ]
  },
  {
   "cell_type": "markdown",
   "metadata": {},
   "source": [
    "In order to grab the cutoff for a percentile, you can simply use the **percentile** function for numpy arrays."
   ]
  },
  {
   "cell_type": "code",
   "execution_count": 44,
   "metadata": {},
   "outputs": [
    {
     "data": {
      "text/plain": [
       "1995.9279999999999"
      ]
     },
     "execution_count": 44,
     "metadata": {},
     "output_type": "execute_result"
    }
   ],
   "source": [
    "np.percentile(sales, 20)"
   ]
  },
  {
   "cell_type": "markdown",
   "metadata": {},
   "source": [
    "Then, to get the top 20% of sales figures, you could run..."
   ]
  },
  {
   "cell_type": "code",
   "execution_count": 46,
   "metadata": {},
   "outputs": [
    {
     "data": {
      "text/plain": [
       "array([2871.  , 2765.9 , 3884.34, ..., 4300.  , 2116.16, 3079.44])"
      ]
     },
     "execution_count": 46,
     "metadata": {},
     "output_type": "execute_result"
    }
   ],
   "source": [
    "sales[sales >= np.percentile(sales,20)]"
   ]
  },
  {
   "cell_type": "markdown",
   "metadata": {},
   "source": [
    "... and to get the bottom 80%..."
   ]
  },
  {
   "cell_type": "code",
   "execution_count": 47,
   "metadata": {},
   "outputs": [
    {
     "data": {
      "text/plain": [
       "array([1451.  ,  733.11, 1329.9 , 1822.17, 1201.25, 1962.22, 1900.  ,\n",
       "       1735.3 , 1200.  , 1888.26, 1466.91, 1809.5 , 1000.  , 1800.24,\n",
       "       1340.64, 1762.08, 1628.  , 1939.2 , 1484.2 , 1685.42, 1627.92,\n",
       "       1517.88, 1749.79, 1958.88, 1960.14, 1167.25, 1516.62, 1746.6 ,\n",
       "       1742.4 , 1423.29, 1504.12, 1164.4 , 1500.75, 1557.36, 1345.68,\n",
       "       1795.24, 1105.25, 1237.95, 1593.02, 1320.75, 1293.75, 1449.76,\n",
       "       1611.4 , 1364.25, 1262.8 , 1626.24, 1339.8 , 1930.39, 1832.6 ,\n",
       "        974.1 , 1746.63, 1463.7 , 1608.  , 1496.64, 1879.74, 1495.26,\n",
       "       1643.12, 1322.16, 1423.8 , 1574.  , 1729.  , 1834.5 , 1331.1 ,\n",
       "       1236.84,  728.4 ,  600.  , 1189.98, 1667.4 , 1859.7 , 1476.6 ,\n",
       "       1732.  , 1674.17, 1500.98, 1797.58, 1701.7 , 1694.  ,  935.18,\n",
       "       1490.16, 1824.72, 1570.17, 1482.6 , 1853.4 , 1490.1 , 1605.  ,\n",
       "       1944.3 , 1986.8 , 1695.96, 1281.56, 1774.22,  981.2 , 1550.72,\n",
       "       1771.06, 1864.8 , 1142.41, 1172.6 , 1264.08,  990.78, 1687.4 ,\n",
       "       1308.  , 1448.  ,  881.4 , 1801.24, 1424.  , 1499.1 , 1504.16,\n",
       "       1244.16, 1888.88, 1820.01, 1394.16, 1871.83, 1559.04, 1880.2 ,\n",
       "       1224.67, 1237.88, 1665.32, 1878.66, 1553.58, 1987.02, 1146.5 ,\n",
       "       1908.28, 1801.2 , 1592.  , 1978.62, 1781.22, 1658.88, 1476.48,\n",
       "       1534.95, 1855.41, 1777.1 , 1536.57, 1705.41, 1527.8 , 1668.5 ,\n",
       "       1875.09, 1765.66, 1740.9 , 1357.86, 1057.56, 1357.72, 1638.04,\n",
       "       1661.88, 1454.7 , 1657.57, 1879.92, 1863.4 , 1266.1 , 1903.22,\n",
       "       1584.66,  541.14, 1685.28, 1834.36, 1916.98, 1790.6 , 1640.24,\n",
       "       1207.68, 1668.37, 1938.89, 1254.83, 1282.8 , 1345.75, 1972.  ,\n",
       "       1835.98, 1119.93, 1569.75, 1257.27, 1502.78, 1676.2 , 1916.64,\n",
       "       1556.62, 1629.04, 1327.79, 1906.5 , 1575.08, 1688.43, 1672.1 ,\n",
       "       1674.75, 1649.18, 1713.8 , 1506.5 , 1249.4 , 1265.46, 1681.46,\n",
       "       1944.54, 1307.32, 1726.37, 1267.77, 1987.18, 1942.15, 1213.8 ,\n",
       "       1086.6 , 1632.75, 1734.  , 1857.06, 1863.41, 1457.82, 1955.88,\n",
       "       1310.96, 1357.78, 1729.  , 1558.99, 1104.6 , 1721.73, 1295.06,\n",
       "       1226.59, 1453.84, 1830.22, 1557.72,  845.25, 1352.4 , 1584.8 ,\n",
       "       1129.04, 1759.2 ,  977.67, 1463.  , 1063.65, 1376.43, 1404.  ,\n",
       "        710.2 , 1702.8 , 1194.84, 1007.14,  977.43, 1436.76,  759.46,\n",
       "       1189.44,  683.8 , 1226.82,  974.82,  577.6 , 1106.93,  694.6 ,\n",
       "       1152.06,  703.6 ,  834.67, 1801.94, 1209.6 , 1474.66, 1919.4 ,\n",
       "       1847.  , 1851.  , 1711.22, 1729.65,  995.5 , 1560.47, 1112.94,\n",
       "       1138.94, 1012.4 ,  913.92, 1161.12, 1764.75, 1690.9 , 1734.48,\n",
       "        865.49,  828.36,  856.52, 1845.45, 1828.  , 1787.56, 1645.65,\n",
       "       1338.12, 1346.4 , 1545.6 , 1639.22, 1350.  , 1742.4 ,  721.44,\n",
       "       1489.41,  891.03, 1209.3 ,  859.14, 1151.44, 1336.44,  905.28,\n",
       "       1247.4 ,  846.51, 1085.04, 1767.43, 1030.44, 1585.36,  813.2 ,\n",
       "       1172.34, 1510.56, 1448.07, 1225.29, 1336.68, 1789.4 , 1082.1 ,\n",
       "       1030.44, 1646.19, 1670.26, 1467.48, 1522.4 , 1356.4 , 1611.36,\n",
       "       1496.25, 1884.  , 1867.  , 1611.4 , 1479.84, 1424.22, 1859.44,\n",
       "       1596.76,  930.9 , 1207.44,  717.4 , 1066.75, 1554.  , 1277.64,\n",
       "       1578.79,  917.7 ,  777.  , 1476.28, 1538.46,  891.2 , 1706.8 ,\n",
       "       1373.6 , 1205.59, 1427.4 , 1649.28, 1383.03, 1229.51, 1140.48,\n",
       "       1575.6 , 1386.72,  640.05, 1593.2 , 1788.  , 1891.56, 1987.74,\n",
       "       1541.  , 1951.92, 1538.55, 1057.29, 1892.1 , 1707.14, 1785.51,\n",
       "       1707.14, 1506.96, 1205.04, 1263.84, 1224.6 , 1359.4 , 1822.18,\n",
       "       1591.98, 1910.84, 1630.6 , 1459.6 , 1716.22, 1900.26, 1988.28,\n",
       "       1449.84, 1935.09, 1742.5 , 1735.92, 1671.52, 1576.74, 1459.6 ,\n",
       "       1254.6 , 1888.95, 1152.58, 1991.6 , 1851.73, 1514.52, 1900.36,\n",
       "       1974.06, 1755.13, 1697.3 , 1845.  , 1508.5 , 1757.91, 1968.12,\n",
       "       1853.32, 1971.54, 1981.65, 1175.16, 1351.08, 1689.03, 1654.56,\n",
       "       1528.58, 1013.48, 1442.26, 1163.05,  971.98,  902.66, 1295.97,\n",
       "       1534.72, 1185.3 , 1698.78, 1381.05, 1340.46,  965.04, 1093.99,\n",
       "       1717.64,  553.95,  652.35, 1939.8 , 1408.96, 1972.11, 1811.4 ,\n",
       "       1656.69, 1962.09, 1657.76, 1716.26, 1808.4 , 1682.37, 1491.  ,\n",
       "       1666.35, 1561.5 , 1543.3 , 1991.92, 1963.6 , 1858.  , 1883.93,\n",
       "       1917.84, 1173.15, 1384.46, 1327.59, 1109.8 , 1239.  , 1035.58,\n",
       "       1545.64, 1517.54, 1731.84, 1695.49, 1045.98, 1738.08,  651.8 ,\n",
       "        988.47, 1518.11, 1013.76, 1549.8 , 1108.38, 1513.54, 1826.96,\n",
       "       1206.9 , 1666.7 , 1560.44, 1103.76, 1385.28, 1621.62, 1931.65,\n",
       "       1244.53, 1704.5 , 1753.2 , 1666.7 , 1710.89, 1727.1 , 1535.49,\n",
       "       1329.4 , 1701.76,  925.3 ,  482.13, 1711.26, 1681.35, 1408.  ,\n",
       "       1804.44, 1056.4 , 1988.4 , 1587.08, 1808.4 , 1193.04, 1575.96,\n",
       "       1630.2 , 1701.28, 1228.2 , 1330.35, 1912.16, 1867.32, 1637.2 ,\n",
       "       1320.8 , 1791.16, 1419.84, 1948.08, 1780.4 , 1483.02, 1591.72,\n",
       "       1565.85, 1355.13, 1246.44,  820.4 , 1113.6 , 1763.86, 1896.66,\n",
       "       1449.35, 1869.48, 1860.53, 1724.82, 1713.69, 1259.44, 1617.38,\n",
       "       1765.62, 1796.34, 1979.6 , 1921.41, 1800.  , 1705.92, 1033.41,\n",
       "       1779.71,  972.4 , 1968.3 , 1927.45, 1623.25, 1405.92, 1964.76,\n",
       "       1366.8 , 1486.38, 1916.75, 1860.  , 1824.  , 1134.  , 1487.41,\n",
       "       1942.77, 1372.14, 1958.84, 1933.5 , 1863.36, 1649.55, 1994.88,\n",
       "       1210.8 , 1100.  , 1753.06, 1891.78, 1882.8 , 1089.36, 1930.5 ,\n",
       "       1908.72, 1463.  , 1864.56, 1668.25, 1747.2 , 1740.  , 1777.6 ,\n",
       "       1831.2 , 1902.4 , 1939.3 , 1747.9 , 1539.72, 1661.22, 1348.76,\n",
       "        875.91, 1874.05, 1671.44, 1668.4 , 1459.92, 1209.59, 1416.39,\n",
       "       1843.52, 1199.31, 1875.2 ,  948.99, 1823.42, 1485.8 , 1624.25,\n",
       "       1367.48, 1122.4 , 1419.5 , 1724.97, 1846.42, 1804.04, 1192.56,\n",
       "       1506.96, 1472.62, 1696.82, 1693.56, 1921.92])"
      ]
     },
     "execution_count": 47,
     "metadata": {},
     "output_type": "execute_result"
    }
   ],
   "source": [
    "sales[sales < np.percentile(sales,20)]"
   ]
  }
 ],
 "metadata": {
  "kernelspec": {
   "display_name": "Python 3",
   "language": "python",
   "name": "python3"
  },
  "language_info": {
   "codemirror_mode": {
    "name": "ipython",
    "version": 3
   },
   "file_extension": ".py",
   "mimetype": "text/x-python",
   "name": "python",
   "nbconvert_exporter": "python",
   "pygments_lexer": "ipython3",
   "version": "3.6.6"
  }
 },
 "nbformat": 4,
 "nbformat_minor": 2
}
