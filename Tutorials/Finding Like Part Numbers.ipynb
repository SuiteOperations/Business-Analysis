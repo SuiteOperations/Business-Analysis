{
 "cells": [
  {
   "cell_type": "code",
   "execution_count": 1,
   "metadata": {},
   "outputs": [],
   "source": [
    "import numpy as np\n",
    "import pandas as pd\n",
    "import gensim \n",
    "import logging"
   ]
  },
  {
   "cell_type": "markdown",
   "metadata": {},
   "source": [
    "## Creating Corpus"
   ]
  },
  {
   "cell_type": "markdown",
   "metadata": {},
   "source": [
    "### Extracting Text"
   ]
  },
  {
   "cell_type": "markdown",
   "metadata": {},
   "source": [
    "go to https://en.wikipedia.org/wiki/Special:Export and export pages you want"
   ]
  },
  {
   "cell_type": "code",
   "execution_count": 2,
   "metadata": {},
   "outputs": [
    {
     "name": "stdout",
     "output_type": "stream",
     "text": [
      "/Users/joshua/Development/business-analysis/libraries/wikiextractor\n"
     ]
    }
   ],
   "source": [
    "cd ../libraries/wikiextractor"
   ]
  },
  {
   "cell_type": "code",
   "execution_count": 3,
   "metadata": {},
   "outputs": [
    {
     "name": "stdout",
     "output_type": "stream",
     "text": [
      "INFO: Starting page extraction from ../../data/screw_corpus.xml.\n",
      "INFO: Using 8 extract processes.\n",
      "INFO: 6810986\tISO metric screw thread\n",
      "INFO: 1588451\tScrew thread\n",
      "INFO: 27592945\tList of screw drives\n",
      "INFO: 20691673\tScrew\n",
      "INFO: Finished 8-process extraction of 4 articles in 0.1s (33.9 art/s)\n"
     ]
    }
   ],
   "source": [
    "!python3 WikiExtractor.py -o ../../data/wiki/ --no-templates --processes 8 ../../data/screw_corpus.xml"
   ]
  },
  {
   "cell_type": "code",
   "execution_count": 4,
   "metadata": {},
   "outputs": [
    {
     "name": "stdout",
     "output_type": "stream",
     "text": [
      "/Users/joshua/Development/business-analysis/Data/wiki/AA\n"
     ]
    }
   ],
   "source": [
    "cd ../../data/wiki/AA\n"
   ]
  },
  {
   "cell_type": "code",
   "execution_count": 5,
   "metadata": {},
   "outputs": [
    {
     "name": "stdout",
     "output_type": "stream",
     "text": [
      "wiki_00\r\n"
     ]
    }
   ],
   "source": [
    "ls"
   ]
  },
  {
   "cell_type": "code",
   "execution_count": 6,
   "metadata": {},
   "outputs": [],
   "source": [
    "data_file = 'wiki_00'"
   ]
  },
  {
   "cell_type": "markdown",
   "metadata": {},
   "source": [
    "### Preprocessing Text"
   ]
  },
  {
   "cell_type": "code",
   "execution_count": 7,
   "metadata": {},
   "outputs": [],
   "source": [
    "def read_input(input_file):\n",
    "    logging.info(\"reading file {0}...this may take a while\".format(input_file))\n",
    "    f = open(input_file, 'r')\n",
    "    for line in f:\n",
    "        yield gensim.utils.simple_preprocess(line)\n",
    "documents = list (read_input(data_file))"
   ]
  },
  {
   "cell_type": "code",
   "execution_count": 8,
   "metadata": {},
   "outputs": [
    {
     "data": {
      "text/plain": [
       "[['the',\n",
       "  'iso',\n",
       "  'metric',\n",
       "  'screw',\n",
       "  'threads',\n",
       "  'are',\n",
       "  'the',\n",
       "  'worldwide',\n",
       "  'most',\n",
       "  'commonly',\n",
       "  'used',\n",
       "  'type',\n",
       "  'of',\n",
       "  'general',\n",
       "  'purpose',\n",
       "  'screw',\n",
       "  'thread',\n",
       "  'they',\n",
       "  'were',\n",
       "  'one',\n",
       "  'of',\n",
       "  'the',\n",
       "  'first',\n",
       "  'international',\n",
       "  'standards',\n",
       "  'agreed',\n",
       "  'when',\n",
       "  'the',\n",
       "  'international',\n",
       "  'organization',\n",
       "  'for',\n",
       "  'standardization',\n",
       "  'iso',\n",
       "  'was',\n",
       "  'set',\n",
       "  'up',\n",
       "  'in'],\n",
       " []]"
      ]
     },
     "execution_count": 8,
     "metadata": {},
     "output_type": "execute_result"
    }
   ],
   "source": [
    "documents[3:5]"
   ]
  },
  {
   "cell_type": "markdown",
   "metadata": {},
   "source": [
    "## Train the hidden layer for word vectors"
   ]
  },
  {
   "cell_type": "code",
   "execution_count": 9,
   "metadata": {},
   "outputs": [
    {
     "name": "stdout",
     "output_type": "stream",
     "text": [
      "Word2Vec(vocab=1406, size=48, alpha=0.025)\n"
     ]
    }
   ],
   "source": [
    "model = gensim.models.Word2Vec(documents, size=48, window=15, min_count=2, workers=15, batch_words=5)\n",
    "print(model)"
   ]
  },
  {
   "cell_type": "code",
   "execution_count": 10,
   "metadata": {},
   "outputs": [
    {
     "name": "stderr",
     "output_type": "stream",
     "text": [
      "WARNING:gensim.models.base_any2vec:Effective 'alpha' higher than previous training cycles\n"
     ]
    },
    {
     "data": {
      "text/plain": [
       "(111713, 173130)"
      ]
     },
     "execution_count": 10,
     "metadata": {},
     "output_type": "execute_result"
    }
   ],
   "source": [
    "model.train(documents,total_examples=len(documents),epochs=10)"
   ]
  },
  {
   "cell_type": "code",
   "execution_count": 17,
   "metadata": {},
   "outputs": [
    {
     "data": {
      "text/plain": [
       "[('head', 0.99969482421875),\n",
       " ('square', 0.9995798468589783),\n",
       " ('slotted', 0.9995594024658203),\n",
       " ('phillips', 0.9995234608650208),\n",
       " ('torx', 0.999517560005188),\n",
       " ('screwdriver', 0.9995139837265015),\n",
       " ('robertson', 0.9995015263557434),\n",
       " ('tool', 0.9994959235191345),\n",
       " ('drives', 0.9994714260101318),\n",
       " ('driver', 0.9994105100631714)]"
      ]
     },
     "execution_count": 17,
     "metadata": {},
     "output_type": "execute_result"
    }
   ],
   "source": [
    "example_word = 'drive'\n",
    "model.wv.most_similar (positive=example_word)"
   ]
  },
  {
   "cell_type": "markdown",
   "metadata": {},
   "source": []
  },
  {
   "cell_type": "markdown",
   "metadata": {},
   "source": [
    "## Load Part Number Descriptions"
   ]
  },
  {
   "cell_type": "code",
   "execution_count": 1,
   "metadata": {},
   "outputs": [
    {
     "name": "stdout",
     "output_type": "stream",
     "text": [
      "/Users/joshua/Development/business-analysis/Tutorials\r\n"
     ]
    }
   ],
   "source": [
    "!pwd"
   ]
  },
  {
   "cell_type": "code",
   "execution_count": 2,
   "metadata": {},
   "outputs": [
    {
     "name": "stdout",
     "output_type": "stream",
     "text": [
      "/Users/joshua/Development/business-analysis/Data\n"
     ]
    }
   ],
   "source": [
    "cd ../data"
   ]
  },
  {
   "cell_type": "code",
   "execution_count": 3,
   "metadata": {},
   "outputs": [
    {
     "name": "stdout",
     "output_type": "stream",
     "text": [
      "BlackFriday.csv*\t\tsales_data_sample.csv\r\n",
      "customer_data.xlsx\t\tsales_data_sample.xlsx\r\n",
      "government_purchase_orders.csv\tsales_data_sample_no_customer.xlsx\r\n",
      "inventory_list.csv\t\tsales_encryption.csv\r\n",
      "part_usage_trailing_12.xlsx\tscrew_corpus.xml\r\n",
      "purchases_by_vendor.xlsx\r\n"
     ]
    }
   ],
   "source": [
    "ls"
   ]
  },
  {
   "cell_type": "code",
   "execution_count": null,
   "metadata": {},
   "outputs": [],
   "source": [
    "inventory = pd.read_csv('inventory_list.csv')"
   ]
  },
  {
   "cell_type": "code",
   "execution_count": 7,
   "metadata": {},
   "outputs": [
    {
     "data": {
      "text/html": [
       "<div>\n",
       "<style scoped>\n",
       "    .dataframe tbody tr th:only-of-type {\n",
       "        vertical-align: middle;\n",
       "    }\n",
       "\n",
       "    .dataframe tbody tr th {\n",
       "        vertical-align: top;\n",
       "    }\n",
       "\n",
       "    .dataframe thead th {\n",
       "        text-align: right;\n",
       "    }\n",
       "</style>\n",
       "<table border=\"1\" class=\"dataframe\">\n",
       "  <thead>\n",
       "    <tr style=\"text-align: right;\">\n",
       "      <th></th>\n",
       "      <th>Unnamed: 0</th>\n",
       "      <th>part_number</th>\n",
       "      <th>class</th>\n",
       "      <th>descrip</th>\n",
       "      <th>descrip2</th>\n",
       "      <th>cost</th>\n",
       "      <th>onhand</th>\n",
       "      <th>onorder</th>\n",
       "      <th>master_list</th>\n",
       "      <th>custno</th>\n",
       "      <th>revision</th>\n",
       "      <th>aql</th>\n",
       "      <th>syscom</th>\n",
       "      <th>physical</th>\n",
       "      <th>oldcost</th>\n",
       "      <th>owner</th>\n",
       "    </tr>\n",
       "  </thead>\n",
       "  <tbody>\n",
       "    <tr>\n",
       "      <th>0</th>\n",
       "      <td>0</td>\n",
       "      <td>5f08e3cf2e05</td>\n",
       "      <td>NaN</td>\n",
       "      <td>MS20822-4</td>\n",
       "      <td>NaN</td>\n",
       "      <td>9.48626</td>\n",
       "      <td>2129</td>\n",
       "      <td>0</td>\n",
       "      <td>Y</td>\n",
       "      <td>17580.0</td>\n",
       "      <td>F</td>\n",
       "      <td>1</td>\n",
       "      <td>NaN</td>\n",
       "      <td>N</td>\n",
       "      <td>0.0</td>\n",
       "      <td>A</td>\n",
       "    </tr>\n",
       "    <tr>\n",
       "      <th>1</th>\n",
       "      <td>1</td>\n",
       "      <td>37062f157a8c</td>\n",
       "      <td>NaN</td>\n",
       "      <td>1/4-28 x 10.313 Machine Screw, 1022 Steel</td>\n",
       "      <td>B/O(Dwg 18571);97022; HTS 7318.15.0000</td>\n",
       "      <td>0.19000</td>\n",
       "      <td>162000</td>\n",
       "      <td>0</td>\n",
       "      <td>Y</td>\n",
       "      <td>14700.0</td>\n",
       "      <td>19</td>\n",
       "      <td>1</td>\n",
       "      <td>NaN</td>\n",
       "      <td>N</td>\n",
       "      <td>0.0</td>\n",
       "      <td>A</td>\n",
       "    </tr>\n",
       "    <tr>\n",
       "      <th>2</th>\n",
       "      <td>2</td>\n",
       "      <td>9fafb0891d5f</td>\n",
       "      <td>NaN</td>\n",
       "      <td>Artemis Heat Sink</td>\n",
       "      <td>NaN</td>\n",
       "      <td>0.00000</td>\n",
       "      <td>0</td>\n",
       "      <td>0</td>\n",
       "      <td>NaN</td>\n",
       "      <td>NaN</td>\n",
       "      <td>NaN</td>\n",
       "      <td>0</td>\n",
       "      <td>NaN</td>\n",
       "      <td>N</td>\n",
       "      <td>0.0</td>\n",
       "      <td>C</td>\n",
       "    </tr>\n",
       "    <tr>\n",
       "      <th>3</th>\n",
       "      <td>3</td>\n",
       "      <td>4169ab8d76a6</td>\n",
       "      <td>NaN</td>\n",
       "      <td>M8 X 1.25-6g X 40MM HHCS, BRASS</td>\n",
       "      <td>W/ BRITE DIP TO PRINT</td>\n",
       "      <td>0.21900</td>\n",
       "      <td>49100</td>\n",
       "      <td>0</td>\n",
       "      <td>NaN</td>\n",
       "      <td>NaN</td>\n",
       "      <td>NaN</td>\n",
       "      <td>0</td>\n",
       "      <td>NaN</td>\n",
       "      <td>N</td>\n",
       "      <td>0.0</td>\n",
       "      <td>A</td>\n",
       "    </tr>\n",
       "    <tr>\n",
       "      <th>4</th>\n",
       "      <td>4</td>\n",
       "      <td>e30c8087f64d</td>\n",
       "      <td>NaN</td>\n",
       "      <td>1/4-20 X 5/8 Unslotted Hex Hd Screw w/ L/W &amp; F/W</td>\n",
       "      <td>18-8 Stainless Steel per F593C</td>\n",
       "      <td>0.00000</td>\n",
       "      <td>0</td>\n",
       "      <td>0</td>\n",
       "      <td>NaN</td>\n",
       "      <td>NaN</td>\n",
       "      <td>NaN</td>\n",
       "      <td>0</td>\n",
       "      <td>NaN</td>\n",
       "      <td>N</td>\n",
       "      <td>0.0</td>\n",
       "      <td>A</td>\n",
       "    </tr>\n",
       "  </tbody>\n",
       "</table>\n",
       "</div>"
      ],
      "text/plain": [
       "   Unnamed: 0   part_number  class  \\\n",
       "0           0  5f08e3cf2e05    NaN   \n",
       "1           1  37062f157a8c    NaN   \n",
       "2           2  9fafb0891d5f    NaN   \n",
       "3           3  4169ab8d76a6    NaN   \n",
       "4           4  e30c8087f64d    NaN   \n",
       "\n",
       "                                            descrip  \\\n",
       "0                                         MS20822-4   \n",
       "1         1/4-28 x 10.313 Machine Screw, 1022 Steel   \n",
       "2                                 Artemis Heat Sink   \n",
       "3                   M8 X 1.25-6g X 40MM HHCS, BRASS   \n",
       "4  1/4-20 X 5/8 Unslotted Hex Hd Screw w/ L/W & F/W   \n",
       "\n",
       "                                 descrip2     cost  onhand  onorder  \\\n",
       "0                                     NaN  9.48626    2129        0   \n",
       "1  B/O(Dwg 18571);97022; HTS 7318.15.0000  0.19000  162000        0   \n",
       "2                                     NaN  0.00000       0        0   \n",
       "3                   W/ BRITE DIP TO PRINT  0.21900   49100        0   \n",
       "4          18-8 Stainless Steel per F593C  0.00000       0        0   \n",
       "\n",
       "  master_list   custno revision  aql  syscom physical  oldcost owner  \n",
       "0           Y  17580.0        F    1     NaN        N      0.0     A  \n",
       "1           Y  14700.0       19    1     NaN        N      0.0     A  \n",
       "2         NaN      NaN      NaN    0     NaN        N      0.0     C  \n",
       "3         NaN      NaN      NaN    0     NaN        N      0.0     A  \n",
       "4         NaN      NaN      NaN    0     NaN        N      0.0     A  "
      ]
     },
     "execution_count": 7,
     "metadata": {},
     "output_type": "execute_result"
    }
   ],
   "source": [
    "inventory.head()"
   ]
  },
  {
   "cell_type": "code",
   "execution_count": 17,
   "metadata": {},
   "outputs": [
    {
     "data": {
      "text/html": [
       "<div>\n",
       "<style scoped>\n",
       "    .dataframe tbody tr th:only-of-type {\n",
       "        vertical-align: middle;\n",
       "    }\n",
       "\n",
       "    .dataframe tbody tr th {\n",
       "        vertical-align: top;\n",
       "    }\n",
       "\n",
       "    .dataframe thead th {\n",
       "        text-align: right;\n",
       "    }\n",
       "</style>\n",
       "<table border=\"1\" class=\"dataframe\">\n",
       "  <thead>\n",
       "    <tr style=\"text-align: right;\">\n",
       "      <th></th>\n",
       "      <th>Unnamed: 0</th>\n",
       "      <th>part_number</th>\n",
       "      <th>class</th>\n",
       "      <th>descrip</th>\n",
       "      <th>descrip2</th>\n",
       "      <th>cost</th>\n",
       "      <th>onhand</th>\n",
       "      <th>onorder</th>\n",
       "      <th>master_list</th>\n",
       "      <th>custno</th>\n",
       "      <th>revision</th>\n",
       "      <th>aql</th>\n",
       "      <th>syscom</th>\n",
       "      <th>physical</th>\n",
       "      <th>oldcost</th>\n",
       "      <th>owner</th>\n",
       "      <th>description</th>\n",
       "    </tr>\n",
       "  </thead>\n",
       "  <tbody>\n",
       "    <tr>\n",
       "      <th>0</th>\n",
       "      <td>0</td>\n",
       "      <td>5f08e3cf2e05</td>\n",
       "      <td></td>\n",
       "      <td>MS20822-4</td>\n",
       "      <td></td>\n",
       "      <td>9.48626</td>\n",
       "      <td>2129</td>\n",
       "      <td>0</td>\n",
       "      <td>Y</td>\n",
       "      <td>17580</td>\n",
       "      <td>F</td>\n",
       "      <td>1</td>\n",
       "      <td></td>\n",
       "      <td>N</td>\n",
       "      <td>0.0</td>\n",
       "      <td>A</td>\n",
       "      <td></td>\n",
       "    </tr>\n",
       "    <tr>\n",
       "      <th>1</th>\n",
       "      <td>1</td>\n",
       "      <td>37062f157a8c</td>\n",
       "      <td></td>\n",
       "      <td>1/4-28 x 10.313 Machine Screw, 1022 Steel</td>\n",
       "      <td>B/O(Dwg 18571);97022; HTS 7318.15.0000</td>\n",
       "      <td>0.19000</td>\n",
       "      <td>162000</td>\n",
       "      <td>0</td>\n",
       "      <td>Y</td>\n",
       "      <td>14700</td>\n",
       "      <td>19</td>\n",
       "      <td>1</td>\n",
       "      <td></td>\n",
       "      <td>N</td>\n",
       "      <td>0.0</td>\n",
       "      <td>A</td>\n",
       "      <td>1/4-28 x 10.313 Machine Screw, 1022 Steel B/O(...</td>\n",
       "    </tr>\n",
       "    <tr>\n",
       "      <th>2</th>\n",
       "      <td>2</td>\n",
       "      <td>9fafb0891d5f</td>\n",
       "      <td></td>\n",
       "      <td>Artemis Heat Sink</td>\n",
       "      <td></td>\n",
       "      <td>0.00000</td>\n",
       "      <td>0</td>\n",
       "      <td>0</td>\n",
       "      <td></td>\n",
       "      <td></td>\n",
       "      <td></td>\n",
       "      <td>0</td>\n",
       "      <td></td>\n",
       "      <td>N</td>\n",
       "      <td>0.0</td>\n",
       "      <td>C</td>\n",
       "      <td></td>\n",
       "    </tr>\n",
       "    <tr>\n",
       "      <th>3</th>\n",
       "      <td>3</td>\n",
       "      <td>4169ab8d76a6</td>\n",
       "      <td></td>\n",
       "      <td>M8 X 1.25-6g X 40MM HHCS, BRASS</td>\n",
       "      <td>W/ BRITE DIP TO PRINT</td>\n",
       "      <td>0.21900</td>\n",
       "      <td>49100</td>\n",
       "      <td>0</td>\n",
       "      <td></td>\n",
       "      <td></td>\n",
       "      <td></td>\n",
       "      <td>0</td>\n",
       "      <td></td>\n",
       "      <td>N</td>\n",
       "      <td>0.0</td>\n",
       "      <td>A</td>\n",
       "      <td>M8 X 1.25-6g X 40MM HHCS, BRASS W/ BRITE DIP T...</td>\n",
       "    </tr>\n",
       "    <tr>\n",
       "      <th>4</th>\n",
       "      <td>4</td>\n",
       "      <td>e30c8087f64d</td>\n",
       "      <td></td>\n",
       "      <td>1/4-20 X 5/8 Unslotted Hex Hd Screw w/ L/W &amp; F/W</td>\n",
       "      <td>18-8 Stainless Steel per F593C</td>\n",
       "      <td>0.00000</td>\n",
       "      <td>0</td>\n",
       "      <td>0</td>\n",
       "      <td></td>\n",
       "      <td></td>\n",
       "      <td></td>\n",
       "      <td>0</td>\n",
       "      <td></td>\n",
       "      <td>N</td>\n",
       "      <td>0.0</td>\n",
       "      <td>A</td>\n",
       "      <td>1/4-20 X 5/8 Unslotted Hex Hd Screw w/ L/W &amp; F...</td>\n",
       "    </tr>\n",
       "  </tbody>\n",
       "</table>\n",
       "</div>"
      ],
      "text/plain": [
       "   Unnamed: 0   part_number class  \\\n",
       "0           0  5f08e3cf2e05         \n",
       "1           1  37062f157a8c         \n",
       "2           2  9fafb0891d5f         \n",
       "3           3  4169ab8d76a6         \n",
       "4           4  e30c8087f64d         \n",
       "\n",
       "                                            descrip  \\\n",
       "0                                         MS20822-4   \n",
       "1         1/4-28 x 10.313 Machine Screw, 1022 Steel   \n",
       "2                                 Artemis Heat Sink   \n",
       "3                   M8 X 1.25-6g X 40MM HHCS, BRASS   \n",
       "4  1/4-20 X 5/8 Unslotted Hex Hd Screw w/ L/W & F/W   \n",
       "\n",
       "                                 descrip2     cost  onhand  onorder  \\\n",
       "0                                          9.48626    2129        0   \n",
       "1  B/O(Dwg 18571);97022; HTS 7318.15.0000  0.19000  162000        0   \n",
       "2                                          0.00000       0        0   \n",
       "3                   W/ BRITE DIP TO PRINT  0.21900   49100        0   \n",
       "4          18-8 Stainless Steel per F593C  0.00000       0        0   \n",
       "\n",
       "  master_list custno revision  aql syscom physical  oldcost owner  \\\n",
       "0           Y  17580        F    1               N      0.0     A   \n",
       "1           Y  14700       19    1               N      0.0     A   \n",
       "2                                0               N      0.0     C   \n",
       "3                                0               N      0.0     A   \n",
       "4                                0               N      0.0     A   \n",
       "\n",
       "                                         description  \n",
       "0                                                     \n",
       "1  1/4-28 x 10.313 Machine Screw, 1022 Steel B/O(...  \n",
       "2                                                     \n",
       "3  M8 X 1.25-6g X 40MM HHCS, BRASS W/ BRITE DIP T...  \n",
       "4  1/4-20 X 5/8 Unslotted Hex Hd Screw w/ L/W & F...  "
      ]
     },
     "execution_count": 17,
     "metadata": {},
     "output_type": "execute_result"
    }
   ],
   "source": [
    "parts_list = inventory.replace(np.nan, ' ', regex=True)\n",
    "parts_list.head()"
   ]
  },
  {
   "cell_type": "code",
   "execution_count": 20,
   "metadata": {},
   "outputs": [],
   "source": [
    "parts_list['description'] = parts_list['descrip'] + ' ' + parts_list['descrip2']"
   ]
  },
  {
   "cell_type": "code",
   "execution_count": 21,
   "metadata": {},
   "outputs": [
    {
     "data": {
      "text/plain": [
       "0                                          MS20822-4  \n",
       "1    1/4-28 x 10.313 Machine Screw, 1022 Steel B/O(...\n",
       "2                                  Artemis Heat Sink  \n",
       "3    M8 X 1.25-6g X 40MM HHCS, BRASS W/ BRITE DIP T...\n",
       "4    1/4-20 X 5/8 Unslotted Hex Hd Screw w/ L/W & F...\n",
       "Name: description, dtype: object"
      ]
     },
     "execution_count": 21,
     "metadata": {},
     "output_type": "execute_result"
    }
   ],
   "source": [
    "parts_list['description'].head()"
   ]
  },
  {
   "cell_type": "code",
   "execution_count": null,
   "metadata": {},
   "outputs": [],
   "source": []
  }
 ],
 "metadata": {
  "kernelspec": {
   "display_name": "Python 3",
   "language": "python",
   "name": "python3"
  },
  "language_info": {
   "codemirror_mode": {
    "name": "ipython",
    "version": 3
   },
   "file_extension": ".py",
   "mimetype": "text/x-python",
   "name": "python",
   "nbconvert_exporter": "python",
   "pygments_lexer": "ipython3",
   "version": "3.6.7"
  }
 },
 "nbformat": 4,
 "nbformat_minor": 2
}
