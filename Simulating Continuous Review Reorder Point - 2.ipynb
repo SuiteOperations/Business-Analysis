{
 "cells": [
  {
   "cell_type": "markdown",
   "metadata": {},
   "source": [
    "## Continuous Review Reorder Point\n",
    "\n",
    "* Parts always reviewed\n",
    "* Reorder Point Constant\n",
    "* Order time is variable\n",
    "* Expensive in monitoring time (every day)\n",
    "* Can build in cost savings (if there is price break or shipping min, you can set reorder qty to include. then is always will be part of order)\n",
    "* Cant adjust with items to same supplier\n",
    "* \n"
   ]
  },
  {
   "cell_type": "code",
   "execution_count": 91,
   "metadata": {},
   "outputs": [],
   "source": [
    "import numpy as np\n",
    "import random\n",
    "from geneticalgorithm import geneticalgorithm as ga\n",
    "import seaborn as sns\n",
    "import matplotlib.pyplot as plt\n",
    "\n",
    "sns.set_style('whitegrid')\n",
    "\n",
    "%matplotlib inline"
   ]
  },
  {
   "cell_type": "code",
   "execution_count": 92,
   "metadata": {},
   "outputs": [],
   "source": [
    "# Set Global Variables\n",
    "global mean_demand\n",
    "global demand_std \n",
    "global min_lead_time\n",
    "global max_lead_time\n",
    "global service_level\n",
    "\n",
    "# Define Globals\n",
    "mean_demand = 100  # average daily demand\n",
    "demand_std = 20    # daily deviation\n",
    "max_lead_time = 7 # in days\n",
    "min_lead_time = 3  # in days\n",
    "service_level = 95 # as percent\n",
    "\n",
    "# Define Objective Inputs\n",
    "reorder_point = 800\n",
    "order_quantity = 1000\n",
    "\n",
    "simulation_rounds = 10\n",
    "simulation_length = 250 # in days"
   ]
  },
  {
   "cell_type": "code",
   "execution_count": 93,
   "metadata": {},
   "outputs": [],
   "source": [
    "# Demand Generator using a normal distribution\n",
    "\n",
    "def generate_daily_demand(daily_mean, daily_std):\n",
    "    \n",
    "    daily_demand = round(np.random.normal(daily_mean, daily_std),0)\n",
    "    \n",
    "    return daily_demand\n",
    "\n"
   ]
  },
  {
   "cell_type": "code",
   "execution_count": 94,
   "metadata": {},
   "outputs": [],
   "source": [
    "def lead_time(min_leadtime, max_leadtime):\n",
    "    return random.randint(min_leadtime, max_leadtime)"
   ]
  },
  {
   "cell_type": "code",
   "execution_count": 95,
   "metadata": {},
   "outputs": [],
   "source": [
    "# Runs a single day of operations including:\n",
    "# * Receiving Orders\n",
    "# * Using Parts\n",
    "# * Returns ending inventory, daily usage\n",
    "\n",
    "def run_daily_operations(beg_inventory, to_be_received, mean_demand, demand_std ):\n",
    "    \n",
    "    inventory = beg_inventory\n",
    "    \n",
    "    # Receive Stock\n",
    "    inventory += to_be_received\n",
    "    \n",
    "    # Use parts\n",
    "    demand = generate_daily_demand(mean_demand, demand_std)\n",
    "    inventory -= demand\n",
    "    \n",
    "    return [inventory, demand]"
   ]
  },
  {
   "cell_type": "code",
   "execution_count": 96,
   "metadata": {},
   "outputs": [],
   "source": [
    "def pipeline_inventory(current_day, on_order_dict):\n",
    "    pipeline_inventory = 0\n",
    "    for dock_date, quantity in on_order_dict.items():\n",
    "        if dock_date >= current_day+1: pipeline_inventory += quantity\n",
    "    return pipeline_inventory\n",
    "    "
   ]
  },
  {
   "cell_type": "code",
   "execution_count": 97,
   "metadata": {},
   "outputs": [],
   "source": [
    "def run_daily_simulation(current_day, order_point, order_quantity, beg_inventory, mean_demand, demand_std):\n",
    "    global on_order\n",
    "    global orders\n",
    "    global order_date\n",
    "    \n",
    "    # Check to see if we need to order parts, if so, order.\n",
    "    # If you aren't careful, you'll reorder the day your recieve, so make sure that current inventory considers to_be_received\n",
    "    if (beg_inventory + on_order[current_day] + pipeline_inventory(current_day,on_order)) <= order_point:\n",
    "        on_order[current_day + lead_time(min_lead_time, max_lead_time)] = order_quantity\n",
    "        orders += 1\n",
    "        order_date[current_day] = 1\n",
    "  \n",
    "    # Run daily operations (shipping / receiving)\n",
    "    daily_results = run_daily_operations(beg_inventory, on_order[current_day], mean_demand, demand_std)\n",
    "    \n",
    "    # Update Counters and Trackers\n",
    "    ending_inventory = max(daily_results[0],0)\n",
    "    inventory[current_day] = ending_inventory\n",
    "    demand.append(daily_results[1])\n",
    "    usage.append(min(daily_results[1],beg_inventory))\n",
    "    \n",
    "    return ending_inventory\n",
    "    \n",
    "    "
   ]
  },
  {
   "cell_type": "code",
   "execution_count": 98,
   "metadata": {},
   "outputs": [],
   "source": [
    "def inventory_simulation(simulation_length, order_point, order_quantity, mean_demand, demand_std ):\n",
    "    \n",
    "    # Define Global Tracking Dictionaries\n",
    "    global on_order\n",
    "    global inventory\n",
    "    global demand\n",
    "    global usage\n",
    "    global orders\n",
    "    global order_date\n",
    "\n",
    "    # Create an array of days for the simulation based on length\n",
    "    day_idx = list(range(1,simulation_length+1))\n",
    "\n",
    "    # Create tracking dicts\n",
    "    on_order = {day:0 for day in day_idx} #Blank receiving dict\n",
    "    inventory = {day:0 for day in day_idx}\n",
    "    order_date = {day:0 for day in day_idx}\n",
    "    demand = []\n",
    "    usage = []\n",
    "    orders = 0\n",
    "    \n",
    "    # Set starting values\n",
    "    current_inventory = order_quantity\n",
    "    \n",
    "    for current_day in range(1,simulation_length+1):\n",
    "        \n",
    "        current_inventory = run_daily_simulation(current_day, order_point, order_quantity, current_inventory, mean_demand, demand_std)\n",
    "    \n",
    "    # simulation objective function\n",
    "    sim_obj = np.array([inventory[day] for day in inventory]).mean()\n",
    "        \n",
    "    \n",
    "    # simulation penalty basis (GA doesnt use a cost function)\n",
    "    service_level = np.sum(usage)/np.sum(demand)\n",
    "    sim_pen = service_level * 100\n",
    "    \n",
    "    return [sim_obj, sim_pen]\n"
   ]
  },
  {
   "cell_type": "code",
   "execution_count": 99,
   "metadata": {},
   "outputs": [
    {
     "data": {
      "text/plain": [
       "[689.924, 98.67172675521822]"
      ]
     },
     "execution_count": 99,
     "metadata": {},
     "output_type": "execute_result"
    }
   ],
   "source": [
    "inventory_simulation(simulation_length, reorder_point, order_quantity, mean_demand, demand_std)"
   ]
  },
  {
   "cell_type": "code",
   "execution_count": 100,
   "metadata": {},
   "outputs": [],
   "source": [
    "inventory_history = np.array(list(inventory.values()))"
   ]
  },
  {
   "cell_type": "code",
   "execution_count": 101,
   "metadata": {},
   "outputs": [
    {
     "data": {
      "text/plain": [
       "[<matplotlib.lines.Line2D at 0x7fb18acff8d0>]"
      ]
     },
     "execution_count": 101,
     "metadata": {},
     "output_type": "execute_result"
    },
    {
     "data": {
      "image/png": "[encoded data removed]",
      "text/plain": [
       "<Figure size 432x288 with 1 Axes>"
      ]
     },
     "metadata": {
      "needs_background": "light"
     },
     "output_type": "display_data"
    }
   ],
   "source": [
    "# Inventory Simulation\n",
    "plt.plot(inventory_history)"
   ]
  },
  {
   "cell_type": "code",
   "execution_count": 102,
   "metadata": {},
   "outputs": [
    {
     "data": {
      "text/plain": [
       "1"
      ]
     },
     "execution_count": 102,
     "metadata": {},
     "output_type": "execute_result"
    }
   ],
   "source": [
    "# Stockouts\n",
    "stockout_days = len(inventory_history) - np.count_nonzero(inventory_history)\n",
    "stockout_days"
   ]
  },
  {
   "cell_type": "code",
   "execution_count": 103,
   "metadata": {},
   "outputs": [
    {
     "data": {
      "text/plain": [
       "25"
      ]
     },
     "execution_count": 103,
     "metadata": {},
     "output_type": "execute_result"
    }
   ],
   "source": [
    "# Orders\n",
    "orders"
   ]
  },
  {
   "cell_type": "code",
   "execution_count": 104,
   "metadata": {},
   "outputs": [
    {
     "data": {
      "text/plain": [
       "10.0"
      ]
     },
     "execution_count": 104,
     "metadata": {},
     "output_type": "execute_result"
    }
   ],
   "source": [
    "# Time Between Orders\n",
    "time_to_order = simulation_length/orders\n",
    "time_to_order"
   ]
  },
  {
   "cell_type": "code",
   "execution_count": null,
   "metadata": {},
   "outputs": [],
   "source": []
  }
 ],
 "metadata": {
  "kernelspec": {
   "display_name": "Python 3",
   "language": "python",
   "name": "python3"
  },
  "language_info": {
   "codemirror_mode": {
    "name": "ipython",
    "version": 3
   },
   "file_extension": ".py",
   "mimetype": "text/x-python",
   "name": "python",
   "nbconvert_exporter": "python",
   "pygments_lexer": "ipython3",
   "version": "3.7.8"
  }
 },
 "nbformat": 4,
 "nbformat_minor": 4
}
