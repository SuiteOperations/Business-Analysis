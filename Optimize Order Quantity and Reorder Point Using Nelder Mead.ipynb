{
 "cells": [
  {
   "cell_type": "code",
   "execution_count": 1,
   "metadata": {},
   "outputs": [],
   "source": [
    "import numpy as np\n",
    "import random\n",
    "from geneticalgorithm import geneticalgorithm as ga\n",
    "import seaborn as sns\n",
    "import matplotlib.pyplot as plt\n",
    "\n",
    "from scipy.optimize import minimize, LinearConstraint\n",
    "\n",
    "sns.set_style('whitegrid')\n",
    "\n",
    "%matplotlib inline"
   ]
  },
  {
   "cell_type": "code",
   "execution_count": 2,
   "metadata": {},
   "outputs": [],
   "source": [
    "# Set Global Variables\n",
    "global mean_demand\n",
    "global demand_std \n",
    "global min_lead_time\n",
    "global max_lead_time\n",
    "global service_level\n",
    "\n",
    "# Define Globals\n",
    "mean_demand = 100  # average daily demand\n",
    "demand_std = 20    # daily deviation\n",
    "max_lead_time = 7 # in days\n",
    "min_lead_time = 3  # in days\n",
    "service_level = 95 # as percent\n",
    "\n",
    "simulation_rounds = 10\n",
    "simulation_length = 250 # in days"
   ]
  },
  {
   "cell_type": "code",
   "execution_count": 3,
   "metadata": {},
   "outputs": [],
   "source": [
    "# Demand Generator using a normal distribution\n",
    "\n",
    "def generate_daily_demand(daily_mean, daily_std):\n",
    "    \n",
    "    daily_demand = round(np.random.normal(daily_mean, daily_std),0)\n",
    "    \n",
    "    return daily_demand\n",
    "\n"
   ]
  },
  {
   "cell_type": "code",
   "execution_count": 4,
   "metadata": {},
   "outputs": [],
   "source": [
    "def lead_time(min_leadtime, max_leadtime):\n",
    "    return random.randint(min_leadtime, max_leadtime)"
   ]
  },
  {
   "cell_type": "code",
   "execution_count": 5,
   "metadata": {},
   "outputs": [],
   "source": [
    "# Runs a single day of operations including:\n",
    "# * Receiving Orders\n",
    "# * Using Parts\n",
    "# * Returns ending inventory, daily usage\n",
    "\n",
    "def run_daily_operations(beg_inventory, to_be_received, mean_demand, demand_std ):\n",
    "    \n",
    "    inventory = beg_inventory\n",
    "    \n",
    "    # Receive Stock\n",
    "    inventory += to_be_received\n",
    "    \n",
    "    # Use parts\n",
    "    demand = generate_daily_demand(mean_demand, demand_std)\n",
    "    inventory -= demand\n",
    "    \n",
    "    return [inventory, demand]"
   ]
  },
  {
   "cell_type": "code",
   "execution_count": 6,
   "metadata": {},
   "outputs": [],
   "source": [
    "def pipeline_inventory(current_day, on_order_dict):\n",
    "    pipeline_inventory = 0\n",
    "    for dock_date, quantity in on_order_dict.items():\n",
    "        if dock_date >= current_day+1: pipeline_inventory += quantity\n",
    "    return pipeline_inventory\n",
    "    "
   ]
  },
  {
   "cell_type": "code",
   "execution_count": 7,
   "metadata": {},
   "outputs": [],
   "source": [
    "def run_daily_simulation(current_day, order_point, order_quantity, beg_inventory, mean_demand, demand_std):\n",
    "    global on_order\n",
    "    global orders\n",
    "    global order_date\n",
    "    \n",
    "    # Check to see if we need to order parts, if so, order.\n",
    "    # If you aren't careful, you'll reorder the day your recieve, so make sure that current inventory considers to_be_received\n",
    "    if (beg_inventory + on_order[current_day] + pipeline_inventory(current_day,on_order)) <= order_point:\n",
    "        on_order[current_day + lead_time(min_lead_time, max_lead_time)] = order_quantity\n",
    "  \n",
    "    # Run daily operations (shipping / receiving)\n",
    "    daily_results = run_daily_operations(beg_inventory, on_order[current_day], mean_demand, demand_std)\n",
    "    \n",
    "    # Update Counters and Trackers\n",
    "    ending_inventory = max(daily_results[0],0)\n",
    "    inventory[current_day] = ending_inventory\n",
    "    demand.append(daily_results[1])\n",
    "    usage.append(min(daily_results[1],beg_inventory))\n",
    "    \n",
    "    return ending_inventory\n",
    "    \n",
    "    "
   ]
  },
  {
   "cell_type": "code",
   "execution_count": 8,
   "metadata": {},
   "outputs": [],
   "source": [
    "def inventory_simulation(simulation_length, order_point, order_quantity, mean_demand, demand_std ):\n",
    "    \n",
    "    # Define Global Tracking Dictionaries\n",
    "    global on_order\n",
    "    global inventory\n",
    "    global demand\n",
    "    global usage\n",
    "    global orders\n",
    "    global order_date\n",
    "\n",
    "    # Create an array of days for the simulation based on length\n",
    "    day_idx = list(range(1,simulation_length+1))\n",
    "\n",
    "    # Create tracking dicts\n",
    "    on_order = {day:0 for day in day_idx} #Blank receiving dict\n",
    "    inventory = {day:0 for day in day_idx}\n",
    "    order_date = {day:0 for day in day_idx}\n",
    "    demand = []\n",
    "    usage = []\n",
    "    orders = 0\n",
    "    \n",
    "    # Set starting values\n",
    "    current_inventory = order_quantity\n",
    "    \n",
    "    for current_day in range(1,simulation_length+1):\n",
    "        \n",
    "        current_inventory = run_daily_simulation(current_day, order_point, order_quantity, current_inventory, mean_demand, demand_std)\n",
    "    \n",
    "    # simulation objective function\n",
    "    sim_obj = np.array([inventory[day] for day in inventory]).mean()\n",
    "        \n",
    "    \n",
    "    # simulation penalty basis (GA doesnt use a cost function)\n",
    "    service_level = np.sum(usage)/np.sum(demand)\n",
    "    sim_pen = service_level * 100\n",
    "    \n",
    "    return [sim_obj, sim_pen]\n"
   ]
  },
  {
   "cell_type": "code",
   "execution_count": 9,
   "metadata": {},
   "outputs": [],
   "source": [
    "# Build the simulation\n",
    "# We will use 2 inputs (X)\n",
    "# * Order Point\n",
    "# * Order Quantity\n",
    "\n",
    "def inventory_model(X):\n",
    "    \n",
    "    # Define Inputs\n",
    "    order_point = X[0]\n",
    "    order_quantity = X[1]\n",
    "    \n",
    "    # Define Objective Function\n",
    "    average_inventory = 0\n",
    "    \n",
    "    # Define Penalty & Constraints\n",
    "    average_service_level = 0\n",
    "    \n",
    "    for sim_round in range(simulation_rounds):\n",
    "        \n",
    "        result = inventory_simulation(simulation_length, order_point, order_quantity, mean_demand, demand_std)\n",
    "        \n",
    "        average_inventory += result[0]\n",
    "        average_service_level += result[1]\n",
    "    \n",
    "    \n",
    "    average_inventory = average_inventory/simulation_rounds\n",
    "    average_service_level = average_service_level/simulation_rounds\n",
    "    \n",
    "    # Objective Function calculation with penalty\n",
    "    penalty = 5*max_lead_time*generate_daily_demand(mean_demand, demand_std) # max possible value\n",
    "    \n",
    "    if average_service_level < service_level:\n",
    "        objective_function = average_inventory + penalty\n",
    "    else:\n",
    "        objective_function = average_inventory\n",
    "        \n",
    "    return objective_function\n",
    "    "
   ]
  },
  {
   "cell_type": "code",
   "execution_count": 14,
   "metadata": {},
   "outputs": [],
   "source": [
    "# Set variable bounds\n",
    "varbounds = np.array([[0,mean_demand*simulation_length]]*2)\n"
   ]
  },
  {
   "cell_type": "code",
   "execution_count": 21,
   "metadata": {},
   "outputs": [],
   "source": [
    "res = minimize(inventory_model,\n",
    "              x0 = [952, 200],\n",
    "              method='nelder-mead',\n",
    "              options={'maxiter': 200})\n",
    "          "
   ]
  },
  {
   "cell_type": "code",
   "execution_count": 22,
   "metadata": {},
   "outputs": [
    {
     "data": {
      "text/plain": [
       " final_simplex: (array([[856.8, 205. ],\n",
       "       [856.8, 205. ],\n",
       "       [856.8, 205. ]]), array([284.4196, 302.0332, 303.728 ]))\n",
       "           fun: 284.41960000000006\n",
       "       message: 'Maximum number of iterations has been exceeded.'\n",
       "          nfev: 517\n",
       "           nit: 200\n",
       "        status: 2\n",
       "       success: False\n",
       "             x: array([856.8, 205. ])"
      ]
     },
     "execution_count": 22,
     "metadata": {},
     "output_type": "execute_result"
    }
   ],
   "source": [
    "res"
   ]
  },
  {
   "cell_type": "markdown",
   "metadata": {},
   "source": [
    "This model is only built as a simple demonstration to show the concept. \n",
    "\n",
    "If you are going to use:\n",
    "* Leadtime could be a normally distributed, rather than linearlh\n",
    "* You could run this, iteratively on all parts based on actual [usage rather](https://github.com/joshuamschultz/business-analysis/blob/master/Inventory%20Optimization%20-%20Modeling%20Inventory%20Usage.ipynb) than described model\n",
    "* Use better distributions (part pulls are not normally distributed)\n",
    "* Use compound distributions (Poisson for timing, lognormal for quantity)\n",
    "* Dont use average rounds (lose data), or find a way to capture the possible deviations lost in averaging\n",
    "* Incorporate order costs, storage costs, and other costs\n",
    "* Auto load historical data to generate the optimiziation\n"
   ]
  }
 ],
 "metadata": {
  "kernelspec": {
   "display_name": "Python 3",
   "language": "python",
   "name": "python3"
  },
  "language_info": {
   "codemirror_mode": {
    "name": "ipython",
    "version": 3
   },
   "file_extension": ".py",
   "mimetype": "text/x-python",
   "name": "python",
   "nbconvert_exporter": "python",
   "pygments_lexer": "ipython3",
   "version": "3.7.8"
  }
 },
 "nbformat": 4,
 "nbformat_minor": 4
}
