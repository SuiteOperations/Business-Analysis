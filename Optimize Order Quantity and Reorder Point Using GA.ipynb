{
 "cells": [
  {
   "cell_type": "code",
   "execution_count": 97,
   "metadata": {},
   "outputs": [],
   "source": [
    "import numpy as np\n",
    "import random\n",
    "from geneticalgorithm import geneticalgorithm as ga\n",
    "import seaborn as sns\n",
    "import matplotlib.pyplot as plt\n",
    "\n",
    "sns.set_style('whitegrid')\n",
    "\n",
    "%matplotlib inline"
   ]
  },
  {
   "cell_type": "code",
   "execution_count": 98,
   "metadata": {},
   "outputs": [],
   "source": [
    "# Set Variables\n",
    "mean_demand = 100  # average daily demand\n",
    "demand_std = 20    # daily deviation\n",
    "max_lead_time = 21 # in days\n",
    "min_lead_time = 5  # in days\n",
    "service_level = 95 # as percent\n",
    "\n",
    "simulation_rounds = 10\n",
    "simulation_length = 250 # in days"
   ]
  },
  {
   "cell_type": "code",
   "execution_count": 99,
   "metadata": {},
   "outputs": [],
   "source": [
    "# Demand Generator using a normal distribution\n",
    "\n",
    "def generate_daily_demand(daily_mean, daily_std):\n",
    "    \n",
    "    daily_demand = round(np.random.normal(daily_mean, daily_std),0)\n",
    "    \n",
    "    return daily_demand\n",
    "\n"
   ]
  },
  {
   "cell_type": "code",
   "execution_count": 100,
   "metadata": {},
   "outputs": [],
   "source": [
    "# Runs a single day of operations including:\n",
    "# * Receiving Orders\n",
    "# * Using Parts\n",
    "# * Returns ending inventory, daily usage\n",
    "\n",
    "def run_daily_operations(beg_inventory, to_be_received):\n",
    "    \n",
    "    inventory = beg_inventory\n",
    "    \n",
    "    # Receive Stock\n",
    "    inventory += to_be_received\n",
    "    \n",
    "    # Use parts\n",
    "    demand = generate_daily_demand(mean_demand, demand_std)\n",
    "    inventory -= demand\n",
    "    \n",
    "    return [inventory, demand]"
   ]
  },
  {
   "cell_type": "code",
   "execution_count": 131,
   "metadata": {},
   "outputs": [],
   "source": [
    "# Build the simulation\n",
    "# We will use 2 inputs (X)\n",
    "# * Order Point\n",
    "# * Order Quantity\n",
    "\n",
    "def inventory_simulation(X):\n",
    "    order_point = X[0]\n",
    "    order_quantity = X[1]\n",
    "    \n",
    "    average_inventory = 0\n",
    "    average_service_level = 0\n",
    "    \n",
    "    for sim_round in range(simulation_rounds):\n",
    "        \n",
    "        round_average_inventory = 0\n",
    "        round_service_level = 0\n",
    "        \n",
    "        # Set Counters (all averages of simulation rounds)\n",
    "        stockout_quantity = 0\n",
    "        orders = 0\n",
    "        usage = 0\n",
    "        \n",
    "        # Set Tracking Dictionaries\n",
    "        day_idx = list(range(1,simulation_length+1))\n",
    "        on_order = {day:0 for day in day_idx}\n",
    "        \n",
    "        # Set tracking arrays\n",
    "        demand_tracking = []\n",
    "        inventory_tracking = []\n",
    "        units_sold_tracking = []\n",
    "        \n",
    "        # Set starting numbers\n",
    "        inventory = order_quantity\n",
    "        \n",
    "        for day in range(simulation_length+1):\n",
    "   \n",
    "            if day == 0:\n",
    "                pipeline_inventory = 0\n",
    "                inventory = order_quantity\n",
    "            else:\n",
    "                beginning_inventory = inventory\n",
    "            \n",
    "                # calculate leadtime, so we have it if needed\n",
    "                leadtime = random.randint(min_lead_time,max_lead_time)\n",
    "\n",
    "                # check to see if we need to reorder after yesterday activities \n",
    "                if (inventory + pipeline_inventory) <= order_point:\n",
    "                    on_order[day+leadtime] = order_quantity\n",
    "\n",
    "                daily_operations = run_daily_operations(inventory,on_order[day])\n",
    "                \n",
    "                inventory = max(daily_operations[0],0)\n",
    "                inventory_tracking.append(inventory)\n",
    "                demand_tracking.append(daily_operations[1])\n",
    "                units_sold_tracking.append(min(daily_operations[1],inventory))\n",
    "                \n",
    "                pipeline_inventory = 0\n",
    "\n",
    "                for order_day, quantity in on_order.items():\n",
    "                    if order_day >= day+1: pipeline_inventory += quantity\n",
    "         \n",
    "        # Calculations for this simulation round\n",
    "        round_average_inventory += np.mean(inventory_tracking)             #accumulating\n",
    "        round_unit_sales = np.sum(units_sold_tracking)\n",
    "        round_total_demand = np.sum(demand_tracking)\n",
    "        \n",
    "        round_service_level += (round_unit_sales / round_total_demand)*100 #accumulating\n",
    "        \n",
    "        print(round_average_inventory)\n",
    "        print(round_unit_sales)\n",
    "        print(round_total_demand)\n",
    "    \n",
    "    # Calculations based on all simulations\n",
    "    average_inventory = round_average_inventory / simulation_rounds\n",
    "    average_service_level = round_service_level / simulation_rounds\n",
    "    \n",
    "    # Objective Function calculation\n",
    "    penalty = 0#5*max_lead_time*generate_daily_demand(mean_demand, demand_std) # max possible value\n",
    "    \n",
    "    if average_service_level < service_level:\n",
    "        objective_function = average_inventory + penalty\n",
    "    else:\n",
    "        objective_function = average_inventory\n",
    "    \n",
    "    return [objective_function, average_service_level]"
   ]
  },
  {
   "cell_type": "code",
   "execution_count": 132,
   "metadata": {},
   "outputs": [
    {
     "name": "stdout",
     "output_type": "stream",
     "text": [
      "216.528\n",
      "10816.0\n",
      "24949.0\n",
      "255.808\n",
      "12479.0\n",
      "24706.0\n",
      "279.708\n",
      "13414.0\n",
      "24627.0\n",
      "247.424\n",
      "11916.0\n",
      "25110.0\n",
      "247.164\n",
      "12005.0\n",
      "24487.0\n",
      "235.112\n",
      "11689.0\n",
      "25408.0\n",
      "253.364\n",
      "12530.0\n",
      "25274.0\n",
      "254.82\n",
      "12626.0\n",
      "24768.0\n",
      "255.556\n",
      "12537.0\n",
      "24930.0\n",
      "254.268\n",
      "12489.0\n",
      "25392.0\n"
     ]
    },
    {
     "data": {
      "text/plain": [
       "[25.4268, 4.918478260869565]"
      ]
     },
     "execution_count": 132,
     "metadata": {},
     "output_type": "execute_result"
    }
   ],
   "source": [
    "# Average Inventory\n",
    "inventory_simulation([500,1000])"
   ]
  },
  {
   "cell_type": "code",
   "execution_count": 68,
   "metadata": {},
   "outputs": [],
   "source": [
    "# Set variable bounds\n",
    "varbound = np.array([[0,mean_demand*simulation_length]]*2)"
   ]
  },
  {
   "cell_type": "code",
   "execution_count": 63,
   "metadata": {},
   "outputs": [],
   "source": [
    "# Set the algorithm parameters\n",
    "algorithm_param = {'max_num_iteration': 1000,\n",
    "                   'population_size':15,\n",
    "                   'mutation_probability':0.1,\n",
    "                   'elit_ratio': 0.01,\n",
    "                   'crossover_probability': 0.5,\n",
    "                   'parents_portion': 0.3,\n",
    "                   'crossover_type':'uniform',\n",
    "                   'max_iteration_without_improv':100}"
   ]
  },
  {
   "cell_type": "code",
   "execution_count": 64,
   "metadata": {},
   "outputs": [],
   "source": [
    "# Objective Function: average inventory\n",
    "# Goal:               Minimize our objective function\n",
    "# Contraints:         Maintain Service Level\n",
    "\n",
    "# Build the model\n",
    "model=ga(function=inventory_simulation,dimension=2,variable_type='real',variable_boundaries=varbound,algorithm_parameters=algorithm_param)\n"
   ]
  },
  {
   "cell_type": "code",
   "execution_count": 65,
   "metadata": {},
   "outputs": [
    {
     "name": "stdout",
     "output_type": "stream",
     "text": [
      " The best solution found:                                                                           \n",
      " [ 363.70883565 2427.20220539]\n",
      "\n",
      " Objective function:\n",
      " 508.20320143460975\n"
     ]
    },
    {
     "data": {
      "image/png": "[encoded data removed]",
      "text/plain": [
       "<Figure size 432x288 with 1 Axes>"
      ]
     },
     "metadata": {
      "needs_background": "light"
     },
     "output_type": "display_data"
    },
    {
     "name": "stdout",
     "output_type": "stream",
     "text": [
      "\n",
      "Warning: GA is terminated due to the maximum number of iterations without improvement was met!"
     ]
    }
   ],
   "source": [
    "model.run()"
   ]
  },
  {
   "cell_type": "markdown",
   "metadata": {},
   "source": [
    "Improvement\n",
    "* use better distributions\n",
    "* use compound distributions (Poisson for timing, lognormal for quantity)\n",
    "* Dont use average rounds (lose data), or find a way to capture\n",
    "* Incorporate order costs, storage costs, and other costs\n",
    "* Auto load historical data to generate the optimiziation\n"
   ]
  }
 ],
 "metadata": {
  "kernelspec": {
   "display_name": "Python 3",
   "language": "python",
   "name": "python3"
  },
  "language_info": {
   "codemirror_mode": {
    "name": "ipython",
    "version": 3
   },
   "file_extension": ".py",
   "mimetype": "text/x-python",
   "name": "python",
   "nbconvert_exporter": "python",
   "pygments_lexer": "ipython3",
   "version": "3.7.8"
  }
 },
 "nbformat": 4,
 "nbformat_minor": 4
}
