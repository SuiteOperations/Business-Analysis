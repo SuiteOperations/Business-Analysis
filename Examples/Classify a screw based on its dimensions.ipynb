{
 "cells": [
  {
   "cell_type": "markdown",
   "metadata": {},
   "source": [
    "We are going to try to build a model that will automatically classify a part based on the dimension it is fed"
   ]
  },
  {
   "cell_type": "markdown",
   "metadata": {},
   "source": [
    "For discrete and high dimensional data, a Naive classification works well."
   ]
  },
  {
   "cell_type": "markdown",
   "metadata": {},
   "source": [
    "Also, the variation in part production tends to follow a normal distribution, so a Gaussian assumption should prove acceptable."
   ]
  },
  {
   "cell_type": "code",
   "execution_count": 75,
   "metadata": {},
   "outputs": [],
   "source": [
    "import numpy as np\n",
    "import pandas as pd"
   ]
  },
  {
   "cell_type": "markdown",
   "metadata": {},
   "source": [
    "First we need to import the data. I have a history of measurements for ANSI 18.6.3 Pan Head Machine Screws that have passed inspection from our inspection records. This will be our training data for the model."
   ]
  },
  {
   "cell_type": "markdown",
   "metadata": {},
   "source": [
    "You can create training data as well by creating data withint the ANSI limits using a Gaussian distribution of random variables."
   ]
  },
  {
   "cell_type": "code",
   "execution_count": 76,
   "metadata": {},
   "outputs": [
    {
     "name": "stdout",
     "output_type": "stream",
     "text": [
      "'ANSI_B18.6.3 History.xlsx'\t  sales_data_sample.csv\r\n",
      " BlackFriday.csv*\t\t  sales_data_sample.xlsx\r\n",
      " customer_data.xlsx\t\t  sales_data_sample_no_customer.xlsx\r\n",
      " government_purchase_orders.csv   sales_encryption.csv\r\n",
      " inventory_list.csv\t\t  screw_corpus.xml\r\n",
      " part_usage_trailing_12.xlsx\t  wiki/\r\n",
      " purchases_by_vendor.xlsx\r\n"
     ]
    }
   ],
   "source": [
    "ls ../data"
   ]
  },
  {
   "cell_type": "code",
   "execution_count": 77,
   "metadata": {},
   "outputs": [],
   "source": [
    "inspection_data = pd.read_excel('../data/ANSI_B18.6.3 History.xlsx')"
   ]
  },
  {
   "cell_type": "code",
   "execution_count": 78,
   "metadata": {},
   "outputs": [
    {
     "data": {
      "text/html": [
       "<div>\n",
       "<style scoped>\n",
       "    .dataframe tbody tr th:only-of-type {\n",
       "        vertical-align: middle;\n",
       "    }\n",
       "\n",
       "    .dataframe tbody tr th {\n",
       "        vertical-align: top;\n",
       "    }\n",
       "\n",
       "    .dataframe thead th {\n",
       "        text-align: right;\n",
       "    }\n",
       "</style>\n",
       "<table border=\"1\" class=\"dataframe\">\n",
       "  <thead>\n",
       "    <tr style=\"text-align: right;\">\n",
       "      <th></th>\n",
       "      <th>Nominal Size</th>\n",
       "      <th>A</th>\n",
       "      <th>H</th>\n",
       "      <th>J</th>\n",
       "      <th>T</th>\n",
       "      <th>M</th>\n",
       "      <th>G</th>\n",
       "      <th>N</th>\n",
       "    </tr>\n",
       "  </thead>\n",
       "  <tbody>\n",
       "    <tr>\n",
       "      <th>0</th>\n",
       "      <td>0</td>\n",
       "      <td>0.106</td>\n",
       "      <td>0.039</td>\n",
       "      <td>0.019</td>\n",
       "      <td>0.019</td>\n",
       "      <td>0.060</td>\n",
       "      <td>0.051</td>\n",
       "      <td>0.013014</td>\n",
       "    </tr>\n",
       "    <tr>\n",
       "      <th>1</th>\n",
       "      <td>0</td>\n",
       "      <td>0.109</td>\n",
       "      <td>0.033</td>\n",
       "      <td>0.016</td>\n",
       "      <td>0.021</td>\n",
       "      <td>0.063</td>\n",
       "      <td>0.046</td>\n",
       "      <td>0.013947</td>\n",
       "    </tr>\n",
       "    <tr>\n",
       "      <th>2</th>\n",
       "      <td>0</td>\n",
       "      <td>0.110</td>\n",
       "      <td>0.038</td>\n",
       "      <td>0.018</td>\n",
       "      <td>0.016</td>\n",
       "      <td>0.066</td>\n",
       "      <td>0.039</td>\n",
       "      <td>0.013164</td>\n",
       "    </tr>\n",
       "    <tr>\n",
       "      <th>3</th>\n",
       "      <td>0</td>\n",
       "      <td>0.105</td>\n",
       "      <td>0.034</td>\n",
       "      <td>0.021</td>\n",
       "      <td>0.020</td>\n",
       "      <td>0.063</td>\n",
       "      <td>0.044</td>\n",
       "      <td>0.013133</td>\n",
       "    </tr>\n",
       "    <tr>\n",
       "      <th>4</th>\n",
       "      <td>0</td>\n",
       "      <td>0.108</td>\n",
       "      <td>0.039</td>\n",
       "      <td>0.018</td>\n",
       "      <td>0.017</td>\n",
       "      <td>0.058</td>\n",
       "      <td>0.045</td>\n",
       "      <td>0.013916</td>\n",
       "    </tr>\n",
       "  </tbody>\n",
       "</table>\n",
       "</div>"
      ],
      "text/plain": [
       "  Nominal Size      A      H      J      T      M      G         N\n",
       "0            0  0.106  0.039  0.019  0.019  0.060  0.051  0.013014\n",
       "1            0  0.109  0.033  0.016  0.021  0.063  0.046  0.013947\n",
       "2            0  0.110  0.038  0.018  0.016  0.066  0.039  0.013164\n",
       "3            0  0.105  0.034  0.021  0.020  0.063  0.044  0.013133\n",
       "4            0  0.108  0.039  0.018  0.017  0.058  0.045  0.013916"
      ]
     },
     "execution_count": 78,
     "metadata": {},
     "output_type": "execute_result"
    }
   ],
   "source": [
    "inspection_data.head()"
   ]
  },
  {
   "cell_type": "markdown",
   "metadata": {},
   "source": [
    "To make it easier to understand the dimensions, I'll convert the headers to actual dimension descriptions"
   ]
  },
  {
   "cell_type": "code",
   "execution_count": 79,
   "metadata": {},
   "outputs": [],
   "source": [
    "inspection_data.columns = [\"Nominal Size\", \"Head Diameter\",\"Head Height\", \"Slot Width\", \"Slot Depth\", \"Recess Diameter\", \"Recess Depth\", \"Recess Width\"]"
   ]
  },
  {
   "cell_type": "code",
   "execution_count": 80,
   "metadata": {},
   "outputs": [
    {
     "data": {
      "text/html": [
       "<div>\n",
       "<style scoped>\n",
       "    .dataframe tbody tr th:only-of-type {\n",
       "        vertical-align: middle;\n",
       "    }\n",
       "\n",
       "    .dataframe tbody tr th {\n",
       "        vertical-align: top;\n",
       "    }\n",
       "\n",
       "    .dataframe thead th {\n",
       "        text-align: right;\n",
       "    }\n",
       "</style>\n",
       "<table border=\"1\" class=\"dataframe\">\n",
       "  <thead>\n",
       "    <tr style=\"text-align: right;\">\n",
       "      <th></th>\n",
       "      <th>Nominal Size</th>\n",
       "      <th>Head Diameter</th>\n",
       "      <th>Head Height</th>\n",
       "      <th>Slot Width</th>\n",
       "      <th>Slot Depth</th>\n",
       "      <th>Recess Diameter</th>\n",
       "      <th>Recess Depth</th>\n",
       "      <th>Recess Width</th>\n",
       "    </tr>\n",
       "  </thead>\n",
       "  <tbody>\n",
       "    <tr>\n",
       "      <th>0</th>\n",
       "      <td>0</td>\n",
       "      <td>0.106</td>\n",
       "      <td>0.039</td>\n",
       "      <td>0.019</td>\n",
       "      <td>0.019</td>\n",
       "      <td>0.060</td>\n",
       "      <td>0.051</td>\n",
       "      <td>0.013014</td>\n",
       "    </tr>\n",
       "    <tr>\n",
       "      <th>1</th>\n",
       "      <td>0</td>\n",
       "      <td>0.109</td>\n",
       "      <td>0.033</td>\n",
       "      <td>0.016</td>\n",
       "      <td>0.021</td>\n",
       "      <td>0.063</td>\n",
       "      <td>0.046</td>\n",
       "      <td>0.013947</td>\n",
       "    </tr>\n",
       "    <tr>\n",
       "      <th>2</th>\n",
       "      <td>0</td>\n",
       "      <td>0.110</td>\n",
       "      <td>0.038</td>\n",
       "      <td>0.018</td>\n",
       "      <td>0.016</td>\n",
       "      <td>0.066</td>\n",
       "      <td>0.039</td>\n",
       "      <td>0.013164</td>\n",
       "    </tr>\n",
       "    <tr>\n",
       "      <th>3</th>\n",
       "      <td>0</td>\n",
       "      <td>0.105</td>\n",
       "      <td>0.034</td>\n",
       "      <td>0.021</td>\n",
       "      <td>0.020</td>\n",
       "      <td>0.063</td>\n",
       "      <td>0.044</td>\n",
       "      <td>0.013133</td>\n",
       "    </tr>\n",
       "    <tr>\n",
       "      <th>4</th>\n",
       "      <td>0</td>\n",
       "      <td>0.108</td>\n",
       "      <td>0.039</td>\n",
       "      <td>0.018</td>\n",
       "      <td>0.017</td>\n",
       "      <td>0.058</td>\n",
       "      <td>0.045</td>\n",
       "      <td>0.013916</td>\n",
       "    </tr>\n",
       "  </tbody>\n",
       "</table>\n",
       "</div>"
      ],
      "text/plain": [
       "  Nominal Size  Head Diameter  Head Height  Slot Width  Slot Depth  \\\n",
       "0            0          0.106        0.039       0.019       0.019   \n",
       "1            0          0.109        0.033       0.016       0.021   \n",
       "2            0          0.110        0.038       0.018       0.016   \n",
       "3            0          0.105        0.034       0.021       0.020   \n",
       "4            0          0.108        0.039       0.018       0.017   \n",
       "\n",
       "   Recess Diameter  Recess Depth  Recess Width  \n",
       "0            0.060         0.051      0.013014  \n",
       "1            0.063         0.046      0.013947  \n",
       "2            0.066         0.039      0.013164  \n",
       "3            0.063         0.044      0.013133  \n",
       "4            0.058         0.045      0.013916  "
      ]
     },
     "execution_count": 80,
     "metadata": {},
     "output_type": "execute_result"
    }
   ],
   "source": [
    "inspection_data.head()"
   ]
  },
  {
   "cell_type": "markdown",
   "metadata": {},
   "source": [
    "Now it is time to build a model from the data"
   ]
  },
  {
   "cell_type": "markdown",
   "metadata": {},
   "source": [
    "Our variable we are looking to classify with is the Nominal Size. So that is 'y', the others are the data we will use to identify, so they will be 'X'\\"
   ]
  },
  {
   "cell_type": "code",
   "execution_count": 102,
   "metadata": {},
   "outputs": [
    {
     "data": {
      "text/plain": [
       "array([[1.06000000e-01, 3.90000000e-02, 1.90000000e-02, ...,\n",
       "        6.00000000e-02, 5.10000000e-02, 1.30142340e-02],\n",
       "       [1.09000000e-01, 3.30000000e-02, 1.60000000e-02, ...,\n",
       "        6.30000000e-02, 4.60000000e-02, 1.39468246e-02],\n",
       "       [1.10000000e-01, 3.80000000e-02, 1.80000000e-02, ...,\n",
       "        6.60000000e-02, 3.90000000e-02, 1.31643785e-02],\n",
       "       ...,\n",
       "       [6.09000000e-01, 1.62000000e-01, 7.50000000e-02, ...,\n",
       "        3.44000000e-01, 2.70000000e-01, 4.66518190e-04],\n",
       "       [5.95000000e-01, 1.76000000e-01, 7.70000000e-02, ...,\n",
       "        3.45000000e-01, 2.75000000e-01, 6.37955378e-04],\n",
       "       [5.99000000e-01, 1.66000000e-01, 8.10000000e-02, ...,\n",
       "        3.40000000e-01, 3.32000000e-01, 1.20945544e-05]])"
      ]
     },
     "execution_count": 102,
     "metadata": {},
     "output_type": "execute_result"
    }
   ],
   "source": [
    "X = inspection_data[['Head Diameter','Head Height', 'Slot Width', 'Slot Depth', 'Recess Diameter', 'Recess Depth', 'Recess Width']]\n",
    "y = inspection_data[['Nominal Size']]\n",
    "X = X.values\n",
    "y = y.values.reshape(-1) # Reshape it to a 1d array\n",
    "y = list( map(str, y) ) # Turn the numbers to a string for classification\n",
    "X"
   ]
  },
  {
   "cell_type": "code",
   "execution_count": 104,
   "metadata": {},
   "outputs": [
    {
     "data": {
      "text/plain": [
       "GaussianNB(priors=None, var_smoothing=1e-09)"
      ]
     },
     "execution_count": 104,
     "metadata": {},
     "output_type": "execute_result"
    }
   ],
   "source": [
    "from sklearn.naive_bayes import GaussianNB\n",
    "model = GaussianNB()\n",
    "model.fit(X,y)"
   ]
  },
  {
   "cell_type": "markdown",
   "metadata": {},
   "source": [
    "We now have a model!\n",
    "Let's test it"
   ]
  },
  {
   "cell_type": "code",
   "execution_count": 108,
   "metadata": {},
   "outputs": [],
   "source": [
    "#Creating a new measurement\n",
    "# I am going to input a new measurement of a Nominal Size 4 Screw I just measured...\n",
    "new_part = [[0.218, 0.062, 0.037, 0.04, 0.113, 0.107, 0.019]]\n",
    "prediction = model.predict(new_part)"
   ]
  },
  {
   "cell_type": "code",
   "execution_count": 109,
   "metadata": {},
   "outputs": [
    {
     "data": {
      "text/plain": [
       "'4'"
      ]
     },
     "execution_count": 109,
     "metadata": {},
     "output_type": "execute_result"
    }
   ],
   "source": [
    "prediction[0]"
   ]
  },
  {
   "cell_type": "markdown",
   "metadata": {},
   "source": [
    "As you can see, it correctly classified the bolt.\n",
    "\n",
    "This can be extended to add the different specifications for different types of parts and standards. This way it is expanded to not only identify the size, but the standard, type of screw, etc. This is just a simple example of using the Gaussian Naive Bayesian model for classification."
   ]
  },
  {
   "cell_type": "code",
   "execution_count": null,
   "metadata": {},
   "outputs": [],
   "source": []
  }
 ],
 "metadata": {
  "kernelspec": {
   "display_name": "Python 3",
   "language": "python",
   "name": "python3"
  },
  "language_info": {
   "codemirror_mode": {
    "name": "ipython",
    "version": 3
   },
   "file_extension": ".py",
   "mimetype": "text/x-python",
   "name": "python",
   "nbconvert_exporter": "python",
   "pygments_lexer": "ipython3",
   "version": "3.7.3"
  }
 },
 "nbformat": 4,
 "nbformat_minor": 2
}
