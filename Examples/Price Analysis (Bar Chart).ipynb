{
 "cells": [
  {
   "cell_type": "code",
   "execution_count": 58,
   "metadata": {},
   "outputs": [],
   "source": [
    "import pandas as pd\n",
    "import numpy as np\n",
    "import matplotlib.pyplot as plt"
   ]
  },
  {
   "cell_type": "code",
   "execution_count": 59,
   "metadata": {},
   "outputs": [
    {
     "name": "stdout",
     "output_type": "stream",
     "text": [
      "'ANSI_B18.6.3 History.xlsx'\t\t   part_usage_trailing_12.xlsx\r\n",
      " BlackFriday.csv*\t\t\t   price_list.csv\r\n",
      " GradeARestaurantsManhattan/\t\t   purchases_by_vendor.xlsx\r\n",
      " customer_data.xlsx\t\t\t   sales_data_sample.csv\r\n",
      " government_purchase_orders.csv\t\t   sales_data_sample.xlsx\r\n",
      " inventory_list.csv\t\t\t   sales_data_sample_no_customer.xlsx\r\n",
      "'line measurements - with problems.xlsx'   sales_encryption.csv\r\n",
      "'line measurements.xlsx'\t\t   screw_corpus.xml\r\n",
      " open_order_report.csv\t\t\t   wiki/\r\n"
     ]
    }
   ],
   "source": [
    "ls"
   ]
  },
  {
   "cell_type": "code",
   "execution_count": 60,
   "metadata": {},
   "outputs": [],
   "source": [
    "prices = pd.read_csv('price_list.csv')"
   ]
  },
  {
   "cell_type": "code",
   "execution_count": 61,
   "metadata": {},
   "outputs": [
    {
     "data": {
      "text/html": [
       "<div>\n",
       "<style scoped>\n",
       "    .dataframe tbody tr th:only-of-type {\n",
       "        vertical-align: middle;\n",
       "    }\n",
       "\n",
       "    .dataframe tbody tr th {\n",
       "        vertical-align: top;\n",
       "    }\n",
       "\n",
       "    .dataframe thead th {\n",
       "        text-align: right;\n",
       "    }\n",
       "</style>\n",
       "<table border=\"1\" class=\"dataframe\">\n",
       "  <thead>\n",
       "    <tr style=\"text-align: right;\">\n",
       "      <th></th>\n",
       "      <th>part_number</th>\n",
       "      <th>cost</th>\n",
       "      <th>qty_sold</th>\n",
       "      <th>Label</th>\n",
       "    </tr>\n",
       "  </thead>\n",
       "  <tbody>\n",
       "    <tr>\n",
       "      <th>0</th>\n",
       "      <td>5f08e3cf2e05</td>\n",
       "      <td>9.48626</td>\n",
       "      <td>20</td>\n",
       "      <td>Custom</td>\n",
       "    </tr>\n",
       "    <tr>\n",
       "      <th>1</th>\n",
       "      <td>37062f157a8c</td>\n",
       "      <td>0.19000</td>\n",
       "      <td>62</td>\n",
       "      <td>Standard</td>\n",
       "    </tr>\n",
       "    <tr>\n",
       "      <th>2</th>\n",
       "      <td>9fafb0891d5f</td>\n",
       "      <td>0.00000</td>\n",
       "      <td>12</td>\n",
       "      <td>Overseas</td>\n",
       "    </tr>\n",
       "    <tr>\n",
       "      <th>3</th>\n",
       "      <td>4169ab8d76a6</td>\n",
       "      <td>0.21900</td>\n",
       "      <td>27</td>\n",
       "      <td>Standard</td>\n",
       "    </tr>\n",
       "    <tr>\n",
       "      <th>4</th>\n",
       "      <td>e30c8087f64d</td>\n",
       "      <td>0.00000</td>\n",
       "      <td>77</td>\n",
       "      <td>Overseas</td>\n",
       "    </tr>\n",
       "  </tbody>\n",
       "</table>\n",
       "</div>"
      ],
      "text/plain": [
       "    part_number     cost  qty_sold     Label\n",
       "0  5f08e3cf2e05  9.48626        20    Custom\n",
       "1  37062f157a8c  0.19000        62  Standard\n",
       "2  9fafb0891d5f  0.00000        12  Overseas\n",
       "3  4169ab8d76a6  0.21900        27  Standard\n",
       "4  e30c8087f64d  0.00000        77  Overseas"
      ]
     },
     "execution_count": 61,
     "metadata": {},
     "output_type": "execute_result"
    }
   ],
   "source": [
    "prices.head()"
   ]
  },
  {
   "cell_type": "code",
   "execution_count": 62,
   "metadata": {},
   "outputs": [],
   "source": [
    "prices = prices.drop(prices[prices.cost <= 0].index)"
   ]
  },
  {
   "cell_type": "code",
   "execution_count": 63,
   "metadata": {},
   "outputs": [
    {
     "data": {
      "text/html": [
       "<div>\n",
       "<style scoped>\n",
       "    .dataframe tbody tr th:only-of-type {\n",
       "        vertical-align: middle;\n",
       "    }\n",
       "\n",
       "    .dataframe tbody tr th {\n",
       "        vertical-align: top;\n",
       "    }\n",
       "\n",
       "    .dataframe thead th {\n",
       "        text-align: right;\n",
       "    }\n",
       "</style>\n",
       "<table border=\"1\" class=\"dataframe\">\n",
       "  <thead>\n",
       "    <tr style=\"text-align: right;\">\n",
       "      <th></th>\n",
       "      <th>part_number</th>\n",
       "      <th>cost</th>\n",
       "      <th>qty_sold</th>\n",
       "      <th>Label</th>\n",
       "      <th>extended</th>\n",
       "    </tr>\n",
       "  </thead>\n",
       "  <tbody>\n",
       "    <tr>\n",
       "      <th>0</th>\n",
       "      <td>5f08e3cf2e05</td>\n",
       "      <td>9.48626</td>\n",
       "      <td>20</td>\n",
       "      <td>Custom</td>\n",
       "      <td>189.72520</td>\n",
       "    </tr>\n",
       "    <tr>\n",
       "      <th>1</th>\n",
       "      <td>37062f157a8c</td>\n",
       "      <td>0.19000</td>\n",
       "      <td>62</td>\n",
       "      <td>Standard</td>\n",
       "      <td>11.78000</td>\n",
       "    </tr>\n",
       "    <tr>\n",
       "      <th>3</th>\n",
       "      <td>4169ab8d76a6</td>\n",
       "      <td>0.21900</td>\n",
       "      <td>27</td>\n",
       "      <td>Standard</td>\n",
       "      <td>5.91300</td>\n",
       "    </tr>\n",
       "    <tr>\n",
       "      <th>7</th>\n",
       "      <td>5f017d5ba9cd</td>\n",
       "      <td>0.04500</td>\n",
       "      <td>97</td>\n",
       "      <td>Overseas</td>\n",
       "      <td>4.36500</td>\n",
       "    </tr>\n",
       "    <tr>\n",
       "      <th>8</th>\n",
       "      <td>fb40d7f2de49</td>\n",
       "      <td>0.14562</td>\n",
       "      <td>27</td>\n",
       "      <td>Overseas</td>\n",
       "      <td>3.93174</td>\n",
       "    </tr>\n",
       "  </tbody>\n",
       "</table>\n",
       "</div>"
      ],
      "text/plain": [
       "    part_number     cost  qty_sold     Label   extended\n",
       "0  5f08e3cf2e05  9.48626        20    Custom  189.72520\n",
       "1  37062f157a8c  0.19000        62  Standard   11.78000\n",
       "3  4169ab8d76a6  0.21900        27  Standard    5.91300\n",
       "7  5f017d5ba9cd  0.04500        97  Overseas    4.36500\n",
       "8  fb40d7f2de49  0.14562        27  Overseas    3.93174"
      ]
     },
     "execution_count": 63,
     "metadata": {},
     "output_type": "execute_result"
    }
   ],
   "source": [
    "prices['extended'] = prices['cost'] * prices['qty_sold']\n",
    "prices.head()"
   ]
  },
  {
   "cell_type": "code",
   "execution_count": 64,
   "metadata": {},
   "outputs": [],
   "source": [
    "types = prices['Label'].unique()"
   ]
  },
  {
   "cell_type": "code",
   "execution_count": 65,
   "metadata": {},
   "outputs": [],
   "source": [
    "totals = []\n",
    "for label in types:\n",
    "    label = prices[prices['Label'] == label].sum().extended\n",
    "    totals.append(label)"
   ]
  },
  {
   "cell_type": "code",
   "execution_count": 66,
   "metadata": {},
   "outputs": [
    {
     "data": {
      "image/png": "[encoded data removed]",
      "text/plain": [
       "<Figure size 432x288 with 1 Axes>"
      ]
     },
     "metadata": {
      "needs_background": "light"
     },
     "output_type": "display_data"
    }
   ],
   "source": [
    "plt.bar(types, totals)\n",
    "plt.xlabel('Part Category', fontsize=10)\n",
    "plt.ylabel('Sales in USD', fontsize=10)\n",
    "plt.xticks(types, fontsize=10, rotation=30)\n",
    "plt.title('Total Sales for each Part Category')\n",
    "plt.show()"
   ]
  },
  {
   "cell_type": "code",
   "execution_count": null,
   "metadata": {},
   "outputs": [],
   "source": []
  }
 ],
 "metadata": {
  "kernelspec": {
   "display_name": "Python 3",
   "language": "python",
   "name": "python3"
  },
  "language_info": {
   "codemirror_mode": {
    "name": "ipython",
    "version": 3
   },
   "file_extension": ".py",
   "mimetype": "text/x-python",
   "name": "python",
   "nbconvert_exporter": "python",
   "pygments_lexer": "ipython3",
   "version": "3.6.7"
  }
 },
 "nbformat": 4,
 "nbformat_minor": 2
}
