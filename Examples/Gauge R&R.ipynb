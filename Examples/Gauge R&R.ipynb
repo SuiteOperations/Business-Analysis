{
 "cells": [
  {
   "cell_type": "code",
   "execution_count": 1,
   "metadata": {},
   "outputs": [],
   "source": [
    "import numpy as np\n",
    "import matplotlib.pyplot as plt\n",
    "\n",
    "%matplotlib inline"
   ]
  },
  {
   "cell_type": "code",
   "execution_count": 2,
   "metadata": {},
   "outputs": [],
   "source": [
    "Appraiser_1 = [4.21, 4.68, 4.44, 4.46, 4.05, 4.23, 4.48, 4.73, 4.33, 3.67]\n",
    "Appraiser_2 = [3.65, 4.08, 3.97, 3.79, 3.82, 4.19, 4.37, 4.67, 4.30, 3.73]\n",
    "Appraiser_3 = [4.31, 4.17, 3.84, 3.94, 3.91, 4.07, 4.53, 4.25, 3.90, 3.53]"
   ]
  },
  {
   "cell_type": "code",
   "execution_count": null,
   "metadata": {},
   "outputs": [],
   "source": []
  }
 ],
 "metadata": {
  "kernelspec": {
   "display_name": "Python 3",
   "language": "python",
   "name": "python3"
  },
  "language_info": {
   "codemirror_mode": {
    "name": "ipython",
    "version": 3
   },
   "file_extension": ".py",
   "mimetype": "text/x-python",
   "name": "python",
   "nbconvert_exporter": "python",
   "pygments_lexer": "ipython3",
   "version": "3.6.7"
  }
 },
 "nbformat": 4,
 "nbformat_minor": 2
}
