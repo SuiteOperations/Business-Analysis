{
 "cells": [
  {
   "cell_type": "code",
   "execution_count": 50,
   "metadata": {},
   "outputs": [],
   "source": [
    "import pandas as pd\n",
    "import numpy as np\n",
    "import datetime"
   ]
  },
  {
   "cell_type": "code",
   "execution_count": 51,
   "metadata": {},
   "outputs": [
    {
     "name": "stdout",
     "output_type": "stream",
     "text": [
      "/Users/joshua/Dropbox/Desktop/NAFTA\r\n"
     ]
    }
   ],
   "source": [
    "!pwd"
   ]
  },
  {
   "cell_type": "code",
   "execution_count": 98,
   "metadata": {},
   "outputs": [
    {
     "name": "stdout",
     "output_type": "stream",
     "text": [
      "/Users/joshua/Dropbox/Desktop/NAFTA\n"
     ]
    }
   ],
   "source": [
    "%cd /Users/joshua/Desktop/NAFTA"
   ]
  },
  {
   "cell_type": "code",
   "execution_count": 99,
   "metadata": {},
   "outputs": [
    {
     "name": "stdout",
     "output_type": "stream",
     "text": [
      "Originals      inventory.xlsx\t     potran_01012017.xlsx  sotran_01012017.xlsx\r\n",
      "alt_item.xlsx  pomast_01012017.xlsx  somast_01012017.xlsx  vendors.xlsx\r\n"
     ]
    }
   ],
   "source": [
    "!ls"
   ]
  },
  {
   "cell_type": "markdown",
   "metadata": {},
   "source": [
    "## 4 Questions\n",
    "1. What parts did we sell in the year?\n",
    "2. Which of these were to the cusotmer in question?\n",
    "3. Where did we buy those parts?\n",
    "4. What country are those vendors in?\n",
    "\n",
    "## Put in data terms\n",
    "1. so_line by date\n",
    "2. Filter by customer\n",
    "3. Join to po_mast (for vendor, possibly from po_mast to vendor is neeeded)\n",
    "4. vendor country"
   ]
  },
  {
   "cell_type": "markdown",
   "metadata": {},
   "source": [
    "### 1. What parts did we sell in the year"
   ]
  },
  {
   "cell_type": "code",
   "execution_count": 21,
   "metadata": {},
   "outputs": [],
   "source": [
    "items_sold = pd.read_excel('sotran_01012017.xlsx')"
   ]
  },
  {
   "cell_type": "code",
   "execution_count": 26,
   "metadata": {},
   "outputs": [
    {
     "data": {
      "text/plain": [
       "(23229, 22)"
      ]
     },
     "execution_count": 26,
     "metadata": {},
     "output_type": "execute_result"
    }
   ],
   "source": [
    "items_sold.shape"
   ]
  },
  {
   "cell_type": "code",
   "execution_count": 27,
   "metadata": {},
   "outputs": [
    {
     "data": {
      "text/html": [
       "<div>\n",
       "<style scoped>\n",
       "    .dataframe tbody tr th:only-of-type {\n",
       "        vertical-align: middle;\n",
       "    }\n",
       "\n",
       "    .dataframe tbody tr th {\n",
       "        vertical-align: top;\n",
       "    }\n",
       "\n",
       "    .dataframe thead th {\n",
       "        text-align: right;\n",
       "    }\n",
       "</style>\n",
       "<table border=\"1\" class=\"dataframe\">\n",
       "  <thead>\n",
       "    <tr style=\"text-align: right;\">\n",
       "      <th></th>\n",
       "      <th>custno</th>\n",
       "      <th>acustno</th>\n",
       "      <th>cost</th>\n",
       "      <th>price</th>\n",
       "      <th>qtyord</th>\n",
       "      <th>qtyshp</th>\n",
       "      <th>qtylft</th>\n",
       "      <th>qtybo</th>\n",
       "      <th>extprice</th>\n",
       "      <th>shipqty</th>\n",
       "      <th>seq</th>\n",
       "      <th>qtytoshp</th>\n",
       "    </tr>\n",
       "  </thead>\n",
       "  <tbody>\n",
       "    <tr>\n",
       "      <th>count</th>\n",
       "      <td>23229.000000</td>\n",
       "      <td>2693.000000</td>\n",
       "      <td>23229.000000</td>\n",
       "      <td>23229.000000</td>\n",
       "      <td>2.322900e+04</td>\n",
       "      <td>23229.000000</td>\n",
       "      <td>2.322900e+04</td>\n",
       "      <td>23229.0</td>\n",
       "      <td>23229.000000</td>\n",
       "      <td>23229.0</td>\n",
       "      <td>23229.000000</td>\n",
       "      <td>23229.0</td>\n",
       "    </tr>\n",
       "    <tr>\n",
       "      <th>mean</th>\n",
       "      <td>26252.659693</td>\n",
       "      <td>44847.225771</td>\n",
       "      <td>2.027548</td>\n",
       "      <td>2.768720</td>\n",
       "      <td>3.307901e+03</td>\n",
       "      <td>2918.936502</td>\n",
       "      <td>3.889644e+02</td>\n",
       "      <td>0.0</td>\n",
       "      <td>611.640587</td>\n",
       "      <td>0.0</td>\n",
       "      <td>16.843601</td>\n",
       "      <td>0.0</td>\n",
       "    </tr>\n",
       "    <tr>\n",
       "      <th>std</th>\n",
       "      <td>36777.374705</td>\n",
       "      <td>80290.795870</td>\n",
       "      <td>35.896063</td>\n",
       "      <td>40.326782</td>\n",
       "      <td>2.285979e+04</td>\n",
       "      <td>14132.391956</td>\n",
       "      <td>1.742247e+04</td>\n",
       "      <td>0.0</td>\n",
       "      <td>5026.744653</td>\n",
       "      <td>0.0</td>\n",
       "      <td>20.673123</td>\n",
       "      <td>0.0</td>\n",
       "    </tr>\n",
       "    <tr>\n",
       "      <th>min</th>\n",
       "      <td>60.000000</td>\n",
       "      <td>200.000000</td>\n",
       "      <td>-0.001010</td>\n",
       "      <td>-1008.024000</td>\n",
       "      <td>-6.000000e+04</td>\n",
       "      <td>-60000.000000</td>\n",
       "      <td>0.000000e+00</td>\n",
       "      <td>0.0</td>\n",
       "      <td>-90431.880000</td>\n",
       "      <td>0.0</td>\n",
       "      <td>1.000000</td>\n",
       "      <td>0.0</td>\n",
       "    </tr>\n",
       "    <tr>\n",
       "      <th>25%</th>\n",
       "      <td>14700.000000</td>\n",
       "      <td>5315.000000</td>\n",
       "      <td>0.011130</td>\n",
       "      <td>0.031600</td>\n",
       "      <td>1.500000e+02</td>\n",
       "      <td>120.000000</td>\n",
       "      <td>0.000000e+00</td>\n",
       "      <td>0.0</td>\n",
       "      <td>25.000000</td>\n",
       "      <td>0.0</td>\n",
       "      <td>1.000000</td>\n",
       "      <td>0.0</td>\n",
       "    </tr>\n",
       "    <tr>\n",
       "      <th>50%</th>\n",
       "      <td>18700.000000</td>\n",
       "      <td>13800.000000</td>\n",
       "      <td>0.042370</td>\n",
       "      <td>0.100000</td>\n",
       "      <td>5.000000e+02</td>\n",
       "      <td>500.000000</td>\n",
       "      <td>0.000000e+00</td>\n",
       "      <td>0.0</td>\n",
       "      <td>76.500000</td>\n",
       "      <td>0.0</td>\n",
       "      <td>8.000000</td>\n",
       "      <td>0.0</td>\n",
       "    </tr>\n",
       "    <tr>\n",
       "      <th>75%</th>\n",
       "      <td>18700.000000</td>\n",
       "      <td>13911.000000</td>\n",
       "      <td>0.218000</td>\n",
       "      <td>0.485000</td>\n",
       "      <td>2.000000e+03</td>\n",
       "      <td>2000.000000</td>\n",
       "      <td>0.000000e+00</td>\n",
       "      <td>0.0</td>\n",
       "      <td>232.900000</td>\n",
       "      <td>0.0</td>\n",
       "      <td>25.000000</td>\n",
       "      <td>0.0</td>\n",
       "    </tr>\n",
       "    <tr>\n",
       "      <th>max</th>\n",
       "      <td>148000.000000</td>\n",
       "      <td>325700.000000</td>\n",
       "      <td>2950.000000</td>\n",
       "      <td>2950.000000</td>\n",
       "      <td>1.823000e+06</td>\n",
       "      <td>499200.000000</td>\n",
       "      <td>1.823000e+06</td>\n",
       "      <td>0.0</td>\n",
       "      <td>247901.080000</td>\n",
       "      <td>0.0</td>\n",
       "      <td>119.000000</td>\n",
       "      <td>0.0</td>\n",
       "    </tr>\n",
       "  </tbody>\n",
       "</table>\n",
       "</div>"
      ],
      "text/plain": [
       "              custno        acustno          cost         price        qtyord  \\\n",
       "count   23229.000000    2693.000000  23229.000000  23229.000000  2.322900e+04   \n",
       "mean    26252.659693   44847.225771      2.027548      2.768720  3.307901e+03   \n",
       "std     36777.374705   80290.795870     35.896063     40.326782  2.285979e+04   \n",
       "min        60.000000     200.000000     -0.001010  -1008.024000 -6.000000e+04   \n",
       "25%     14700.000000    5315.000000      0.011130      0.031600  1.500000e+02   \n",
       "50%     18700.000000   13800.000000      0.042370      0.100000  5.000000e+02   \n",
       "75%     18700.000000   13911.000000      0.218000      0.485000  2.000000e+03   \n",
       "max    148000.000000  325700.000000   2950.000000   2950.000000  1.823000e+06   \n",
       "\n",
       "              qtyshp        qtylft    qtybo       extprice  shipqty  \\\n",
       "count   23229.000000  2.322900e+04  23229.0   23229.000000  23229.0   \n",
       "mean     2918.936502  3.889644e+02      0.0     611.640587      0.0   \n",
       "std     14132.391956  1.742247e+04      0.0    5026.744653      0.0   \n",
       "min    -60000.000000  0.000000e+00      0.0  -90431.880000      0.0   \n",
       "25%       120.000000  0.000000e+00      0.0      25.000000      0.0   \n",
       "50%       500.000000  0.000000e+00      0.0      76.500000      0.0   \n",
       "75%      2000.000000  0.000000e+00      0.0     232.900000      0.0   \n",
       "max    499200.000000  1.823000e+06      0.0  247901.080000      0.0   \n",
       "\n",
       "                seq  qtytoshp  \n",
       "count  23229.000000   23229.0  \n",
       "mean      16.843601       0.0  \n",
       "std       20.673123       0.0  \n",
       "min        1.000000       0.0  \n",
       "25%        1.000000       0.0  \n",
       "50%        8.000000       0.0  \n",
       "75%       25.000000       0.0  \n",
       "max      119.000000       0.0  "
      ]
     },
     "execution_count": 27,
     "metadata": {},
     "output_type": "execute_result"
    }
   ],
   "source": [
    "items_sold.describe()"
   ]
  },
  {
   "cell_type": "code",
   "execution_count": 28,
   "metadata": {},
   "outputs": [
    {
     "data": {
      "text/html": [
       "<div>\n",
       "<style scoped>\n",
       "    .dataframe tbody tr th:only-of-type {\n",
       "        vertical-align: middle;\n",
       "    }\n",
       "\n",
       "    .dataframe tbody tr th {\n",
       "        vertical-align: top;\n",
       "    }\n",
       "\n",
       "    .dataframe thead th {\n",
       "        text-align: right;\n",
       "    }\n",
       "</style>\n",
       "<table border=\"1\" class=\"dataframe\">\n",
       "  <thead>\n",
       "    <tr style=\"text-align: right;\">\n",
       "      <th></th>\n",
       "      <th>sono</th>\n",
       "      <th>custno</th>\n",
       "      <th>cname</th>\n",
       "      <th>custpo</th>\n",
       "      <th>item</th>\n",
       "      <th>altitem</th>\n",
       "      <th>acustno</th>\n",
       "      <th>acustpo</th>\n",
       "      <th>acustname</th>\n",
       "      <th>cost</th>\n",
       "      <th>...</th>\n",
       "      <th>qtyshp</th>\n",
       "      <th>qtylft</th>\n",
       "      <th>qtybo</th>\n",
       "      <th>extprice</th>\n",
       "      <th>shipqty</th>\n",
       "      <th>seq</th>\n",
       "      <th>sostat</th>\n",
       "      <th>sotype</th>\n",
       "      <th>created</th>\n",
       "      <th>qtytoshp</th>\n",
       "    </tr>\n",
       "  </thead>\n",
       "  <tbody>\n",
       "    <tr>\n",
       "      <th>0</th>\n",
       "      <td>174021</td>\n",
       "      <td>800</td>\n",
       "      <td>ANDERSON INSTRUMENT CO.</td>\n",
       "      <td>PO00129032</td>\n",
       "      <td>36240V1507</td>\n",
       "      <td>36240V1507</td>\n",
       "      <td>NaN</td>\n",
       "      <td>NaN</td>\n",
       "      <td>NaN</td>\n",
       "      <td>0.07000</td>\n",
       "      <td>...</td>\n",
       "      <td>150</td>\n",
       "      <td>0</td>\n",
       "      <td>0</td>\n",
       "      <td>49.68</td>\n",
       "      <td>0</td>\n",
       "      <td>1</td>\n",
       "      <td>C</td>\n",
       "      <td>O</td>\n",
       "      <td>2017-01-03</td>\n",
       "      <td>0</td>\n",
       "    </tr>\n",
       "    <tr>\n",
       "      <th>1</th>\n",
       "      <td>174022</td>\n",
       "      <td>800</td>\n",
       "      <td>ANDERSON INSTRUMENT CO.</td>\n",
       "      <td>PO00129330</td>\n",
       "      <td>228305020-K1</td>\n",
       "      <td>4518400000</td>\n",
       "      <td>NaN</td>\n",
       "      <td>NaN</td>\n",
       "      <td>NaN</td>\n",
       "      <td>0.00810</td>\n",
       "      <td>...</td>\n",
       "      <td>500</td>\n",
       "      <td>0</td>\n",
       "      <td>0</td>\n",
       "      <td>20.55</td>\n",
       "      <td>0</td>\n",
       "      <td>1</td>\n",
       "      <td>C</td>\n",
       "      <td>O</td>\n",
       "      <td>2017-01-03</td>\n",
       "      <td>0</td>\n",
       "    </tr>\n",
       "    <tr>\n",
       "      <th>2</th>\n",
       "      <td>174016</td>\n",
       "      <td>141200</td>\n",
       "      <td>PAR 4 PLASTICS, INC.</td>\n",
       "      <td>30296</td>\n",
       "      <td>202537</td>\n",
       "      <td>700057</td>\n",
       "      <td>NaN</td>\n",
       "      <td>NaN</td>\n",
       "      <td>NaN</td>\n",
       "      <td>0.00971</td>\n",
       "      <td>...</td>\n",
       "      <td>10000</td>\n",
       "      <td>0</td>\n",
       "      <td>0</td>\n",
       "      <td>210.00</td>\n",
       "      <td>0</td>\n",
       "      <td>1</td>\n",
       "      <td>C</td>\n",
       "      <td>O</td>\n",
       "      <td>2017-01-02</td>\n",
       "      <td>0</td>\n",
       "    </tr>\n",
       "    <tr>\n",
       "      <th>3</th>\n",
       "      <td>174025</td>\n",
       "      <td>145700</td>\n",
       "      <td>IN PRECISION LINK</td>\n",
       "      <td>ASSEMBLY</td>\n",
       "      <td>17006-1K0-31P</td>\n",
       "      <td>501014</td>\n",
       "      <td>NaN</td>\n",
       "      <td>NaN</td>\n",
       "      <td>NaN</td>\n",
       "      <td>0.06029</td>\n",
       "      <td>...</td>\n",
       "      <td>25000</td>\n",
       "      <td>0</td>\n",
       "      <td>0</td>\n",
       "      <td>25.00</td>\n",
       "      <td>0</td>\n",
       "      <td>1</td>\n",
       "      <td>C</td>\n",
       "      <td>O</td>\n",
       "      <td>2017-01-04</td>\n",
       "      <td>0</td>\n",
       "    </tr>\n",
       "    <tr>\n",
       "      <th>4</th>\n",
       "      <td>174015</td>\n",
       "      <td>18700</td>\n",
       "      <td>WELCH ALLYN/ ACCTS PAYABLE</td>\n",
       "      <td>55002058</td>\n",
       "      <td>N-1301-192-0</td>\n",
       "      <td>740027-1</td>\n",
       "      <td>NaN</td>\n",
       "      <td>NaN</td>\n",
       "      <td>NaN</td>\n",
       "      <td>0.08500</td>\n",
       "      <td>...</td>\n",
       "      <td>100</td>\n",
       "      <td>0</td>\n",
       "      <td>0</td>\n",
       "      <td>6.24</td>\n",
       "      <td>0</td>\n",
       "      <td>1</td>\n",
       "      <td>C</td>\n",
       "      <td>O</td>\n",
       "      <td>2017-01-01</td>\n",
       "      <td>0</td>\n",
       "    </tr>\n",
       "  </tbody>\n",
       "</table>\n",
       "<p>5 rows × 22 columns</p>\n",
       "</div>"
      ],
      "text/plain": [
       "     sono  custno                       cname      custpo           item  \\\n",
       "0  174021     800     ANDERSON INSTRUMENT CO.  PO00129032     36240V1507   \n",
       "1  174022     800     ANDERSON INSTRUMENT CO.  PO00129330   228305020-K1   \n",
       "2  174016  141200        PAR 4 PLASTICS, INC.       30296         202537   \n",
       "3  174025  145700           IN PRECISION LINK    ASSEMBLY  17006-1K0-31P   \n",
       "4  174015   18700  WELCH ALLYN/ ACCTS PAYABLE    55002058   N-1301-192-0   \n",
       "\n",
       "      altitem  acustno acustpo acustname     cost   ...     qtyshp  qtylft  \\\n",
       "0  36240V1507      NaN     NaN       NaN  0.07000   ...        150       0   \n",
       "1  4518400000      NaN     NaN       NaN  0.00810   ...        500       0   \n",
       "2      700057      NaN     NaN       NaN  0.00971   ...      10000       0   \n",
       "3      501014      NaN     NaN       NaN  0.06029   ...      25000       0   \n",
       "4    740027-1      NaN     NaN       NaN  0.08500   ...        100       0   \n",
       "\n",
       "   qtybo  extprice  shipqty  seq  sostat  sotype    created qtytoshp  \n",
       "0      0     49.68        0    1       C       O 2017-01-03        0  \n",
       "1      0     20.55        0    1       C       O 2017-01-03        0  \n",
       "2      0    210.00        0    1       C       O 2017-01-02        0  \n",
       "3      0     25.00        0    1       C       O 2017-01-04        0  \n",
       "4      0      6.24        0    1       C       O 2017-01-01        0  \n",
       "\n",
       "[5 rows x 22 columns]"
      ]
     },
     "execution_count": 28,
     "metadata": {},
     "output_type": "execute_result"
    }
   ],
   "source": [
    "items_sold.head()"
   ]
  },
  {
   "cell_type": "code",
   "execution_count": 53,
   "metadata": {},
   "outputs": [
    {
     "data": {
      "text/plain": [
       "0       2017-01-03\n",
       "1       2017-01-03\n",
       "2       2017-01-02\n",
       "3       2017-01-04\n",
       "4       2017-01-01\n",
       "5       2017-01-01\n",
       "6       2017-01-01\n",
       "7       2017-01-01\n",
       "8       2017-01-01\n",
       "9       2017-01-01\n",
       "10      2017-01-03\n",
       "11      2017-01-03\n",
       "12      2017-01-03\n",
       "13      2017-01-03\n",
       "14      2017-01-03\n",
       "15      2017-01-03\n",
       "16      2017-01-03\n",
       "17      2017-01-03\n",
       "18      2017-01-03\n",
       "19      2017-01-03\n",
       "20      2017-01-03\n",
       "21      2017-01-03\n",
       "22      2017-01-03\n",
       "23      2017-01-03\n",
       "24      2017-01-03\n",
       "25      2017-01-03\n",
       "26      2017-01-03\n",
       "27      2017-01-03\n",
       "28      2017-01-03\n",
       "29      2017-01-03\n",
       "           ...    \n",
       "23199   2018-11-10\n",
       "23200   2018-11-10\n",
       "23201   2018-11-10\n",
       "23202   2018-11-10\n",
       "23203   2018-11-10\n",
       "23204   2018-11-10\n",
       "23205   2018-11-10\n",
       "23206   2018-11-10\n",
       "23207   2018-11-10\n",
       "23208   2018-11-10\n",
       "23209   2018-11-10\n",
       "23210   2018-11-10\n",
       "23211   2018-11-10\n",
       "23212   2018-11-10\n",
       "23213   2018-11-10\n",
       "23214   2018-11-10\n",
       "23215   2018-11-10\n",
       "23216   2018-11-10\n",
       "23217   2018-11-10\n",
       "23218   2018-11-10\n",
       "23219   2018-11-10\n",
       "23220   2018-11-10\n",
       "23221   2018-11-10\n",
       "23222   2018-11-10\n",
       "23223   2018-11-10\n",
       "23224   2018-11-10\n",
       "23225   2018-11-10\n",
       "23226   2018-11-10\n",
       "23227   2018-11-11\n",
       "23228   2018-11-11\n",
       "Name: created, Length: 23229, dtype: datetime64[ns]"
      ]
     },
     "execution_count": 53,
     "metadata": {},
     "output_type": "execute_result"
    }
   ],
   "source": [
    "pd.to_datetime(items_sold['created'])"
   ]
  },
  {
   "cell_type": "code",
   "execution_count": 66,
   "metadata": {},
   "outputs": [],
   "source": [
    "sales_2018 = items_sold[(items_sold['created'] >= '2018-01-01') & (items_sold['created'] <= '2018-12-31')]"
   ]
  },
  {
   "cell_type": "code",
   "execution_count": 68,
   "metadata": {},
   "outputs": [
    {
     "data": {
      "text/html": [
       "<div>\n",
       "<style scoped>\n",
       "    .dataframe tbody tr th:only-of-type {\n",
       "        vertical-align: middle;\n",
       "    }\n",
       "\n",
       "    .dataframe tbody tr th {\n",
       "        vertical-align: top;\n",
       "    }\n",
       "\n",
       "    .dataframe thead th {\n",
       "        text-align: right;\n",
       "    }\n",
       "</style>\n",
       "<table border=\"1\" class=\"dataframe\">\n",
       "  <thead>\n",
       "    <tr style=\"text-align: right;\">\n",
       "      <th></th>\n",
       "      <th>sono</th>\n",
       "      <th>custno</th>\n",
       "      <th>cname</th>\n",
       "      <th>custpo</th>\n",
       "      <th>item</th>\n",
       "      <th>altitem</th>\n",
       "      <th>acustno</th>\n",
       "      <th>acustpo</th>\n",
       "      <th>acustname</th>\n",
       "      <th>cost</th>\n",
       "      <th>...</th>\n",
       "      <th>qtyshp</th>\n",
       "      <th>qtylft</th>\n",
       "      <th>qtybo</th>\n",
       "      <th>extprice</th>\n",
       "      <th>shipqty</th>\n",
       "      <th>seq</th>\n",
       "      <th>sostat</th>\n",
       "      <th>sotype</th>\n",
       "      <th>created</th>\n",
       "      <th>qtytoshp</th>\n",
       "    </tr>\n",
       "  </thead>\n",
       "  <tbody>\n",
       "    <tr>\n",
       "      <th>12333</th>\n",
       "      <td>190013</td>\n",
       "      <td>117500</td>\n",
       "      <td>ANSEN CORPORATION</td>\n",
       "      <td>P46445VMI</td>\n",
       "      <td>SEM-SHCS-SEAL-L</td>\n",
       "      <td>SEM-SHCS-SEAL-L</td>\n",
       "      <td>NaN</td>\n",
       "      <td>NaN</td>\n",
       "      <td>NaN</td>\n",
       "      <td>0.52000</td>\n",
       "      <td>...</td>\n",
       "      <td>7000</td>\n",
       "      <td>0</td>\n",
       "      <td>0</td>\n",
       "      <td>3640.00</td>\n",
       "      <td>0</td>\n",
       "      <td>1</td>\n",
       "      <td>C</td>\n",
       "      <td>O</td>\n",
       "      <td>2018-01-03</td>\n",
       "      <td>0</td>\n",
       "    </tr>\n",
       "    <tr>\n",
       "      <th>12334</th>\n",
       "      <td>190013</td>\n",
       "      <td>117500</td>\n",
       "      <td>ANSEN CORPORATION</td>\n",
       "      <td>P46445VMI</td>\n",
       "      <td>33016-060-40</td>\n",
       "      <td>33016-060-40</td>\n",
       "      <td>NaN</td>\n",
       "      <td>NaN</td>\n",
       "      <td>NaN</td>\n",
       "      <td>0.33201</td>\n",
       "      <td>...</td>\n",
       "      <td>1550</td>\n",
       "      <td>0</td>\n",
       "      <td>0</td>\n",
       "      <td>1317.50</td>\n",
       "      <td>0</td>\n",
       "      <td>2</td>\n",
       "      <td>C</td>\n",
       "      <td>O</td>\n",
       "      <td>2018-01-03</td>\n",
       "      <td>0</td>\n",
       "    </tr>\n",
       "    <tr>\n",
       "      <th>12335</th>\n",
       "      <td>190013</td>\n",
       "      <td>117500</td>\n",
       "      <td>ANSEN CORPORATION</td>\n",
       "      <td>P46445VMI</td>\n",
       "      <td>20044-030-40</td>\n",
       "      <td>20044-030-40</td>\n",
       "      <td>NaN</td>\n",
       "      <td>NaN</td>\n",
       "      <td>NaN</td>\n",
       "      <td>0.08649</td>\n",
       "      <td>...</td>\n",
       "      <td>3298</td>\n",
       "      <td>0</td>\n",
       "      <td>0</td>\n",
       "      <td>388.17</td>\n",
       "      <td>0</td>\n",
       "      <td>3</td>\n",
       "      <td>C</td>\n",
       "      <td>O</td>\n",
       "      <td>2018-01-03</td>\n",
       "      <td>0</td>\n",
       "    </tr>\n",
       "    <tr>\n",
       "      <th>12336</th>\n",
       "      <td>190013</td>\n",
       "      <td>117500</td>\n",
       "      <td>ANSEN CORPORATION</td>\n",
       "      <td>P46445VMI</td>\n",
       "      <td>SEM-SHCS-SEAL-C</td>\n",
       "      <td>NaN</td>\n",
       "      <td>NaN</td>\n",
       "      <td>NaN</td>\n",
       "      <td>NaN</td>\n",
       "      <td>0.42000</td>\n",
       "      <td>...</td>\n",
       "      <td>500</td>\n",
       "      <td>0</td>\n",
       "      <td>0</td>\n",
       "      <td>210.00</td>\n",
       "      <td>0</td>\n",
       "      <td>4</td>\n",
       "      <td>C</td>\n",
       "      <td>O</td>\n",
       "      <td>2018-01-03</td>\n",
       "      <td>0</td>\n",
       "    </tr>\n",
       "    <tr>\n",
       "      <th>12337</th>\n",
       "      <td>190013</td>\n",
       "      <td>117500</td>\n",
       "      <td>ANSEN CORPORATION</td>\n",
       "      <td>P46445VMI</td>\n",
       "      <td>83012-TFP-40</td>\n",
       "      <td>83012-TFP-40</td>\n",
       "      <td>NaN</td>\n",
       "      <td>NaN</td>\n",
       "      <td>NaN</td>\n",
       "      <td>0.02323</td>\n",
       "      <td>...</td>\n",
       "      <td>34000</td>\n",
       "      <td>0</td>\n",
       "      <td>0</td>\n",
       "      <td>1904.00</td>\n",
       "      <td>0</td>\n",
       "      <td>5</td>\n",
       "      <td>C</td>\n",
       "      <td>O</td>\n",
       "      <td>2018-01-03</td>\n",
       "      <td>0</td>\n",
       "    </tr>\n",
       "  </tbody>\n",
       "</table>\n",
       "<p>5 rows × 22 columns</p>\n",
       "</div>"
      ],
      "text/plain": [
       "         sono  custno              cname     custpo             item  \\\n",
       "12333  190013  117500  ANSEN CORPORATION  P46445VMI  SEM-SHCS-SEAL-L   \n",
       "12334  190013  117500  ANSEN CORPORATION  P46445VMI     33016-060-40   \n",
       "12335  190013  117500  ANSEN CORPORATION  P46445VMI     20044-030-40   \n",
       "12336  190013  117500  ANSEN CORPORATION  P46445VMI  SEM-SHCS-SEAL-C   \n",
       "12337  190013  117500  ANSEN CORPORATION  P46445VMI     83012-TFP-40   \n",
       "\n",
       "               altitem  acustno acustpo acustname     cost   ...     qtyshp  \\\n",
       "12333  SEM-SHCS-SEAL-L      NaN     NaN       NaN  0.52000   ...       7000   \n",
       "12334     33016-060-40      NaN     NaN       NaN  0.33201   ...       1550   \n",
       "12335     20044-030-40      NaN     NaN       NaN  0.08649   ...       3298   \n",
       "12336              NaN      NaN     NaN       NaN  0.42000   ...        500   \n",
       "12337     83012-TFP-40      NaN     NaN       NaN  0.02323   ...      34000   \n",
       "\n",
       "       qtylft  qtybo  extprice  shipqty  seq  sostat  sotype    created  \\\n",
       "12333       0      0   3640.00        0    1       C       O 2018-01-03   \n",
       "12334       0      0   1317.50        0    2       C       O 2018-01-03   \n",
       "12335       0      0    388.17        0    3       C       O 2018-01-03   \n",
       "12336       0      0    210.00        0    4       C       O 2018-01-03   \n",
       "12337       0      0   1904.00        0    5       C       O 2018-01-03   \n",
       "\n",
       "      qtytoshp  \n",
       "12333        0  \n",
       "12334        0  \n",
       "12335        0  \n",
       "12336        0  \n",
       "12337        0  \n",
       "\n",
       "[5 rows x 22 columns]"
      ]
     },
     "execution_count": 68,
     "metadata": {},
     "output_type": "execute_result"
    }
   ],
   "source": [
    "sales_2018.head()"
   ]
  },
  {
   "cell_type": "code",
   "execution_count": 67,
   "metadata": {},
   "outputs": [
    {
     "data": {
      "text/html": [
       "<div>\n",
       "<style scoped>\n",
       "    .dataframe tbody tr th:only-of-type {\n",
       "        vertical-align: middle;\n",
       "    }\n",
       "\n",
       "    .dataframe tbody tr th {\n",
       "        vertical-align: top;\n",
       "    }\n",
       "\n",
       "    .dataframe thead th {\n",
       "        text-align: right;\n",
       "    }\n",
       "</style>\n",
       "<table border=\"1\" class=\"dataframe\">\n",
       "  <thead>\n",
       "    <tr style=\"text-align: right;\">\n",
       "      <th></th>\n",
       "      <th>sono</th>\n",
       "      <th>custno</th>\n",
       "      <th>cname</th>\n",
       "      <th>custpo</th>\n",
       "      <th>item</th>\n",
       "      <th>altitem</th>\n",
       "      <th>acustno</th>\n",
       "      <th>acustpo</th>\n",
       "      <th>acustname</th>\n",
       "      <th>cost</th>\n",
       "      <th>...</th>\n",
       "      <th>qtyshp</th>\n",
       "      <th>qtylft</th>\n",
       "      <th>qtybo</th>\n",
       "      <th>extprice</th>\n",
       "      <th>shipqty</th>\n",
       "      <th>seq</th>\n",
       "      <th>sostat</th>\n",
       "      <th>sotype</th>\n",
       "      <th>created</th>\n",
       "      <th>qtytoshp</th>\n",
       "    </tr>\n",
       "  </thead>\n",
       "  <tbody>\n",
       "    <tr>\n",
       "      <th>23224</th>\n",
       "      <td>193302</td>\n",
       "      <td>18700</td>\n",
       "      <td>WELCH ALLYN/ ACCTS PAYABLE</td>\n",
       "      <td>55002058</td>\n",
       "      <td>4G0A1-15C-12I</td>\n",
       "      <td>721455</td>\n",
       "      <td>NaN</td>\n",
       "      <td>NaN</td>\n",
       "      <td>NaN</td>\n",
       "      <td>0.01324</td>\n",
       "      <td>...</td>\n",
       "      <td>0</td>\n",
       "      <td>5000</td>\n",
       "      <td>0</td>\n",
       "      <td>142.50</td>\n",
       "      <td>0</td>\n",
       "      <td>47</td>\n",
       "      <td>A</td>\n",
       "      <td>O</td>\n",
       "      <td>2018-11-10</td>\n",
       "      <td>0</td>\n",
       "    </tr>\n",
       "    <tr>\n",
       "      <th>23225</th>\n",
       "      <td>193302</td>\n",
       "      <td>18700</td>\n",
       "      <td>WELCH ALLYN/ ACCTS PAYABLE</td>\n",
       "      <td>55002058</td>\n",
       "      <td>703355</td>\n",
       "      <td>703355</td>\n",
       "      <td>NaN</td>\n",
       "      <td>NaN</td>\n",
       "      <td>NaN</td>\n",
       "      <td>1.29000</td>\n",
       "      <td>...</td>\n",
       "      <td>0</td>\n",
       "      <td>3000</td>\n",
       "      <td>0</td>\n",
       "      <td>5100.00</td>\n",
       "      <td>0</td>\n",
       "      <td>48</td>\n",
       "      <td>A</td>\n",
       "      <td>O</td>\n",
       "      <td>2018-11-10</td>\n",
       "      <td>0</td>\n",
       "    </tr>\n",
       "    <tr>\n",
       "      <th>23226</th>\n",
       "      <td>193302</td>\n",
       "      <td>18700</td>\n",
       "      <td>WELCH ALLYN/ ACCTS PAYABLE</td>\n",
       "      <td>55002058</td>\n",
       "      <td>17005-05C-12V</td>\n",
       "      <td>703410</td>\n",
       "      <td>NaN</td>\n",
       "      <td>NaN</td>\n",
       "      <td>NaN</td>\n",
       "      <td>0.00000</td>\n",
       "      <td>...</td>\n",
       "      <td>0</td>\n",
       "      <td>100</td>\n",
       "      <td>0</td>\n",
       "      <td>23.25</td>\n",
       "      <td>0</td>\n",
       "      <td>49</td>\n",
       "      <td>A</td>\n",
       "      <td>O</td>\n",
       "      <td>2018-11-10</td>\n",
       "      <td>0</td>\n",
       "    </tr>\n",
       "    <tr>\n",
       "      <th>23227</th>\n",
       "      <td>193303</td>\n",
       "      <td>800</td>\n",
       "      <td>ANDERSON INSTRUMENT CO.</td>\n",
       "      <td>146744</td>\n",
       "      <td>B0343-019</td>\n",
       "      <td>36600Q0019</td>\n",
       "      <td>NaN</td>\n",
       "      <td>NaN</td>\n",
       "      <td>NaN</td>\n",
       "      <td>0.02150</td>\n",
       "      <td>...</td>\n",
       "      <td>0</td>\n",
       "      <td>1000</td>\n",
       "      <td>0</td>\n",
       "      <td>34.50</td>\n",
       "      <td>0</td>\n",
       "      <td>1</td>\n",
       "      <td>A</td>\n",
       "      <td>O</td>\n",
       "      <td>2018-11-11</td>\n",
       "      <td>0</td>\n",
       "    </tr>\n",
       "    <tr>\n",
       "      <th>23228</th>\n",
       "      <td>193304</td>\n",
       "      <td>800</td>\n",
       "      <td>ANDERSON INSTRUMENT CO.</td>\n",
       "      <td>PO00133498</td>\n",
       "      <td>300-200A</td>\n",
       "      <td>300-200A</td>\n",
       "      <td>NaN</td>\n",
       "      <td>NaN</td>\n",
       "      <td>NaN</td>\n",
       "      <td>0.00000</td>\n",
       "      <td>...</td>\n",
       "      <td>0</td>\n",
       "      <td>15</td>\n",
       "      <td>0</td>\n",
       "      <td>59.25</td>\n",
       "      <td>0</td>\n",
       "      <td>1</td>\n",
       "      <td>A</td>\n",
       "      <td>O</td>\n",
       "      <td>2018-11-11</td>\n",
       "      <td>0</td>\n",
       "    </tr>\n",
       "  </tbody>\n",
       "</table>\n",
       "<p>5 rows × 22 columns</p>\n",
       "</div>"
      ],
      "text/plain": [
       "         sono  custno                       cname      custpo           item  \\\n",
       "23224  193302   18700  WELCH ALLYN/ ACCTS PAYABLE    55002058  4G0A1-15C-12I   \n",
       "23225  193302   18700  WELCH ALLYN/ ACCTS PAYABLE    55002058         703355   \n",
       "23226  193302   18700  WELCH ALLYN/ ACCTS PAYABLE    55002058  17005-05C-12V   \n",
       "23227  193303     800     ANDERSON INSTRUMENT CO.      146744      B0343-019   \n",
       "23228  193304     800     ANDERSON INSTRUMENT CO.  PO00133498       300-200A   \n",
       "\n",
       "          altitem  acustno acustpo acustname     cost   ...     qtyshp  \\\n",
       "23224      721455      NaN     NaN       NaN  0.01324   ...          0   \n",
       "23225      703355      NaN     NaN       NaN  1.29000   ...          0   \n",
       "23226      703410      NaN     NaN       NaN  0.00000   ...          0   \n",
       "23227  36600Q0019      NaN     NaN       NaN  0.02150   ...          0   \n",
       "23228    300-200A      NaN     NaN       NaN  0.00000   ...          0   \n",
       "\n",
       "       qtylft  qtybo  extprice  shipqty  seq  sostat  sotype    created  \\\n",
       "23224    5000      0    142.50        0   47       A       O 2018-11-10   \n",
       "23225    3000      0   5100.00        0   48       A       O 2018-11-10   \n",
       "23226     100      0     23.25        0   49       A       O 2018-11-10   \n",
       "23227    1000      0     34.50        0    1       A       O 2018-11-11   \n",
       "23228      15      0     59.25        0    1       A       O 2018-11-11   \n",
       "\n",
       "      qtytoshp  \n",
       "23224        0  \n",
       "23225        0  \n",
       "23226        0  \n",
       "23227        0  \n",
       "23228        0  \n",
       "\n",
       "[5 rows x 22 columns]"
      ]
     },
     "execution_count": 67,
     "metadata": {},
     "output_type": "execute_result"
    }
   ],
   "source": [
    "sales_2018.tail()"
   ]
  },
  {
   "cell_type": "code",
   "execution_count": 85,
   "metadata": {},
   "outputs": [],
   "source": [
    "items_sold_2018 = sales_2018.drop_duplicates(['item'],keep='first', inplace=False)"
   ]
  },
  {
   "cell_type": "code",
   "execution_count": 86,
   "metadata": {},
   "outputs": [
    {
     "data": {
      "text/html": [
       "<div>\n",
       "<style scoped>\n",
       "    .dataframe tbody tr th:only-of-type {\n",
       "        vertical-align: middle;\n",
       "    }\n",
       "\n",
       "    .dataframe tbody tr th {\n",
       "        vertical-align: top;\n",
       "    }\n",
       "\n",
       "    .dataframe thead th {\n",
       "        text-align: right;\n",
       "    }\n",
       "</style>\n",
       "<table border=\"1\" class=\"dataframe\">\n",
       "  <thead>\n",
       "    <tr style=\"text-align: right;\">\n",
       "      <th></th>\n",
       "      <th>sono</th>\n",
       "      <th>custno</th>\n",
       "      <th>cname</th>\n",
       "      <th>custpo</th>\n",
       "      <th>item</th>\n",
       "      <th>altitem</th>\n",
       "      <th>acustno</th>\n",
       "      <th>acustpo</th>\n",
       "      <th>acustname</th>\n",
       "      <th>cost</th>\n",
       "      <th>...</th>\n",
       "      <th>qtyshp</th>\n",
       "      <th>qtylft</th>\n",
       "      <th>qtybo</th>\n",
       "      <th>extprice</th>\n",
       "      <th>shipqty</th>\n",
       "      <th>seq</th>\n",
       "      <th>sostat</th>\n",
       "      <th>sotype</th>\n",
       "      <th>created</th>\n",
       "      <th>qtytoshp</th>\n",
       "    </tr>\n",
       "  </thead>\n",
       "  <tbody>\n",
       "    <tr>\n",
       "      <th>12333</th>\n",
       "      <td>190013</td>\n",
       "      <td>117500</td>\n",
       "      <td>ANSEN CORPORATION</td>\n",
       "      <td>P46445VMI</td>\n",
       "      <td>SEM-SHCS-SEAL-L</td>\n",
       "      <td>SEM-SHCS-SEAL-L</td>\n",
       "      <td>NaN</td>\n",
       "      <td>NaN</td>\n",
       "      <td>NaN</td>\n",
       "      <td>0.52000</td>\n",
       "      <td>...</td>\n",
       "      <td>7000</td>\n",
       "      <td>0</td>\n",
       "      <td>0</td>\n",
       "      <td>3640.00</td>\n",
       "      <td>0</td>\n",
       "      <td>1</td>\n",
       "      <td>C</td>\n",
       "      <td>O</td>\n",
       "      <td>2018-01-03</td>\n",
       "      <td>0</td>\n",
       "    </tr>\n",
       "    <tr>\n",
       "      <th>12334</th>\n",
       "      <td>190013</td>\n",
       "      <td>117500</td>\n",
       "      <td>ANSEN CORPORATION</td>\n",
       "      <td>P46445VMI</td>\n",
       "      <td>33016-060-40</td>\n",
       "      <td>33016-060-40</td>\n",
       "      <td>NaN</td>\n",
       "      <td>NaN</td>\n",
       "      <td>NaN</td>\n",
       "      <td>0.33201</td>\n",
       "      <td>...</td>\n",
       "      <td>1550</td>\n",
       "      <td>0</td>\n",
       "      <td>0</td>\n",
       "      <td>1317.50</td>\n",
       "      <td>0</td>\n",
       "      <td>2</td>\n",
       "      <td>C</td>\n",
       "      <td>O</td>\n",
       "      <td>2018-01-03</td>\n",
       "      <td>0</td>\n",
       "    </tr>\n",
       "    <tr>\n",
       "      <th>12335</th>\n",
       "      <td>190013</td>\n",
       "      <td>117500</td>\n",
       "      <td>ANSEN CORPORATION</td>\n",
       "      <td>P46445VMI</td>\n",
       "      <td>20044-030-40</td>\n",
       "      <td>20044-030-40</td>\n",
       "      <td>NaN</td>\n",
       "      <td>NaN</td>\n",
       "      <td>NaN</td>\n",
       "      <td>0.08649</td>\n",
       "      <td>...</td>\n",
       "      <td>3298</td>\n",
       "      <td>0</td>\n",
       "      <td>0</td>\n",
       "      <td>388.17</td>\n",
       "      <td>0</td>\n",
       "      <td>3</td>\n",
       "      <td>C</td>\n",
       "      <td>O</td>\n",
       "      <td>2018-01-03</td>\n",
       "      <td>0</td>\n",
       "    </tr>\n",
       "    <tr>\n",
       "      <th>12336</th>\n",
       "      <td>190013</td>\n",
       "      <td>117500</td>\n",
       "      <td>ANSEN CORPORATION</td>\n",
       "      <td>P46445VMI</td>\n",
       "      <td>SEM-SHCS-SEAL-C</td>\n",
       "      <td>NaN</td>\n",
       "      <td>NaN</td>\n",
       "      <td>NaN</td>\n",
       "      <td>NaN</td>\n",
       "      <td>0.42000</td>\n",
       "      <td>...</td>\n",
       "      <td>500</td>\n",
       "      <td>0</td>\n",
       "      <td>0</td>\n",
       "      <td>210.00</td>\n",
       "      <td>0</td>\n",
       "      <td>4</td>\n",
       "      <td>C</td>\n",
       "      <td>O</td>\n",
       "      <td>2018-01-03</td>\n",
       "      <td>0</td>\n",
       "    </tr>\n",
       "    <tr>\n",
       "      <th>12337</th>\n",
       "      <td>190013</td>\n",
       "      <td>117500</td>\n",
       "      <td>ANSEN CORPORATION</td>\n",
       "      <td>P46445VMI</td>\n",
       "      <td>83012-TFP-40</td>\n",
       "      <td>83012-TFP-40</td>\n",
       "      <td>NaN</td>\n",
       "      <td>NaN</td>\n",
       "      <td>NaN</td>\n",
       "      <td>0.02323</td>\n",
       "      <td>...</td>\n",
       "      <td>34000</td>\n",
       "      <td>0</td>\n",
       "      <td>0</td>\n",
       "      <td>1904.00</td>\n",
       "      <td>0</td>\n",
       "      <td>5</td>\n",
       "      <td>C</td>\n",
       "      <td>O</td>\n",
       "      <td>2018-01-03</td>\n",
       "      <td>0</td>\n",
       "    </tr>\n",
       "  </tbody>\n",
       "</table>\n",
       "<p>5 rows × 22 columns</p>\n",
       "</div>"
      ],
      "text/plain": [
       "         sono  custno              cname     custpo             item  \\\n",
       "12333  190013  117500  ANSEN CORPORATION  P46445VMI  SEM-SHCS-SEAL-L   \n",
       "12334  190013  117500  ANSEN CORPORATION  P46445VMI     33016-060-40   \n",
       "12335  190013  117500  ANSEN CORPORATION  P46445VMI     20044-030-40   \n",
       "12336  190013  117500  ANSEN CORPORATION  P46445VMI  SEM-SHCS-SEAL-C   \n",
       "12337  190013  117500  ANSEN CORPORATION  P46445VMI     83012-TFP-40   \n",
       "\n",
       "               altitem  acustno acustpo acustname     cost   ...     qtyshp  \\\n",
       "12333  SEM-SHCS-SEAL-L      NaN     NaN       NaN  0.52000   ...       7000   \n",
       "12334     33016-060-40      NaN     NaN       NaN  0.33201   ...       1550   \n",
       "12335     20044-030-40      NaN     NaN       NaN  0.08649   ...       3298   \n",
       "12336              NaN      NaN     NaN       NaN  0.42000   ...        500   \n",
       "12337     83012-TFP-40      NaN     NaN       NaN  0.02323   ...      34000   \n",
       "\n",
       "       qtylft  qtybo  extprice  shipqty  seq  sostat  sotype    created  \\\n",
       "12333       0      0   3640.00        0    1       C       O 2018-01-03   \n",
       "12334       0      0   1317.50        0    2       C       O 2018-01-03   \n",
       "12335       0      0    388.17        0    3       C       O 2018-01-03   \n",
       "12336       0      0    210.00        0    4       C       O 2018-01-03   \n",
       "12337       0      0   1904.00        0    5       C       O 2018-01-03   \n",
       "\n",
       "      qtytoshp  \n",
       "12333        0  \n",
       "12334        0  \n",
       "12335        0  \n",
       "12336        0  \n",
       "12337        0  \n",
       "\n",
       "[5 rows x 22 columns]"
      ]
     },
     "execution_count": 86,
     "metadata": {},
     "output_type": "execute_result"
    }
   ],
   "source": [
    "items_sold_2018.head()"
   ]
  },
  {
   "cell_type": "code",
   "execution_count": 87,
   "metadata": {},
   "outputs": [
    {
     "data": {
      "text/plain": [
       "(2047, 22)"
      ]
     },
     "execution_count": 87,
     "metadata": {},
     "output_type": "execute_result"
    }
   ],
   "source": [
    "items_sold_2018.shape"
   ]
  },
  {
   "cell_type": "code",
   "execution_count": 88,
   "metadata": {},
   "outputs": [
    {
     "data": {
      "text/plain": [
       "2047"
      ]
     },
     "execution_count": 88,
     "metadata": {},
     "output_type": "execute_result"
    }
   ],
   "source": [
    "sales_2018.item.nunique()"
   ]
  },
  {
   "cell_type": "code",
   "execution_count": 90,
   "metadata": {},
   "outputs": [],
   "source": [
    "nafta_items_2018 = sales_2018[['custno','cname','item','altitem']]"
   ]
  },
  {
   "cell_type": "markdown",
   "metadata": {},
   "source": [
    "### 2. Which were sold to the customer in question?"
   ]
  },
  {
   "cell_type": "code",
   "execution_count": 91,
   "metadata": {},
   "outputs": [
    {
     "data": {
      "text/plain": [
       "array(['ANSEN CORPORATION', 'EJ USA, INC', 'WELCH ALLYN/ ACCTS PAYABLE',\n",
       "       'ANDERSON INSTRUMENT CO.', 'COURSER INC.',\n",
       "       'RTD EMBEDDED TECHNOLOGIES, INC.', 'YOUNG-FRANKLIN TOOL WORKS',\n",
       "       'PREMIER DIE CASTING COMPANY', 'SCIENTIFIC SYSTEMS',\n",
       "       'CASHI COMPONENTS', 'REMINGTON ARMS', 'TEXTRON LYCOMING',\n",
       "       'TIMES MICROWAVE SYSTEMS', 'PARKER HANNIFIN CORPORATION',\n",
       "       'ADVANCED MOTORS AND DRIVES INC.', 'GREENE TECHNOLOGIES',\n",
       "       'EATON IND. MFG GMBH LEDGER 5179',\n",
       "       'TRIUMPH ENGINE CONTROL SYSTEMS, LLC', 'AUDIO SEARS CORP',\n",
       "       'UPSCO, INC.', 'AJEDREZ DE MONTERREY', 'RLC ELECTRONICS',\n",
       "       'IRBY UTILITY SUPPLY', 'TACTAIR FLUID CONTROLS INC.',\n",
       "       'SCIENTIFIC TOOL CO', 'ESPEY MFG & ELECTRONICS CORP.',\n",
       "       'PELCO COMPONENT TECHNOLOGIES', 'ATRONIX',\n",
       "       '4M PRECISION INDUSTRIES INC.', 'TENNYSON MACHINE',\n",
       "       'ALLIANCE PRECISION PLASTICS', 'BASIC RUBBER & PLASTICS  CO.',\n",
       "       'EMPIRE FIBREGLASS PRODUCTS, INC.', 'CHOSEN TECHNOLOGIES PTE LTD',\n",
       "       'YUYAO STRONG INTERNATIONAL TRADING', 'ELLIOTT MFG.',\n",
       "       'MICROWAVE FILTER', 'COOPER LIGHTING, LLC',\n",
       "       'TAPEMASTER PRECISION CNC', 'HALLAGAN MFG.',\n",
       "       'THE FOUNTAINHEAD GROUP INC', 'CMP', 'P.M. RESEARCH',\n",
       "       'DYCO ELECTRONICS INC', 'DYNABRADE INC.', 'FALK PRECISION, INC.',\n",
       "       'ASTROCOM ELECTRONICS', 'REXLEN-HYPERKEY INTERNATIONAL',\n",
       "       'CARL ZEISS MEDITEC, INC.', 'PRECISION SENSORS, INC.',\n",
       "       'REDDING HUNTER CO.', 'BRUSH INDUSTRIES INC.', 'G W LISK',\n",
       "       'CUSTOM ELECTRONICS INC.', 'SPENCER INDUSTRIES INC', 'Q&E MFG CO.',\n",
       "       'W.A. KRAPF, INC.', 'STUART C IRBY BR663',\n",
       "       'CUBA SPEC. MANUFACTURING COMPANY', 'DARCO MFG.',\n",
       "       'SIG SAUER, INC.', 'B&R MACHINE INC.', 'SYMCOM, INC.',\n",
       "       'STUART C IRBY CO', 'BARLO MFG.', 'SIEMENS AG',\n",
       "       'DELTA ELECTRONIC CONTROLS', 'MAINSTREAM INNOVATIONS',\n",
       "       'KAL MFG. CORP.', 'PENN-TROY MANUFACTURING INC.',\n",
       "       'REDDING HUNTER CO', 'OERLIKON FAIRFIELD',\n",
       "       'F & S DISTRIBUTORS, INC', 'JONES & VINING', 'IN PRECISION LINK',\n",
       "       'ALIGN AEROSPACE, USA', 'DEFELSKO CORPORATION',\n",
       "       'SHANGHAI MINGXUAN INT. TRADE CO LTD', 'BRANNOCK DEVICE',\n",
       "       'APEX TOOL GROUP, LLC', 'INTEGRA LIFESCIENCES AP',\n",
       "       'STUART C IRBY BR613 MAINE', 'PALL FILTER SPECIALISTS, INC.',\n",
       "       'PAR 4 PLASTICS, INC.', 'ADVANCED ATOMIZATION TECHNOLOGIES',\n",
       "       'TRENTON TECHNOLOGY INC', 'MITSUBISHI ELECTRIC US, INC.',\n",
       "       'SYRACUSE PLASTICS', 'MERSEN USA', 'WORTHINGTON CYLINDERS',\n",
       "       'BENCHMARK ELECTRONICS', 'DARMAN MFG CO INC.',\n",
       "       'SMITH CONTROL SYSTEMS', 'IMPERIAL ELECTRIC', 'CLIFTON RECYCLING',\n",
       "       'KNOWLES CAZENOVIA INC.', 'JAMES L. TAYLOR MFG.',\n",
       "       'ARC GROUP WORLDWIDE', 'ATRONIX NEW HAMPSHIRE',\n",
       "       'BWX TECHNOLOGIES, INC.', 'TELEDYNE',\n",
       "       \"WELCH ALLYN INT'L HOLDINGS COOP U.A\", 'KENWELL CORPORATION',\n",
       "       'ATRONIX INC.', 'WESCO INTEGRATED SUPPLY',\n",
       "       'MANUFACTURERS ASSOCIATES, INC.', 'B & A COMPANY',\n",
       "       'AMERITOOL MANUFACTURING LLC', 'ANDERSON INSTRUMENT CO',\n",
       "       'CANFIELD MACHINE AND TOOL', 'HARCO LABORATORIES INC',\n",
       "       'GLOBAL INSTRUMENTATION, LLC', 'BEYONICS INTERNATIONAL PTE LTD',\n",
       "       'BODYCOTE SYRACUSE HEAT TREAT', 'THREAD-RITE SCREW PRODUCTS, INC',\n",
       "       'NORTH AMERICAN FILTER CORP', 'ITT ENIDINE', 'CSI  MFG. INC.',\n",
       "       'PSI MOLDED PLASTICS INC.', 'WELCH ALLYN, TIJUANA',\n",
       "       'AYANNA PLASTICS AND ENGINEERING'], dtype=object)"
      ]
     },
     "execution_count": 91,
     "metadata": {},
     "output_type": "execute_result"
    }
   ],
   "source": [
    "nafta_items_2018.cname.unique()"
   ]
  },
  {
   "cell_type": "code",
   "execution_count": 96,
   "metadata": {},
   "outputs": [],
   "source": [
    "nidec_sales_2018 = nafta_items_2018[nafta_items_2018['cname'].str.contains('ADVANCED MOTORS')]"
   ]
  },
  {
   "cell_type": "code",
   "execution_count": 97,
   "metadata": {},
   "outputs": [
    {
     "data": {
      "text/plain": [
       "(954, 4)"
      ]
     },
     "execution_count": 97,
     "metadata": {},
     "output_type": "execute_result"
    }
   ],
   "source": [
    "nidec_sales_2018.shape"
   ]
  },
  {
   "cell_type": "markdown",
   "metadata": {},
   "source": [
    "### 3. Where did we buy those items?"
   ]
  },
  {
   "cell_type": "code",
   "execution_count": 107,
   "metadata": {},
   "outputs": [],
   "source": [
    "po_lines = pd.read_excel('potran_01012017.xlsx')"
   ]
  },
  {
   "cell_type": "code",
   "execution_count": 108,
   "metadata": {},
   "outputs": [],
   "source": [
    "vendors = pd.read_excel('vendors.xlsx')"
   ]
  },
  {
   "cell_type": "code",
   "execution_count": 109,
   "metadata": {},
   "outputs": [
    {
     "data": {
      "text/plain": [
       "Index(['purno', 'vendno', 'vendname', 'custno', 'custpo', 'transfer', 'item',\n",
       "       'altitem', 'descrip', 'cost', 'qtyord', 'qtyrec', 'qtyrecx', 'qtylft',\n",
       "       'qtybo', 'extcost', 'seq', 'postat', 'potype', 'custname', 'tranitem',\n",
       "       'nsell', 'created', 'qtytorec', 'price', 'final', 'type', 'cponum'],\n",
       "      dtype='object')"
      ]
     },
     "execution_count": 109,
     "metadata": {},
     "output_type": "execute_result"
    }
   ],
   "source": [
    "po_lines.columns"
   ]
  },
  {
   "cell_type": "code",
   "execution_count": 132,
   "metadata": {},
   "outputs": [
    {
     "data": {
      "text/plain": [
       "Index(['vendno', 'company', 'contact', 'title', 'address1', 'address2', 'city',\n",
       "       'state', 'zip', 'country', 'phone', 'pterms', 'pnet', 'comment1',\n",
       "       'comment2', 'faxno', 'statusnotes', 'check_this', 'commodity',\n",
       "       'supp_type', 'exp_date', 'app_status', 'app_date', 'updated'],\n",
       "      dtype='object')"
      ]
     },
     "execution_count": 132,
     "metadata": {},
     "output_type": "execute_result"
    }
   ],
   "source": [
    "vendors.columns"
   ]
  },
  {
   "cell_type": "code",
   "execution_count": 143,
   "metadata": {},
   "outputs": [
    {
     "data": {
      "text/plain": [
       "numpy.float64"
      ]
     },
     "execution_count": 143,
     "metadata": {},
     "output_type": "execute_result"
    }
   ],
   "source": [
    "type(vendors['vendno'][1])"
   ]
  },
  {
   "cell_type": "code",
   "execution_count": 144,
   "metadata": {},
   "outputs": [
    {
     "data": {
      "text/plain": [
       "numpy.int64"
      ]
     },
     "execution_count": 144,
     "metadata": {},
     "output_type": "execute_result"
    }
   ],
   "source": [
    "type(po_lines['vendno'][1])"
   ]
  },
  {
   "cell_type": "code",
   "execution_count": 135,
   "metadata": {},
   "outputs": [],
   "source": [
    "vendors.vendno = pd.to_numeric(vendors.vendno, errors='coerce')"
   ]
  },
  {
   "cell_type": "code",
   "execution_count": 141,
   "metadata": {},
   "outputs": [],
   "source": [
    "po_line_with_detail = po_lines.merge(vendors,on='vendno')"
   ]
  },
  {
   "cell_type": "code",
   "execution_count": 142,
   "metadata": {},
   "outputs": [
    {
     "data": {
      "text/plain": [
       "Index(['purno', 'vendno', 'vendname', 'custno', 'custpo', 'transfer', 'item',\n",
       "       'altitem', 'descrip', 'cost', 'qtyord', 'qtyrec', 'qtyrecx', 'qtylft',\n",
       "       'qtybo', 'extcost', 'seq', 'postat', 'potype', 'custname', 'tranitem',\n",
       "       'nsell', 'created', 'qtytorec', 'price', 'final', 'type', 'cponum',\n",
       "       'company', 'contact', 'title', 'address1', 'address2', 'city', 'state',\n",
       "       'zip', 'country', 'phone', 'pterms', 'pnet', 'comment1', 'comment2',\n",
       "       'faxno', 'statusnotes', 'check_this', 'commodity', 'supp_type',\n",
       "       'exp_date', 'app_status', 'app_date', 'updated'],\n",
       "      dtype='object')"
      ]
     },
     "execution_count": 142,
     "metadata": {},
     "output_type": "execute_result"
    }
   ],
   "source": [
    "po_line_with_detail.columns"
   ]
  },
  {
   "cell_type": "code",
   "execution_count": 151,
   "metadata": {},
   "outputs": [],
   "source": [
    "item_origin_info = po_line_with_detail[['item','altitem','descrip','vendno','state','country']]"
   ]
  },
  {
   "cell_type": "code",
   "execution_count": 152,
   "metadata": {},
   "outputs": [
    {
     "data": {
      "text/html": [
       "<div>\n",
       "<style scoped>\n",
       "    .dataframe tbody tr th:only-of-type {\n",
       "        vertical-align: middle;\n",
       "    }\n",
       "\n",
       "    .dataframe tbody tr th {\n",
       "        vertical-align: top;\n",
       "    }\n",
       "\n",
       "    .dataframe thead th {\n",
       "        text-align: right;\n",
       "    }\n",
       "</style>\n",
       "<table border=\"1\" class=\"dataframe\">\n",
       "  <thead>\n",
       "    <tr style=\"text-align: right;\">\n",
       "      <th></th>\n",
       "      <th>item</th>\n",
       "      <th>altitem</th>\n",
       "      <th>descrip</th>\n",
       "      <th>vendno</th>\n",
       "      <th>state</th>\n",
       "      <th>country</th>\n",
       "    </tr>\n",
       "  </thead>\n",
       "  <tbody>\n",
       "    <tr>\n",
       "      <th>0</th>\n",
       "      <td>415154</td>\n",
       "      <td>415154</td>\n",
       "      <td>Recoil Spring. 0725 X 4.639</td>\n",
       "      <td>304300</td>\n",
       "      <td>CT</td>\n",
       "      <td>NaN</td>\n",
       "    </tr>\n",
       "    <tr>\n",
       "      <th>1</th>\n",
       "      <td>415154</td>\n",
       "      <td>415154</td>\n",
       "      <td>Recoil Spring. 0725 X 4.639</td>\n",
       "      <td>304300</td>\n",
       "      <td>CT</td>\n",
       "      <td>NaN</td>\n",
       "    </tr>\n",
       "    <tr>\n",
       "      <th>2</th>\n",
       "      <td>TEST REPORTS</td>\n",
       "      <td>TR</td>\n",
       "      <td>TEST REPORTS</td>\n",
       "      <td>304300</td>\n",
       "      <td>CT</td>\n",
       "      <td>NaN</td>\n",
       "    </tr>\n",
       "    <tr>\n",
       "      <th>3</th>\n",
       "      <td>300015-PLAIN</td>\n",
       "      <td>300015-PLAIN</td>\n",
       "      <td>NaN</td>\n",
       "      <td>219300</td>\n",
       "      <td>Taiwan ROC</td>\n",
       "      <td>NaN</td>\n",
       "    </tr>\n",
       "    <tr>\n",
       "      <th>4</th>\n",
       "      <td>1C600-MFH-40</td>\n",
       "      <td>NaN</td>\n",
       "      <td>NaN</td>\n",
       "      <td>219300</td>\n",
       "      <td>Taiwan ROC</td>\n",
       "      <td>NaN</td>\n",
       "    </tr>\n",
       "  </tbody>\n",
       "</table>\n",
       "</div>"
      ],
      "text/plain": [
       "           item       altitem                      descrip  vendno  \\\n",
       "0        415154        415154  Recoil Spring. 0725 X 4.639  304300   \n",
       "1        415154        415154  Recoil Spring. 0725 X 4.639  304300   \n",
       "2  TEST REPORTS            TR                 TEST REPORTS  304300   \n",
       "3  300015-PLAIN  300015-PLAIN                          NaN  219300   \n",
       "4  1C600-MFH-40           NaN                          NaN  219300   \n",
       "\n",
       "        state country  \n",
       "0          CT     NaN  \n",
       "1          CT     NaN  \n",
       "2          CT     NaN  \n",
       "3  Taiwan ROC     NaN  \n",
       "4  Taiwan ROC     NaN  "
      ]
     },
     "execution_count": 152,
     "metadata": {},
     "output_type": "execute_result"
    }
   ],
   "source": [
    "item_origin_info.head()"
   ]
  },
  {
   "cell_type": "code",
   "execution_count": 153,
   "metadata": {},
   "outputs": [
    {
     "data": {
      "text/plain": [
       "array([nan, 'TED EXT 26'], dtype=object)"
      ]
     },
     "execution_count": 153,
     "metadata": {},
     "output_type": "execute_result"
    }
   ],
   "source": [
    "item_origin_info.country.unique()"
   ]
  },
  {
   "cell_type": "code",
   "execution_count": 160,
   "metadata": {},
   "outputs": [
    {
     "data": {
      "text/plain": [
       "array(['CT', 'Taiwan ROC', 'NY', 'IL', 'FL', 'NJ', 'CA', 'California',\n",
       "       'TX', 'NH', 'PA', 'ID', 'VT', 'Texas', 'WI', 'MN', 'KS', 'OH',\n",
       "       'China', nan, 'AR', 'GA', 'MA', 'CHINA', 'CA.', 'MI', 'RI', 'AL',\n",
       "       'Co', 'NV', 'Mn', 'Maine', 'Canada', 'Georgia', '6BX', 'Taiwan',\n",
       "       'VA', 'Ohio', 'TAIWAN', 'MD', 'MO', 'IN', 'QC', 'ME', 'CO', 'WA',\n",
       "       'AZ', 'GUANGDONG', 'TAIWAN ROC', 'IL.', 'PA.', 'NC', 'Il',\n",
       "       'LE4 7ST', 'Illinois', 'OHIO', 'Zhejiang', 'KY', 'Guangdong',\n",
       "       'ZHEJIANG'], dtype=object)"
      ]
     },
     "execution_count": 160,
     "metadata": {},
     "output_type": "execute_result"
    }
   ],
   "source": [
    "item_origin_info.state.unique()"
   ]
  },
  {
   "cell_type": "code",
   "execution_count": 165,
   "metadata": {},
   "outputs": [],
   "source": [
    "china_strings = ['GUANGDONG','ZHEJIANG','Zhejiang','Guangdong','China','CHINA']"
   ]
  },
  {
   "cell_type": "code",
   "execution_count": 166,
   "metadata": {},
   "outputs": [],
   "source": [
    "taiwan_strings = ['TAIWAN ROC','Taiwan ROC','Taiwan','TAIWAN']"
   ]
  },
  {
   "cell_type": "code",
   "execution_count": 168,
   "metadata": {},
   "outputs": [
    {
     "data": {
      "text/plain": [
       "0    False\n",
       "1    False\n",
       "2    False\n",
       "3     True\n",
       "4     True\n",
       "Name: state, dtype: bool"
      ]
     },
     "execution_count": 168,
     "metadata": {},
     "output_type": "execute_result"
    }
   ],
   "source": [
    "item_origin_info['state'].isin(taiwan_strings).head()"
   ]
  },
  {
   "cell_type": "code",
   "execution_count": 172,
   "metadata": {},
   "outputs": [
    {
     "name": "stderr",
     "output_type": "stream",
     "text": [
      "/Users/joshua/miniconda/lib/python3.7/site-packages/ipykernel_launcher.py:1: SettingWithCopyWarning: \n",
      "A value is trying to be set on a copy of a slice from a DataFrame.\n",
      "Try using .loc[row_indexer,col_indexer] = value instead\n",
      "\n",
      "See the caveats in the documentation: http://pandas.pydata.org/pandas-docs/stable/indexing.html#indexing-view-versus-copy\n",
      "  \"\"\"Entry point for launching an IPython kernel.\n"
     ]
    }
   ],
   "source": [
    "item_origin_info['coo'] = 'US'"
   ]
  },
  {
   "cell_type": "code",
   "execution_count": 173,
   "metadata": {},
   "outputs": [
    {
     "ename": "AttributeError",
     "evalue": "'str' object has no attribute 'isin'",
     "output_type": "error",
     "traceback": [
      "\u001b[0;31m---------------------------------------------------------------------------\u001b[0m",
      "\u001b[0;31mAttributeError\u001b[0m                            Traceback (most recent call last)",
      "\u001b[0;32m<ipython-input-173-619b4eeb508c>\u001b[0m in \u001b[0;36m<module>\u001b[0;34m\u001b[0m\n\u001b[0;32m----> 1\u001b[0;31m \u001b[0mitem_origin_info\u001b[0m\u001b[0;34m[\u001b[0m\u001b[0;34m'coo'\u001b[0m\u001b[0;34m]\u001b[0m \u001b[0;34m=\u001b[0m \u001b[0;34m[\u001b[0m\u001b[0;34m'TW'\u001b[0m \u001b[0;32mif\u001b[0m \u001b[0mregion\u001b[0m\u001b[0;34m.\u001b[0m\u001b[0misin\u001b[0m\u001b[0;34m(\u001b[0m\u001b[0mtaiwan_strings\u001b[0m\u001b[0;34m)\u001b[0m \u001b[0;32melse\u001b[0m \u001b[0;34m'US'\u001b[0m \u001b[0;32mfor\u001b[0m \u001b[0mregion\u001b[0m \u001b[0;32min\u001b[0m \u001b[0mitem_origin_info\u001b[0m\u001b[0;34m[\u001b[0m\u001b[0;34m'state'\u001b[0m\u001b[0;34m]\u001b[0m\u001b[0;34m]\u001b[0m\u001b[0;34m\u001b[0m\u001b[0m\n\u001b[0m",
      "\u001b[0;32m<ipython-input-173-619b4eeb508c>\u001b[0m in \u001b[0;36m<listcomp>\u001b[0;34m(.0)\u001b[0m\n\u001b[0;32m----> 1\u001b[0;31m \u001b[0mitem_origin_info\u001b[0m\u001b[0;34m[\u001b[0m\u001b[0;34m'coo'\u001b[0m\u001b[0;34m]\u001b[0m \u001b[0;34m=\u001b[0m \u001b[0;34m[\u001b[0m\u001b[0;34m'TW'\u001b[0m \u001b[0;32mif\u001b[0m \u001b[0mregion\u001b[0m\u001b[0;34m.\u001b[0m\u001b[0misin\u001b[0m\u001b[0;34m(\u001b[0m\u001b[0mtaiwan_strings\u001b[0m\u001b[0;34m)\u001b[0m \u001b[0;32melse\u001b[0m \u001b[0;34m'US'\u001b[0m \u001b[0;32mfor\u001b[0m \u001b[0mregion\u001b[0m \u001b[0;32min\u001b[0m \u001b[0mitem_origin_info\u001b[0m\u001b[0;34m[\u001b[0m\u001b[0;34m'state'\u001b[0m\u001b[0;34m]\u001b[0m\u001b[0;34m]\u001b[0m\u001b[0;34m\u001b[0m\u001b[0m\n\u001b[0m",
      "\u001b[0;31mAttributeError\u001b[0m: 'str' object has no attribute 'isin'"
     ]
    }
   ],
   "source": [
    "item_origin_info['coo'] = ['TW' if region.isin(taiwan_strings) else 'US' for region in item_origin_info['state']]"
   ]
  },
  {
   "cell_type": "code",
   "execution_count": null,
   "metadata": {},
   "outputs": [],
   "source": []
  }
 ],
 "metadata": {
  "kernelspec": {
   "display_name": "Python 3",
   "language": "python",
   "name": "python3"
  },
  "language_info": {
   "codemirror_mode": {
    "name": "ipython",
    "version": 3
   },
   "file_extension": ".py",
   "mimetype": "text/x-python",
   "name": "python",
   "nbconvert_exporter": "python",
   "pygments_lexer": "ipython3",
   "version": "3.7.0"
  }
 },
 "nbformat": 4,
 "nbformat_minor": 2
}
