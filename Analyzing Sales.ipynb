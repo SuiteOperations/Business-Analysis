{
 "cells": [
  {
   "cell_type": "code",
   "execution_count": 26,
   "metadata": {},
   "outputs": [],
   "source": [
    "import pandas as pd\n",
    "import numpy as np\n",
    "import matplotlib.pyplot as plt\n",
    "import seaborn as sns"
   ]
  },
  {
   "cell_type": "code",
   "execution_count": 27,
   "metadata": {},
   "outputs": [
    {
     "data": {
      "text/plain": [
       "<pandas.io.excel.ExcelFile at 0x125bc54e0>"
      ]
     },
     "execution_count": 27,
     "metadata": {},
     "output_type": "execute_result"
    }
   ],
   "source": [
    "xlsx = pd.ExcelFile('/Users/joshua/Data/sales_data.xlsx')\n",
    "xlsx"
   ]
  },
  {
   "cell_type": "code",
   "execution_count": 29,
   "metadata": {},
   "outputs": [
    {
     "data": {
      "text/plain": [
       "['so_tran']"
      ]
     },
     "execution_count": 29,
     "metadata": {},
     "output_type": "execute_result"
    }
   ],
   "source": [
    "sheets = xlsx.sheet_names\n",
    "sheets"
   ]
  },
  {
   "cell_type": "code",
   "execution_count": 30,
   "metadata": {
    "scrolled": true
   },
   "outputs": [
    {
     "data": {
      "text/html": [
       "<div>\n",
       "<style scoped>\n",
       "    .dataframe tbody tr th:only-of-type {\n",
       "        vertical-align: middle;\n",
       "    }\n",
       "\n",
       "    .dataframe tbody tr th {\n",
       "        vertical-align: top;\n",
       "    }\n",
       "\n",
       "    .dataframe thead th {\n",
       "        text-align: right;\n",
       "    }\n",
       "</style>\n",
       "<table border=\"1\" class=\"dataframe\">\n",
       "  <thead>\n",
       "    <tr style=\"text-align: right;\">\n",
       "      <th></th>\n",
       "      <th>sono</th>\n",
       "      <th>custno</th>\n",
       "      <th>cname</th>\n",
       "      <th>custpo</th>\n",
       "      <th>item</th>\n",
       "      <th>altitem</th>\n",
       "      <th>acustno</th>\n",
       "      <th>acustpo</th>\n",
       "      <th>acustname</th>\n",
       "      <th>cost</th>\n",
       "      <th>...</th>\n",
       "      <th>qtyshp</th>\n",
       "      <th>qtylft</th>\n",
       "      <th>qtybo</th>\n",
       "      <th>extprice</th>\n",
       "      <th>shipqty</th>\n",
       "      <th>seq</th>\n",
       "      <th>sostat</th>\n",
       "      <th>sotype</th>\n",
       "      <th>created</th>\n",
       "      <th>qtytoshp</th>\n",
       "    </tr>\n",
       "  </thead>\n",
       "  <tbody>\n",
       "    <tr>\n",
       "      <th>0</th>\n",
       "      <td>170023</td>\n",
       "      <td>800</td>\n",
       "      <td>ANDERSON INSTRUMENT CO.</td>\n",
       "      <td>PO121654</td>\n",
       "      <td>BB1P111A08</td>\n",
       "      <td>55408A0000</td>\n",
       "      <td>NaN</td>\n",
       "      <td>NaN</td>\n",
       "      <td>NaN</td>\n",
       "      <td>0.06260</td>\n",
       "      <td>...</td>\n",
       "      <td>1000</td>\n",
       "      <td>0</td>\n",
       "      <td>0</td>\n",
       "      <td>160.00</td>\n",
       "      <td>0</td>\n",
       "      <td>1</td>\n",
       "      <td>C</td>\n",
       "      <td>O</td>\n",
       "      <td>2016-01-04</td>\n",
       "      <td>0</td>\n",
       "    </tr>\n",
       "    <tr>\n",
       "      <th>1</th>\n",
       "      <td>170022</td>\n",
       "      <td>800</td>\n",
       "      <td>ANDERSON INSTRUMENT CO.</td>\n",
       "      <td>PO123450</td>\n",
       "      <td>5115-15-H-ST</td>\n",
       "      <td>36605H0005</td>\n",
       "      <td>NaN</td>\n",
       "      <td>NaN</td>\n",
       "      <td>NaN</td>\n",
       "      <td>0.03893</td>\n",
       "      <td>...</td>\n",
       "      <td>74</td>\n",
       "      <td>0</td>\n",
       "      <td>0</td>\n",
       "      <td>5.51</td>\n",
       "      <td>0</td>\n",
       "      <td>1</td>\n",
       "      <td>C</td>\n",
       "      <td>O</td>\n",
       "      <td>2016-01-04</td>\n",
       "      <td>0</td>\n",
       "    </tr>\n",
       "    <tr>\n",
       "      <th>2</th>\n",
       "      <td>170020</td>\n",
       "      <td>800</td>\n",
       "      <td>ANDERSON INSTRUMENT CO.</td>\n",
       "      <td>PO123419</td>\n",
       "      <td>4778</td>\n",
       "      <td>42080A0001</td>\n",
       "      <td>NaN</td>\n",
       "      <td>NaN</td>\n",
       "      <td>NaN</td>\n",
       "      <td>0.42600</td>\n",
       "      <td>...</td>\n",
       "      <td>200</td>\n",
       "      <td>0</td>\n",
       "      <td>0</td>\n",
       "      <td>99.36</td>\n",
       "      <td>0</td>\n",
       "      <td>1</td>\n",
       "      <td>C</td>\n",
       "      <td>O</td>\n",
       "      <td>2016-01-04</td>\n",
       "      <td>0</td>\n",
       "    </tr>\n",
       "    <tr>\n",
       "      <th>3</th>\n",
       "      <td>170019</td>\n",
       "      <td>800</td>\n",
       "      <td>ANDERSON INSTRUMENT CO.</td>\n",
       "      <td>PO119193</td>\n",
       "      <td>36240S0505</td>\n",
       "      <td>36240S0505</td>\n",
       "      <td>NaN</td>\n",
       "      <td>NaN</td>\n",
       "      <td>NaN</td>\n",
       "      <td>0.02701</td>\n",
       "      <td>...</td>\n",
       "      <td>500</td>\n",
       "      <td>0</td>\n",
       "      <td>0</td>\n",
       "      <td>78.20</td>\n",
       "      <td>0</td>\n",
       "      <td>1</td>\n",
       "      <td>C</td>\n",
       "      <td>O</td>\n",
       "      <td>2016-01-04</td>\n",
       "      <td>0</td>\n",
       "    </tr>\n",
       "    <tr>\n",
       "      <th>4</th>\n",
       "      <td>170018</td>\n",
       "      <td>800</td>\n",
       "      <td>ANDERSON INSTRUMENT CO.</td>\n",
       "      <td>PO119386</td>\n",
       "      <td>44472B0001</td>\n",
       "      <td>44472B0001</td>\n",
       "      <td>NaN</td>\n",
       "      <td>NaN</td>\n",
       "      <td>NaN</td>\n",
       "      <td>0.19094</td>\n",
       "      <td>...</td>\n",
       "      <td>50</td>\n",
       "      <td>0</td>\n",
       "      <td>0</td>\n",
       "      <td>107.50</td>\n",
       "      <td>0</td>\n",
       "      <td>1</td>\n",
       "      <td>C</td>\n",
       "      <td>O</td>\n",
       "      <td>2016-01-04</td>\n",
       "      <td>0</td>\n",
       "    </tr>\n",
       "  </tbody>\n",
       "</table>\n",
       "<p>5 rows × 22 columns</p>\n",
       "</div>"
      ],
      "text/plain": [
       "     sono  custno                    cname    custpo          item  \\\n",
       "0  170023     800  ANDERSON INSTRUMENT CO.  PO121654    BB1P111A08   \n",
       "1  170022     800  ANDERSON INSTRUMENT CO.  PO123450  5115-15-H-ST   \n",
       "2  170020     800  ANDERSON INSTRUMENT CO.  PO123419          4778   \n",
       "3  170019     800  ANDERSON INSTRUMENT CO.  PO119193    36240S0505   \n",
       "4  170018     800  ANDERSON INSTRUMENT CO.  PO119386    44472B0001   \n",
       "\n",
       "      altitem  acustno acustpo acustname     cost   ...     qtyshp  qtylft  \\\n",
       "0  55408A0000      NaN     NaN       NaN  0.06260   ...       1000       0   \n",
       "1  36605H0005      NaN     NaN       NaN  0.03893   ...         74       0   \n",
       "2  42080A0001      NaN     NaN       NaN  0.42600   ...        200       0   \n",
       "3  36240S0505      NaN     NaN       NaN  0.02701   ...        500       0   \n",
       "4  44472B0001      NaN     NaN       NaN  0.19094   ...         50       0   \n",
       "\n",
       "   qtybo  extprice  shipqty  seq  sostat  sotype    created qtytoshp  \n",
       "0      0    160.00        0    1       C       O 2016-01-04        0  \n",
       "1      0      5.51        0    1       C       O 2016-01-04        0  \n",
       "2      0     99.36        0    1       C       O 2016-01-04        0  \n",
       "3      0     78.20        0    1       C       O 2016-01-04        0  \n",
       "4      0    107.50        0    1       C       O 2016-01-04        0  \n",
       "\n",
       "[5 rows x 22 columns]"
      ]
     },
     "execution_count": 30,
     "metadata": {},
     "output_type": "execute_result"
    }
   ],
   "source": [
    "df = pd.read_excel(xlsx, sheets[0])\n",
    "df.head()"
   ]
  },
  {
   "cell_type": "code",
   "execution_count": 32,
   "metadata": {},
   "outputs": [
    {
     "data": {
      "text/plain": [
       "Index(['sono', 'custno', 'cname', 'custpo', 'item', 'altitem', 'acustno',\n",
       "       'acustpo', 'acustname', 'cost', 'price', 'qtyord', 'qtyshp', 'qtylft',\n",
       "       'qtybo', 'extprice', 'shipqty', 'seq', 'sostat', 'sotype', 'created',\n",
       "       'qtytoshp'],\n",
       "      dtype='object')"
      ]
     },
     "execution_count": 32,
     "metadata": {},
     "output_type": "execute_result"
    }
   ],
   "source": [
    "df.columns"
   ]
  },
  {
   "cell_type": "code",
   "execution_count": 45,
   "metadata": {},
   "outputs": [
    {
     "data": {
      "text/plain": [
       "(34489, 22)"
      ]
     },
     "execution_count": 45,
     "metadata": {},
     "output_type": "execute_result"
    }
   ],
   "source": [
    "df.shape"
   ]
  },
  {
   "cell_type": "code",
   "execution_count": 52,
   "metadata": {},
   "outputs": [
    {
     "data": {
      "text/html": [
       "<div>\n",
       "<style scoped>\n",
       "    .dataframe tbody tr th:only-of-type {\n",
       "        vertical-align: middle;\n",
       "    }\n",
       "\n",
       "    .dataframe tbody tr th {\n",
       "        vertical-align: top;\n",
       "    }\n",
       "\n",
       "    .dataframe thead th {\n",
       "        text-align: right;\n",
       "    }\n",
       "</style>\n",
       "<table border=\"1\" class=\"dataframe\">\n",
       "  <thead>\n",
       "    <tr style=\"text-align: right;\">\n",
       "      <th></th>\n",
       "      <th>custno</th>\n",
       "      <th>item</th>\n",
       "      <th>qtyshp</th>\n",
       "      <th>cost</th>\n",
       "    </tr>\n",
       "  </thead>\n",
       "  <tbody>\n",
       "    <tr>\n",
       "      <th>0</th>\n",
       "      <td>800</td>\n",
       "      <td>BB1P111A08</td>\n",
       "      <td>1000</td>\n",
       "      <td>0.06260</td>\n",
       "    </tr>\n",
       "    <tr>\n",
       "      <th>1</th>\n",
       "      <td>800</td>\n",
       "      <td>5115-15-H-ST</td>\n",
       "      <td>74</td>\n",
       "      <td>0.03893</td>\n",
       "    </tr>\n",
       "    <tr>\n",
       "      <th>2</th>\n",
       "      <td>800</td>\n",
       "      <td>4778</td>\n",
       "      <td>200</td>\n",
       "      <td>0.42600</td>\n",
       "    </tr>\n",
       "    <tr>\n",
       "      <th>3</th>\n",
       "      <td>800</td>\n",
       "      <td>36240S0505</td>\n",
       "      <td>500</td>\n",
       "      <td>0.02701</td>\n",
       "    </tr>\n",
       "    <tr>\n",
       "      <th>4</th>\n",
       "      <td>800</td>\n",
       "      <td>44472B0001</td>\n",
       "      <td>50</td>\n",
       "      <td>0.19094</td>\n",
       "    </tr>\n",
       "  </tbody>\n",
       "</table>\n",
       "</div>"
      ],
      "text/plain": [
       "   custno          item  qtyshp     cost\n",
       "0     800    BB1P111A08    1000  0.06260\n",
       "1     800  5115-15-H-ST      74  0.03893\n",
       "2     800          4778     200  0.42600\n",
       "3     800    36240S0505     500  0.02701\n",
       "4     800    44472B0001      50  0.19094"
      ]
     },
     "execution_count": 52,
     "metadata": {},
     "output_type": "execute_result"
    }
   ],
   "source": [
    "data = df[['custno','item','qtyshp','cost']]\n",
    "data.head()"
   ]
  },
  {
   "cell_type": "code",
   "execution_count": 31,
   "metadata": {},
   "outputs": [
    {
     "data": {
      "text/plain": [
       "0            BB1P111A08\n",
       "1          5115-15-H-ST\n",
       "2                  4778\n",
       "3            36240S0505\n",
       "4            44472B0001\n",
       "5             AS568-132\n",
       "6            36240V1507\n",
       "7            26669A0001\n",
       "8          ARC.68-A-C14\n",
       "9          20000-450-12\n",
       "10           36240S0505\n",
       "11             44609-A2\n",
       "12              BLT1322\n",
       "13               700095\n",
       "14        4K0A2-05C-12V\n",
       "15         81006-1EC-12\n",
       "16         PRC212CA12NP\n",
       "17         4Q000-470-G3\n",
       "18        4M0A3-030-32P\n",
       "19         81007-TPP-12\n",
       "20         20020-010-31\n",
       "21        1E000-640-12S\n",
       "22        1C000-950-34W\n",
       "23         85010-1EC-12\n",
       "24               703355\n",
       "25         4M0A3-05C-12\n",
       "26           MTL-S240-2\n",
       "27             542-K-SS\n",
       "28       14005-054-12TP\n",
       "29               129018\n",
       "              ...      \n",
       "34459      12004-054-40\n",
       "34460        AACS-04-08\n",
       "34461      08004-05C-40\n",
       "34462            7335-3\n",
       "34463      513900032-40\n",
       "34464          5182K681\n",
       "34465      24032-060-60\n",
       "34466      24112-350-12\n",
       "34467      1G064-070-12\n",
       "34468      1I040-070-12\n",
       "34469      24000-450-12\n",
       "34470     1G000-630-12S\n",
       "34471      94016-790-12\n",
       "34472       09330006122\n",
       "34473      94002-860-80\n",
       "34474            M11044\n",
       "34475     NAS1130-4FL10\n",
       "34476     08006-030-40M\n",
       "34477     08004-030-40M\n",
       "34478     12004-030-40M\n",
       "34479      28064-060-40\n",
       "34480      28000-450-40\n",
       "34481      1I000-610-40\n",
       "34482      12006-059-40\n",
       "34483      MS16629-4102\n",
       "34484       CS12071-015\n",
       "34485      MS16629-4102\n",
       "34486        MS9390-080\n",
       "34487        44390A0001\n",
       "34488         AS568-132\n",
       "Name: item, Length: 34489, dtype: object"
      ]
     },
     "execution_count": 31,
     "metadata": {},
     "output_type": "execute_result"
    }
   ],
   "source": []
  },
  {
   "cell_type": "code",
   "execution_count": 12,
   "metadata": {},
   "outputs": [
    {
     "data": {
      "image/png": "[encoded data removed]",
      "text/plain": [
       "<Figure size 432x288 with 1 Axes>"
      ]
     },
     "metadata": {},
     "output_type": "display_data"
    }
   ],
   "source": [
    "_ = plt.hist(df['paidamt'])\n",
    "_ = plt.xlabel('$ Collected')\n",
    "_ = plt.ylabel('Count')\n",
    "plt.show()"
   ]
  },
  {
   "cell_type": "code",
   "execution_count": 13,
   "metadata": {},
   "outputs": [
    {
     "data": {
      "image/png": "[encoded data removed]",
      "text/plain": [
       "<Figure size 432x288 with 1 Axes>"
      ]
     },
     "metadata": {},
     "output_type": "display_data"
    }
   ],
   "source": [
    "plt.gcf().clear()\n",
    "sns.set()\n",
    "bins = [0, 50, 100, 150, 200, 250, 300, 350, 400, 450, 500, 1000, 10000, 100000]\n",
    "_ = plt.hist(df['paidamt'], bins=bins)\n",
    "_ = plt.xlabel('$ Collected')\n",
    "_ = plt.ylabel('Count')\n",
    "plt.show()"
   ]
  },
  {
   "cell_type": "code",
   "execution_count": 14,
   "metadata": {},
   "outputs": [
    {
     "data": {
      "image/png": "[encoded data removed]",
      "text/plain": [
       "<Figure size 432x288 with 1 Axes>"
      ]
     },
     "metadata": {},
     "output_type": "display_data"
    }
   ],
   "source": [
    "plt.gcf().clear()\n",
    "_ = plt.hist(df['paidamt'], bins=100)\n",
    "_ = plt.xlabel('$ Collected')\n",
    "_ = plt.ylabel('Count')\n",
    "plt.show()"
   ]
  },
  {
   "cell_type": "code",
   "execution_count": null,
   "metadata": {},
   "outputs": [],
   "source": [
    "plt.gcf().clear()\n",
    "df_adjusted = df[(df['paidamt'] >= 0)         & (df['paidamt']        <= 10000)]\n",
    "_ = plt.hist(df_adjusted['paidamt'], bins=50)\n",
    "_ = plt.xlabel('$ Collected')\n",
    "_ = plt.ylabel('Count')\n",
    "plt.show()"
   ]
  },
  {
   "cell_type": "code",
   "execution_count": null,
   "metadata": {},
   "outputs": [],
   "source": [
    "plt.gcf().clear()\n",
    "df_adjusted = df[(df['paidamt'] >= 0) & (df['paidamt'] <= 1000)]\n",
    "_ = plt.hist(df_adjusted['paidamt'], bins=50)\n",
    "_ = plt.xlabel('$ Collected')\n",
    "_ = plt.ylabel('Count')\n",
    "plt.show()"
   ]
  },
  {
   "cell_type": "code",
   "execution_count": null,
   "metadata": {},
   "outputs": [],
   "source": [
    "plt.gcf().clear()\n",
    "_ = sns.swarmplot(x='company', y='paidamt', data=df_adjusted)\n",
    "_ = plt.xlabel('Customer')\n",
    "_ = plt.ylabel('Spend')\n",
    "plt.show()"
   ]
  },
  {
   "cell_type": "code",
   "execution_count": null,
   "metadata": {},
   "outputs": [],
   "source": [
    "plt.gcf().clear()\n",
    "max_purchase = 10000\n",
    "vendor = ['ADVANCED MOTORS AND DRIVES INC.', 'WELCH ALLYN/ ACCTS PAYABLE']\n",
    "df_adjusted = df[(df['paidamt'] >= 0) & (df['paidamt'] <= max_purchase)]\n",
    "df_adjusted_vendor = df_adjusted.loc[df['company'].isin(vendor)]\n",
    "_ = sns.swarmplot(x='company', y='paidamt', data=df_adjusted_vendor)\n",
    "_ = plt.xlabel('Customer')\n",
    "_ = plt.ylabel('Spend')\n",
    "plt.show()"
   ]
  },
  {
   "cell_type": "code",
   "execution_count": null,
   "metadata": {},
   "outputs": [],
   "source": [
    "plt.gcf().clear()\n",
    "vendor = ['ADVANCED MOTORS AND DRIVES INC.']\n",
    "df_adjusted_vendor = df_adjusted.loc[df['company'].isin(vendor)]\n",
    "x = np.sort(df_adjusted_vendor['paidamt'])\n",
    "y = np.arange(1, len(x)+1) / len(x)\n",
    "_ = plt.plot(x, y, marker='.', linestyle='none')\n",
    "_ = plt.xlabel('Sales')\n",
    "_ = plt.ylabel('ECDF')\n",
    "plt.margins(0.02)\n",
    "plt.show()"
   ]
  },
  {
   "cell_type": "code",
   "execution_count": null,
   "metadata": {},
   "outputs": [],
   "source": []
  }
 ],
 "metadata": {
  "kernelspec": {
   "display_name": "Python 3",
   "language": "python",
   "name": "python3"
  },
  "language_info": {
   "codemirror_mode": {
    "name": "ipython",
    "version": 3
   },
   "file_extension": ".py",
   "mimetype": "text/x-python",
   "name": "python",
   "nbconvert_exporter": "python",
   "pygments_lexer": "ipython3",
   "version": "3.6.6"
  }
 },
 "nbformat": 4,
 "nbformat_minor": 2
}
